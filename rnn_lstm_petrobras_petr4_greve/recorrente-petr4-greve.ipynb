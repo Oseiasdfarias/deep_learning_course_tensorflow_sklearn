{
 "cells": [
  {
   "cell_type": "markdown",
   "id": "6648f2bc",
   "metadata": {},
   "source": [
    "# Rede neural recorrente \n",
    "## para prever preços das ações da petrobrás, com dados do período da greve"
   ]
  },
  {
   "cell_type": "code",
   "execution_count": 31,
   "id": "2943e8ed",
   "metadata": {},
   "outputs": [],
   "source": [
    "from keras.models import Sequential\n",
    "from keras.layers import Dense, Dropout, LSTM\n",
    "from sklearn.preprocessing import MinMaxScaler\n",
    "import numpy as np\n",
    "import pandas as pd "
   ]
  },
  {
   "cell_type": "code",
   "execution_count": 6,
   "id": "a71610b3",
   "metadata": {},
   "outputs": [
    {
     "data": {
      "text/html": [
       "<div>\n",
       "<style scoped>\n",
       "    .dataframe tbody tr th:only-of-type {\n",
       "        vertical-align: middle;\n",
       "    }\n",
       "\n",
       "    .dataframe tbody tr th {\n",
       "        vertical-align: top;\n",
       "    }\n",
       "\n",
       "    .dataframe thead th {\n",
       "        text-align: right;\n",
       "    }\n",
       "</style>\n",
       "<table border=\"1\" class=\"dataframe\">\n",
       "  <thead>\n",
       "    <tr style=\"text-align: right;\">\n",
       "      <th></th>\n",
       "      <th>Date</th>\n",
       "      <th>Open</th>\n",
       "      <th>High</th>\n",
       "      <th>Low</th>\n",
       "      <th>Close</th>\n",
       "      <th>Adj Close</th>\n",
       "      <th>Volume</th>\n",
       "    </tr>\n",
       "  </thead>\n",
       "  <tbody>\n",
       "    <tr>\n",
       "      <th>0</th>\n",
       "      <td>2013-01-02</td>\n",
       "      <td>19.990000</td>\n",
       "      <td>20.209999</td>\n",
       "      <td>19.690001</td>\n",
       "      <td>19.690001</td>\n",
       "      <td>18.086271</td>\n",
       "      <td>30182600.0</td>\n",
       "    </tr>\n",
       "    <tr>\n",
       "      <th>1</th>\n",
       "      <td>2013-01-03</td>\n",
       "      <td>19.809999</td>\n",
       "      <td>20.400000</td>\n",
       "      <td>19.700001</td>\n",
       "      <td>20.400000</td>\n",
       "      <td>18.738441</td>\n",
       "      <td>30552600.0</td>\n",
       "    </tr>\n",
       "    <tr>\n",
       "      <th>2</th>\n",
       "      <td>2013-01-04</td>\n",
       "      <td>20.330000</td>\n",
       "      <td>20.620001</td>\n",
       "      <td>20.170000</td>\n",
       "      <td>20.430000</td>\n",
       "      <td>18.766001</td>\n",
       "      <td>36141000.0</td>\n",
       "    </tr>\n",
       "    <tr>\n",
       "      <th>3</th>\n",
       "      <td>2013-01-07</td>\n",
       "      <td>20.480000</td>\n",
       "      <td>20.670000</td>\n",
       "      <td>19.950001</td>\n",
       "      <td>20.080000</td>\n",
       "      <td>18.444506</td>\n",
       "      <td>28069600.0</td>\n",
       "    </tr>\n",
       "    <tr>\n",
       "      <th>4</th>\n",
       "      <td>2013-01-08</td>\n",
       "      <td>20.110001</td>\n",
       "      <td>20.230000</td>\n",
       "      <td>19.459999</td>\n",
       "      <td>19.500000</td>\n",
       "      <td>17.911745</td>\n",
       "      <td>29091300.0</td>\n",
       "    </tr>\n",
       "  </tbody>\n",
       "</table>\n",
       "</div>"
      ],
      "text/plain": [
       "         Date       Open       High        Low      Close  Adj Close      Volume\n",
       "0  2013-01-02  19.990000  20.209999  19.690001  19.690001  18.086271  30182600.0\n",
       "1  2013-01-03  19.809999  20.400000  19.700001  20.400000  18.738441  30552600.0\n",
       "2  2013-01-04  20.330000  20.620001  20.170000  20.430000  18.766001  36141000.0\n",
       "3  2013-01-07  20.480000  20.670000  19.950001  20.080000  18.444506  28069600.0\n",
       "4  2013-01-08  20.110001  20.230000  19.459999  19.500000  17.911745  29091300.0"
      ]
     },
     "execution_count": 6,
     "metadata": {},
     "output_type": "execute_result"
    }
   ],
   "source": [
    "# Carregando a base de dados da ação\n",
    "base = pd.read_csv(\"petr4_treinamento_ex.csv\")\n",
    "base.head()"
   ]
  },
  {
   "cell_type": "code",
   "execution_count": 8,
   "id": "be70af27",
   "metadata": {},
   "outputs": [
    {
     "data": {
      "text/plain": [
       "(1345, 7)"
      ]
     },
     "execution_count": 8,
     "metadata": {},
     "output_type": "execute_result"
    }
   ],
   "source": [
    "base.shape"
   ]
  },
  {
   "cell_type": "code",
   "execution_count": 11,
   "id": "585ca560",
   "metadata": {},
   "outputs": [],
   "source": [
    "# Removenvo dados faltantes\n",
    "base = base.dropna()"
   ]
  },
  {
   "cell_type": "code",
   "execution_count": 12,
   "id": "aac8e942",
   "metadata": {},
   "outputs": [
    {
     "data": {
      "text/plain": [
       "(1342, 7)"
      ]
     },
     "execution_count": 12,
     "metadata": {},
     "output_type": "execute_result"
    }
   ],
   "source": [
    "base.shape"
   ]
  },
  {
   "cell_type": "code",
   "execution_count": 15,
   "id": "6a71b3e4",
   "metadata": {},
   "outputs": [],
   "source": [
    "# Pegando a coluna OPEN da base de dados para fazer esse estudo de caso para criar o modelo de previsão de\n",
    "# preços\n",
    "\n",
    "base_train = base.iloc[:, 1:2].values"
   ]
  },
  {
   "cell_type": "code",
   "execution_count": 17,
   "id": "34b1efba",
   "metadata": {},
   "outputs": [],
   "source": [
    "# Nomalizando os valores dos dados\n",
    "normalizador = MinMaxScaler(feature_range=(0, 1))\n",
    "\n",
    "#Normalizando a base de treinamento\n",
    "base_train_normalizada = normalizador.fit_transform(base_train)"
   ]
  },
  {
   "cell_type": "markdown",
   "id": "ff47eedf",
   "metadata": {},
   "source": [
    "## Modelando os dados para que seja possível o uso de uma rede neural recorrente "
   ]
  },
  {
   "cell_type": "code",
   "execution_count": 18,
   "id": "3cf80cc3",
   "metadata": {},
   "outputs": [],
   "source": [
    "previsores = []\n",
    "preco_real = []\n",
    "for i in range(90, 1342):\n",
    "    previsores.append(base_train_normalizada[i-90:i, 0])\n",
    "    preco_real.append(base_train_normalizada[i, 0])"
   ]
  },
  {
   "cell_type": "code",
   "execution_count": 24,
   "id": "c5996783",
   "metadata": {},
   "outputs": [
    {
     "name": "stdout",
     "output_type": "stream",
     "text": [
      "<class 'list'>\n",
      "<class 'list'>\n"
     ]
    }
   ],
   "source": [
    "print(type(previsores))\n",
    "print(type(preco_real))"
   ]
  },
  {
   "cell_type": "markdown",
   "id": "5ad88515",
   "metadata": {},
   "source": [
    "### Transformando as linhas previsores e preco_real em arrays numpy"
   ]
  },
  {
   "cell_type": "code",
   "execution_count": 26,
   "id": "bb4a32d3",
   "metadata": {},
   "outputs": [
    {
     "name": "stdout",
     "output_type": "stream",
     "text": [
      "<class 'numpy.ndarray'>\n",
      "<class 'numpy.ndarray'>\n"
     ]
    }
   ],
   "source": [
    "previsores, preco_real = np.array(previsores), np.array(preco_real)\n",
    "\n",
    "print(type(previsores))\n",
    "print(type(preco_real))"
   ]
  },
  {
   "cell_type": "markdown",
   "id": "85da20c7",
   "metadata": {},
   "source": [
    "### Transformando a matriz para uma matriz válida para ser usada em algorítimos de rede neurais recorrentes"
   ]
  },
  {
   "cell_type": "code",
   "execution_count": 30,
   "id": "2a7650de",
   "metadata": {},
   "outputs": [],
   "source": [
    "previsores = np.reshape(previsores, (previsores.shape[0], previsores.shape[1], 1))"
   ]
  },
  {
   "cell_type": "markdown",
   "id": "ad05f3a4",
   "metadata": {},
   "source": [
    "# Estrutura da rede neural recorrente "
   ]
  },
  {
   "cell_type": "code",
   "execution_count": 35,
   "id": "796e1a04",
   "metadata": {},
   "outputs": [],
   "source": [
    "regressor = Sequential()\n",
    "\n",
    "regressor.add(LSTM(units = 100, return_sequences = True, input_shape = (previsores.shape[1], 1)))\n",
    "regressor.add(Dropout(0.3))\n",
    "\n",
    "regressor.add(LSTM(units=50, return_sequences = True))\n",
    "regressor.add(Dropout(0.3))\n",
    "\n",
    "regressor.add(LSTM(units=50, return_sequences = True))\n",
    "regressor.add(Dropout(0.3))\n",
    "\n",
    "regressor.add(LSTM(units=50))\n",
    "regressor.add(Dropout(0.3))\n",
    "\n",
    "regressor.add(Dense(units = 1, activation = \"linear\"))"
   ]
  },
  {
   "cell_type": "code",
   "execution_count": 36,
   "id": "0f9ef593",
   "metadata": {
    "collapsed": true
   },
   "outputs": [
    {
     "name": "stdout",
     "output_type": "stream",
     "text": [
      "Epoch 1/100\n",
      "40/40 [==============================] - 48s 675ms/step - loss: 0.0506 - mean_absolute_error: 0.1650\n",
      "Epoch 2/100\n",
      "40/40 [==============================] - 24s 608ms/step - loss: 0.0148 - mean_absolute_error: 0.0931\n",
      "Epoch 3/100\n",
      "40/40 [==============================] - 16s 400ms/step - loss: 0.0142 - mean_absolute_error: 0.0894\n",
      "Epoch 4/100\n",
      "40/40 [==============================] - 20s 496ms/step - loss: 0.0110 - mean_absolute_error: 0.0777\n",
      "Epoch 5/100\n",
      "40/40 [==============================] - 13s 315ms/step - loss: 0.0093 - mean_absolute_error: 0.0723\n",
      "Epoch 6/100\n",
      "40/40 [==============================] - 10s 252ms/step - loss: 0.0070 - mean_absolute_error: 0.0616\n",
      "Epoch 7/100\n",
      "40/40 [==============================] - 10s 253ms/step - loss: 0.0085 - mean_absolute_error: 0.0699\n",
      "Epoch 8/100\n",
      "40/40 [==============================] - 10s 254ms/step - loss: 0.0078 - mean_absolute_error: 0.0657\n",
      "Epoch 9/100\n",
      "40/40 [==============================] - 10s 254ms/step - loss: 0.0069 - mean_absolute_error: 0.0613\n",
      "Epoch 10/100\n",
      "40/40 [==============================] - 10s 255ms/step - loss: 0.0055 - mean_absolute_error: 0.0551\n",
      "Epoch 11/100\n",
      "40/40 [==============================] - 10s 255ms/step - loss: 0.0058 - mean_absolute_error: 0.0576\n",
      "Epoch 12/100\n",
      "40/40 [==============================] - 10s 253ms/step - loss: 0.0056 - mean_absolute_error: 0.0573\n",
      "Epoch 13/100\n",
      "40/40 [==============================] - 10s 254ms/step - loss: 0.0041 - mean_absolute_error: 0.0489\n",
      "Epoch 14/100\n",
      "40/40 [==============================] - 11s 264ms/step - loss: 0.0046 - mean_absolute_error: 0.0513\n",
      "Epoch 15/100\n",
      "40/40 [==============================] - 10s 258ms/step - loss: 0.0042 - mean_absolute_error: 0.0491\n",
      "Epoch 16/100\n",
      "40/40 [==============================] - 10s 255ms/step - loss: 0.0042 - mean_absolute_error: 0.0487\n",
      "Epoch 17/100\n",
      "40/40 [==============================] - 10s 253ms/step - loss: 0.0040 - mean_absolute_error: 0.0470\n",
      "Epoch 18/100\n",
      "40/40 [==============================] - 11s 275ms/step - loss: 0.0043 - mean_absolute_error: 0.0505\n",
      "Epoch 19/100\n",
      "40/40 [==============================] - 10s 255ms/step - loss: 0.0034 - mean_absolute_error: 0.0438\n",
      "Epoch 20/100\n",
      "40/40 [==============================] - 10s 254ms/step - loss: 0.0034 - mean_absolute_error: 0.0442\n",
      "Epoch 21/100\n",
      "40/40 [==============================] - 10s 260ms/step - loss: 0.0032 - mean_absolute_error: 0.0435\n",
      "Epoch 22/100\n",
      "40/40 [==============================] - 10s 260ms/step - loss: 0.0035 - mean_absolute_error: 0.0448\n",
      "Epoch 23/100\n",
      "40/40 [==============================] - 10s 255ms/step - loss: 0.0031 - mean_absolute_error: 0.0428\n",
      "Epoch 24/100\n",
      "40/40 [==============================] - 10s 254ms/step - loss: 0.0033 - mean_absolute_error: 0.0426\n",
      "Epoch 25/100\n",
      "40/40 [==============================] - 10s 254ms/step - loss: 0.0034 - mean_absolute_error: 0.0446\n",
      "Epoch 26/100\n",
      "40/40 [==============================] - 10s 255ms/step - loss: 0.0029 - mean_absolute_error: 0.0407\n",
      "Epoch 27/100\n",
      "40/40 [==============================] - 10s 255ms/step - loss: 0.0028 - mean_absolute_error: 0.0399\n",
      "Epoch 28/100\n",
      "40/40 [==============================] - 10s 255ms/step - loss: 0.0028 - mean_absolute_error: 0.0403\n",
      "Epoch 29/100\n",
      "40/40 [==============================] - 10s 254ms/step - loss: 0.0032 - mean_absolute_error: 0.0412\n",
      "Epoch 30/100\n",
      "40/40 [==============================] - 10s 255ms/step - loss: 0.0027 - mean_absolute_error: 0.0394\n",
      "Epoch 31/100\n",
      "40/40 [==============================] - 10s 254ms/step - loss: 0.0025 - mean_absolute_error: 0.0375\n",
      "Epoch 32/100\n",
      "40/40 [==============================] - 10s 256ms/step - loss: 0.0025 - mean_absolute_error: 0.0381\n",
      "Epoch 33/100\n",
      "40/40 [==============================] - 10s 255ms/step - loss: 0.0026 - mean_absolute_error: 0.0383\n",
      "Epoch 34/100\n",
      "40/40 [==============================] - 10s 260ms/step - loss: 0.0030 - mean_absolute_error: 0.0416\n",
      "Epoch 35/100\n",
      "40/40 [==============================] - 10s 258ms/step - loss: 0.0025 - mean_absolute_error: 0.0384\n",
      "Epoch 36/100\n",
      "40/40 [==============================] - 10s 256ms/step - loss: 0.0021 - mean_absolute_error: 0.0351\n",
      "Epoch 37/100\n",
      "40/40 [==============================] - 10s 257ms/step - loss: 0.0024 - mean_absolute_error: 0.0373\n",
      "Epoch 38/100\n",
      "40/40 [==============================] - 10s 256ms/step - loss: 0.0025 - mean_absolute_error: 0.0373\n",
      "Epoch 39/100\n",
      "40/40 [==============================] - 10s 257ms/step - loss: 0.0025 - mean_absolute_error: 0.0387\n",
      "Epoch 40/100\n",
      "40/40 [==============================] - 10s 255ms/step - loss: 0.0021 - mean_absolute_error: 0.0349\n",
      "Epoch 41/100\n",
      "40/40 [==============================] - 10s 256ms/step - loss: 0.0020 - mean_absolute_error: 0.0340\n",
      "Epoch 42/100\n",
      "40/40 [==============================] - 11s 278ms/step - loss: 0.0022 - mean_absolute_error: 0.0361\n",
      "Epoch 43/100\n",
      "40/40 [==============================] - 10s 254ms/step - loss: 0.0022 - mean_absolute_error: 0.0351\n",
      "Epoch 44/100\n",
      "40/40 [==============================] - 10s 259ms/step - loss: 0.0020 - mean_absolute_error: 0.0335\n",
      "Epoch 45/100\n",
      "40/40 [==============================] - 10s 257ms/step - loss: 0.0021 - mean_absolute_error: 0.0346\n",
      "Epoch 46/100\n",
      "40/40 [==============================] - 10s 255ms/step - loss: 0.0021 - mean_absolute_error: 0.0343\n",
      "Epoch 47/100\n",
      "40/40 [==============================] - 10s 254ms/step - loss: 0.0022 - mean_absolute_error: 0.0357\n",
      "Epoch 48/100\n",
      "40/40 [==============================] - 10s 254ms/step - loss: 0.0025 - mean_absolute_error: 0.0364\n",
      "Epoch 49/100\n",
      "40/40 [==============================] - 10s 255ms/step - loss: 0.0022 - mean_absolute_error: 0.0334\n",
      "Epoch 50/100\n",
      "40/40 [==============================] - 10s 254ms/step - loss: 0.0022 - mean_absolute_error: 0.0351\n",
      "Epoch 51/100\n",
      "40/40 [==============================] - 10s 256ms/step - loss: 0.0020 - mean_absolute_error: 0.0334\n",
      "Epoch 52/100\n",
      "40/40 [==============================] - 10s 254ms/step - loss: 0.0018 - mean_absolute_error: 0.0327\n",
      "Epoch 53/100\n",
      "40/40 [==============================] - 10s 254ms/step - loss: 0.0021 - mean_absolute_error: 0.0336\n",
      "Epoch 54/100\n",
      "40/40 [==============================] - 10s 255ms/step - loss: 0.0019 - mean_absolute_error: 0.0335\n",
      "Epoch 55/100\n",
      "40/40 [==============================] - 10s 257ms/step - loss: 0.0018 - mean_absolute_error: 0.0314\n",
      "Epoch 56/100\n",
      "40/40 [==============================] - 10s 256ms/step - loss: 0.0019 - mean_absolute_error: 0.0329\n",
      "Epoch 57/100\n",
      "40/40 [==============================] - 11s 287ms/step - loss: 0.0018 - mean_absolute_error: 0.0316\n",
      "Epoch 58/100\n",
      "40/40 [==============================] - 10s 256ms/step - loss: 0.0023 - mean_absolute_error: 0.0363\n",
      "Epoch 59/100\n",
      "40/40 [==============================] - 10s 255ms/step - loss: 0.0019 - mean_absolute_error: 0.0326\n",
      "Epoch 60/100\n",
      "40/40 [==============================] - 10s 256ms/step - loss: 0.0020 - mean_absolute_error: 0.0339\n",
      "Epoch 61/100\n",
      "40/40 [==============================] - 10s 256ms/step - loss: 0.0019 - mean_absolute_error: 0.0324\n",
      "Epoch 62/100\n",
      "40/40 [==============================] - 10s 256ms/step - loss: 0.0018 - mean_absolute_error: 0.0320\n",
      "Epoch 63/100\n",
      "40/40 [==============================] - 10s 256ms/step - loss: 0.0019 - mean_absolute_error: 0.0333\n",
      "Epoch 64/100\n",
      "40/40 [==============================] - 10s 256ms/step - loss: 0.0019 - mean_absolute_error: 0.0328\n",
      "Epoch 65/100\n",
      "40/40 [==============================] - 10s 256ms/step - loss: 0.0016 - mean_absolute_error: 0.0306\n",
      "Epoch 66/100\n",
      "40/40 [==============================] - 10s 256ms/step - loss: 0.0016 - mean_absolute_error: 0.0302\n",
      "Epoch 67/100\n",
      "40/40 [==============================] - 10s 256ms/step - loss: 0.0017 - mean_absolute_error: 0.0303\n",
      "Epoch 68/100\n",
      "40/40 [==============================] - 10s 256ms/step - loss: 0.0018 - mean_absolute_error: 0.0323\n",
      "Epoch 69/100\n",
      "40/40 [==============================] - 10s 260ms/step - loss: 0.0017 - mean_absolute_error: 0.0308\n",
      "Epoch 70/100\n",
      "40/40 [==============================] - 10s 255ms/step - loss: 0.0019 - mean_absolute_error: 0.0317\n",
      "Epoch 71/100\n",
      "40/40 [==============================] - 10s 257ms/step - loss: 0.0018 - mean_absolute_error: 0.0303\n",
      "Epoch 72/100\n",
      "40/40 [==============================] - 10s 256ms/step - loss: 0.0016 - mean_absolute_error: 0.0295\n"
     ]
    },
    {
     "name": "stdout",
     "output_type": "stream",
     "text": [
      "Epoch 73/100\n",
      "40/40 [==============================] - 10s 256ms/step - loss: 0.0018 - mean_absolute_error: 0.0303\n",
      "Epoch 74/100\n",
      "40/40 [==============================] - 10s 251ms/step - loss: 0.0019 - mean_absolute_error: 0.0319\n",
      "Epoch 75/100\n",
      "40/40 [==============================] - 10s 253ms/step - loss: 0.0016 - mean_absolute_error: 0.0313\n",
      "Epoch 76/100\n",
      "40/40 [==============================] - 10s 252ms/step - loss: 0.0015 - mean_absolute_error: 0.0287\n",
      "Epoch 77/100\n",
      "40/40 [==============================] - 10s 252ms/step - loss: 0.0016 - mean_absolute_error: 0.0299\n",
      "Epoch 78/100\n",
      "40/40 [==============================] - 10s 253ms/step - loss: 0.0016 - mean_absolute_error: 0.0298\n",
      "Epoch 79/100\n",
      "40/40 [==============================] - 10s 253ms/step - loss: 0.0015 - mean_absolute_error: 0.0292\n",
      "Epoch 80/100\n",
      "40/40 [==============================] - 10s 255ms/step - loss: 0.0017 - mean_absolute_error: 0.0308\n",
      "Epoch 81/100\n",
      "40/40 [==============================] - 10s 254ms/step - loss: 0.0017 - mean_absolute_error: 0.0307\n",
      "Epoch 82/100\n",
      "40/40 [==============================] - 10s 253ms/step - loss: 0.0017 - mean_absolute_error: 0.0305\n",
      "Epoch 83/100\n",
      "40/40 [==============================] - 10s 255ms/step - loss: 0.0017 - mean_absolute_error: 0.0307\n",
      "Epoch 84/100\n",
      "40/40 [==============================] - 10s 252ms/step - loss: 0.0014 - mean_absolute_error: 0.0285\n",
      "Epoch 85/100\n",
      "40/40 [==============================] - 10s 254ms/step - loss: 0.0016 - mean_absolute_error: 0.0288\n",
      "Epoch 86/100\n",
      "40/40 [==============================] - 10s 254ms/step - loss: 0.0013 - mean_absolute_error: 0.0268\n",
      "Epoch 87/100\n",
      "40/40 [==============================] - 10s 252ms/step - loss: 0.0014 - mean_absolute_error: 0.0280\n",
      "Epoch 88/100\n",
      "40/40 [==============================] - 10s 252ms/step - loss: 0.0014 - mean_absolute_error: 0.0283\n",
      "Epoch 89/100\n",
      "40/40 [==============================] - 10s 253ms/step - loss: 0.0017 - mean_absolute_error: 0.0301\n",
      "Epoch 90/100\n",
      "40/40 [==============================] - 10s 254ms/step - loss: 0.0015 - mean_absolute_error: 0.0285\n",
      "Epoch 91/100\n",
      "40/40 [==============================] - 10s 253ms/step - loss: 0.0015 - mean_absolute_error: 0.0287\n",
      "Epoch 92/100\n",
      "40/40 [==============================] - 10s 255ms/step - loss: 0.0015 - mean_absolute_error: 0.0281\n",
      "Epoch 93/100\n",
      "40/40 [==============================] - 10s 252ms/step - loss: 0.0013 - mean_absolute_error: 0.0274\n",
      "Epoch 94/100\n",
      "40/40 [==============================] - 10s 252ms/step - loss: 0.0013 - mean_absolute_error: 0.0271\n",
      "Epoch 95/100\n",
      "40/40 [==============================] - 10s 252ms/step - loss: 0.0013 - mean_absolute_error: 0.0271\n",
      "Epoch 96/100\n",
      "40/40 [==============================] - 10s 253ms/step - loss: 0.0014 - mean_absolute_error: 0.0281\n",
      "Epoch 97/100\n",
      "40/40 [==============================] - 10s 252ms/step - loss: 0.0017 - mean_absolute_error: 0.0308\n",
      "Epoch 98/100\n",
      "40/40 [==============================] - 10s 252ms/step - loss: 0.0015 - mean_absolute_error: 0.0283\n",
      "Epoch 99/100\n",
      "40/40 [==============================] - 10s 253ms/step - loss: 0.0015 - mean_absolute_error: 0.0287\n",
      "Epoch 100/100\n",
      "40/40 [==============================] - 10s 253ms/step - loss: 0.0014 - mean_absolute_error: 0.0272\n"
     ]
    },
    {
     "data": {
      "text/plain": [
       "<tensorflow.python.keras.callbacks.History at 0x7f4d36190700>"
      ]
     },
     "execution_count": 36,
     "metadata": {},
     "output_type": "execute_result"
    }
   ],
   "source": [
    "# compilando o modelo \n",
    "\n",
    "regressor.compile(optimizer=\"rmsprop\",\n",
    "                  loss = \"mean_squared_error\",\n",
    "                  metrics=[\"mean_absolute_error\"])\n",
    "\n",
    "# Treimando o modelo\n",
    "regressor.fit(previsores, preco_real, epochs = 100, batch_size = 32)"
   ]
  },
  {
   "cell_type": "markdown",
   "id": "2b9b4c07",
   "metadata": {},
   "source": [
    "## Testando o modelo treinado"
   ]
  },
  {
   "cell_type": "code",
   "execution_count": 57,
   "id": "57bb8f02",
   "metadata": {},
   "outputs": [],
   "source": [
    "base_test = pd.read_csv(\"petr4_teste_ex.csv\")"
   ]
  },
  {
   "cell_type": "code",
   "execution_count": 58,
   "id": "16f92652",
   "metadata": {},
   "outputs": [
    {
     "data": {
      "text/plain": [
       "(19, 1)"
      ]
     },
     "execution_count": 58,
     "metadata": {},
     "output_type": "execute_result"
    }
   ],
   "source": [
    "#Estraindo a coluna OPEN para realizar o teste do modelo\n",
    "preco_real_test = base_test.iloc[:, 1:2].values\n",
    "preco_real_test.shape"
   ]
  },
  {
   "cell_type": "code",
   "execution_count": 59,
   "id": "ea82242c",
   "metadata": {},
   "outputs": [
    {
     "data": {
      "text/plain": [
       "numpy.ndarray"
      ]
     },
     "execution_count": 59,
     "metadata": {},
     "output_type": "execute_result"
    }
   ],
   "source": [
    "type(preco_real_test)"
   ]
  },
  {
   "cell_type": "markdown",
   "id": "cdc195c2",
   "metadata": {},
   "source": [
    "### Concatenando o atributo previsor OPEN da base de dados treino com a base de dados test"
   ]
  },
  {
   "cell_type": "code",
   "execution_count": 60,
   "id": "2659103c",
   "metadata": {},
   "outputs": [
    {
     "data": {
      "text/plain": [
       "(1361,)"
      ]
     },
     "execution_count": 60,
     "metadata": {},
     "output_type": "execute_result"
    }
   ],
   "source": [
    "base_completa = pd.concat((base[\"Open\"], base_test[\"Open\"]), axis = 0)\n",
    "base_completa.shape"
   ]
  },
  {
   "cell_type": "code",
   "execution_count": 61,
   "id": "ed4fca83",
   "metadata": {},
   "outputs": [
    {
     "data": {
      "text/plain": [
       "(109, 1)"
      ]
     },
     "execution_count": 61,
     "metadata": {},
     "output_type": "execute_result"
    }
   ],
   "source": [
    "entradas = base_completa[len(base_completa) - len(base_test) - 90:].values\n",
    "entradas = entradas.reshape(-1, 1)\n",
    "entradas.shape"
   ]
  },
  {
   "cell_type": "code",
   "execution_count": 62,
   "id": "00d9c6c1",
   "metadata": {},
   "outputs": [],
   "source": [
    "# Colocando os dados na mesma escala da base que foi usada para o treinamento da rede neural recorrente\n",
    "entradas = normalizador.transform(entradas)"
   ]
  },
  {
   "cell_type": "code",
   "execution_count": 65,
   "id": "880547d5",
   "metadata": {},
   "outputs": [
    {
     "name": "stdout",
     "output_type": "stream",
     "text": [
      "[[0.56803456 0.59265659 0.6112311  ... 0.86522678 0.68466518 0.71058315]\n",
      " [0.59265659 0.6112311  0.6095032  ... 0.68466518 0.71058315 0.64794821]\n",
      " [0.6112311  0.6095032  0.60734341 ... 0.71058315 0.64794821 0.59611231]\n",
      " ...\n",
      " [0.68120946 0.66306691 0.64060479 ... 0.46781857 0.45658747 0.43455724]\n",
      " [0.66306691 0.64060479 0.63974082 ... 0.45658747 0.43455724 0.50280778]\n",
      " [0.64060479 0.63974082 0.66090713 ... 0.43455724 0.50280778 0.51360691]]\n"
     ]
    }
   ],
   "source": [
    "# Criando as entradas para a LSTM\n",
    "x_test = []\n",
    "for i in range(90, 109):\n",
    "    x_test.append(entradas[i-90:i, 0])\n",
    "x_test = np.array(x_test)\n",
    "print(x_test)"
   ]
  },
  {
   "cell_type": "code",
   "execution_count": 66,
   "id": "53a09844",
   "metadata": {},
   "outputs": [
    {
     "data": {
      "text/plain": [
       "(19, 90, 1)"
      ]
     },
     "execution_count": 66,
     "metadata": {},
     "output_type": "execute_result"
    }
   ],
   "source": [
    "# Comvertendo as entradas para um modelo que a LSTM aceite como entrada\n",
    "x_test = np.reshape(x_test, (x_test.shape[0], x_test.shape[1], 1))\n",
    "x_test.shape"
   ]
  },
  {
   "cell_type": "markdown",
   "id": "51d344f8",
   "metadata": {},
   "source": [
    "## Fazendo as previsõesutilizando o modelo treinado anteriormente"
   ]
  },
  {
   "cell_type": "code",
   "execution_count": 67,
   "id": "b978196e",
   "metadata": {
    "collapsed": true
   },
   "outputs": [
    {
     "name": "stdout",
     "output_type": "stream",
     "text": [
      "[[0.65211844]\n",
      " [0.6294184 ]\n",
      " [0.5918045 ]\n",
      " [0.5909211 ]\n",
      " [0.6294176 ]\n",
      " [0.583924  ]\n",
      " [0.5623874 ]\n",
      " [0.5419928 ]\n",
      " [0.52391297]\n",
      " [0.5128212 ]\n",
      " [0.50195235]\n",
      " [0.4966874 ]\n",
      " [0.49370098]\n",
      " [0.49010527]\n",
      " [0.4814617 ]\n",
      " [0.47181812]\n",
      " [0.45737165]\n",
      " [0.48782897]\n",
      " [0.51076984]]\n"
     ]
    }
   ],
   "source": [
    "previsoes = regressor.predict(x_test)\n",
    "print(previsoes)"
   ]
  },
  {
   "cell_type": "code",
   "execution_count": 68,
   "id": "2a02da1b",
   "metadata": {
    "collapsed": true
   },
   "outputs": [
    {
     "name": "stdout",
     "output_type": "stream",
     "text": [
      "[[19.296543 ]\n",
      " [18.771036 ]\n",
      " [17.900274 ]\n",
      " [17.879824 ]\n",
      " [18.771017 ]\n",
      " [17.71784  ]\n",
      " [17.219269 ]\n",
      " [16.747133 ]\n",
      " [16.328587 ]\n",
      " [16.071812 ]\n",
      " [15.820197 ]\n",
      " [15.698315 ]\n",
      " [15.629178 ]\n",
      " [15.545938 ]\n",
      " [15.3458395]\n",
      " [15.122589 ]\n",
      " [14.788155 ]\n",
      " [15.493241 ]\n",
      " [16.024323 ]]\n"
     ]
    }
   ],
   "source": [
    "# desnormalizar as previsões\n",
    "previsoes = normalizador.inverse_transform(previsoes)\n",
    "print(previsoes)"
   ]
  },
  {
   "cell_type": "code",
   "execution_count": 70,
   "id": "f0e53996",
   "metadata": {
    "collapsed": true
   },
   "outputs": [
    {
     "name": "stdout",
     "output_type": "stream",
     "text": [
      "[[19.200001]\n",
      " [18.      ]\n",
      " [18.389999]\n",
      " [19.559999]\n",
      " [17.290001]\n",
      " [17.360001]\n",
      " [16.469999]\n",
      " [16.      ]\n",
      " [15.81    ]\n",
      " [15.5     ]\n",
      " [15.48    ]\n",
      " [15.42    ]\n",
      " [15.33    ]\n",
      " [15.03    ]\n",
      " [14.77    ]\n",
      " [14.26    ]\n",
      " [15.84    ]\n",
      " [16.09    ]\n",
      " [15.41    ]]\n"
     ]
    }
   ],
   "source": [
    "print(preco_real_test)"
   ]
  },
  {
   "cell_type": "code",
   "execution_count": 71,
   "id": "4551ea5b",
   "metadata": {},
   "outputs": [
    {
     "data": {
      "text/plain": [
       "16.640587"
      ]
     },
     "execution_count": 71,
     "metadata": {},
     "output_type": "execute_result"
    }
   ],
   "source": [
    "previsoes.mean()"
   ]
  },
  {
   "cell_type": "code",
   "execution_count": 72,
   "id": "ff3d067f",
   "metadata": {},
   "outputs": [
    {
     "data": {
      "text/plain": [
       "16.379473684210524"
      ]
     },
     "execution_count": 72,
     "metadata": {},
     "output_type": "execute_result"
    }
   ],
   "source": [
    "preco_real_test.mean()"
   ]
  },
  {
   "cell_type": "code",
   "execution_count": 75,
   "id": "5ad1b594",
   "metadata": {},
   "outputs": [
    {
     "data": {
      "text/plain": [
       "0.26111316881682"
      ]
     },
     "execution_count": 75,
     "metadata": {},
     "output_type": "execute_result"
    }
   ],
   "source": [
    "previsoes.mean() - preco_real_test.mean()"
   ]
  },
  {
   "cell_type": "markdown",
   "id": "bf088eca",
   "metadata": {},
   "source": [
    "# Gerando Gráficos para comparar as previsões com os preços reais"
   ]
  },
  {
   "cell_type": "code",
   "execution_count": 88,
   "id": "611220e6",
   "metadata": {},
   "outputs": [],
   "source": [
    "import matplotlib.pyplot as plt\n",
    "%matplotlib inline "
   ]
  },
  {
   "cell_type": "code",
   "execution_count": 94,
   "id": "f4e43fb2",
   "metadata": {},
   "outputs": [
    {
     "data": {
      "text/plain": [
       "<function matplotlib.pyplot.show(close=None, block=None)>"
      ]
     },
     "execution_count": 94,
     "metadata": {},
     "output_type": "execute_result"
    },
    {
     "data": {
      "image/png": "[encoded data removed]",
      "text/plain": [
       "<Figure size 648x360 with 1 Axes>"
      ]
     },
     "metadata": {
      "needs_background": "light"
     },
     "output_type": "display_data"
    }
   ],
   "source": [
    "plt.figure(figsize =(9, 5))\n",
    "plt.plot(preco_real_test, color = \"red\", label = \"Preço real\")\n",
    "plt.plot(previsoes, color = \"blue\", label = \"Previsões\")\n",
    "plt.title(\"Previsão do preço das ações\")\n",
    "plt.xlabel(\"Tempo\")\n",
    "plt.ylabel(\"Valor Yahoo\")\n",
    "plt.legend()\n",
    "plt.show"
   ]
  },
  {
   "cell_type": "code",
   "execution_count": null,
   "id": "22de31a0",
   "metadata": {},
   "outputs": [],
   "source": []
  }
 ],
 "metadata": {
  "kernelspec": {
   "display_name": "Python 3",
   "language": "python",
   "name": "python3"
  },
  "language_info": {
   "codemirror_mode": {
    "name": "ipython",
    "version": 3
   },
   "file_extension": ".py",
   "mimetype": "text/x-python",
   "name": "python",
   "nbconvert_exporter": "python",
   "pygments_lexer": "ipython3",
   "version": "3.8.5"
  }
 },
 "nbformat": 4,
 "nbformat_minor": 5
}
