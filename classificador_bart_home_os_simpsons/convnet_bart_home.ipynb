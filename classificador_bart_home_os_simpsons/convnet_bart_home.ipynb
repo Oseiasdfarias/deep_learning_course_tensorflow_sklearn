{
 "cells": [
  {
   "cell_type": "markdown",
   "metadata": {},
   "source": [
    "# Rede Neural Convolucional "
   ]
  },
  {
   "cell_type": "code",
   "execution_count": null,
   "metadata": {},
   "outputs": [],
   "source": []
  },
  {
   "cell_type": "code",
   "execution_count": 106,
   "metadata": {
    "id": "yD8LOihMf4md"
   },
   "outputs": [],
   "source": [
    "from keras.models import Sequential\n",
    "from keras.layers import Conv2D, Dense, Dropout, Flatten, MaxPooling2D\n",
    "from keras.layers.normalization import BatchNormalization\n",
    "from keras.preprocessing.image import ImageDataGenerator\n",
    "import numpy as np\n",
    "from keras.preprocessing import image"
   ]
  },
  {
   "cell_type": "markdown",
   "metadata": {
    "id": "6V_uFnPVjf3A"
   },
   "source": [
    "# Criando o modelo de **rede neural convolucional** para classificar gatos e cachorrros"
   ]
  },
  {
   "cell_type": "code",
   "execution_count": 107,
   "metadata": {
    "colab": {
     "base_uri": "https://localhost:8080/"
    },
    "id": "v_VRD0E2g9rd",
    "outputId": "6de6b0ae-be5d-4f1d-e0d4-7e1386e3be53"
   },
   "outputs": [
    {
     "name": "stdout",
     "output_type": "stream",
     "text": [
      "Model: \"sequential_10\"\n",
      "_________________________________________________________________\n",
      "Layer (type)                 Output Shape              Param #   \n",
      "=================================================================\n",
      "conv2d_21 (Conv2D)           (None, 126, 126, 32)      896       \n",
      "_________________________________________________________________\n",
      "batch_normalization_19 (Batc (None, 126, 126, 32)      128       \n",
      "_________________________________________________________________\n",
      "max_pooling2d_21 (MaxPooling (None, 63, 63, 32)        0         \n",
      "_________________________________________________________________\n",
      "conv2d_22 (Conv2D)           (None, 61, 61, 32)        9248      \n",
      "_________________________________________________________________\n",
      "batch_normalization_20 (Batc (None, 61, 61, 32)        128       \n",
      "_________________________________________________________________\n",
      "max_pooling2d_22 (MaxPooling (None, 30, 30, 32)        0         \n",
      "_________________________________________________________________\n",
      "flatten_10 (Flatten)         (None, 28800)             0         \n",
      "_________________________________________________________________\n",
      "dense_25 (Dense)             (None, 128)               3686528   \n",
      "_________________________________________________________________\n",
      "dropout_15 (Dropout)         (None, 128)               0         \n",
      "_________________________________________________________________\n",
      "dense_26 (Dense)             (None, 1)                 129       \n",
      "=================================================================\n",
      "Total params: 3,697,057\n",
      "Trainable params: 3,696,929\n",
      "Non-trainable params: 128\n",
      "_________________________________________________________________\n"
     ]
    }
   ],
   "source": [
    "model = Sequential()\n",
    "\n",
    "model.add(Conv2D(32, (3, 3), input_shape=(128, 128, 3), activation=\"relu\"))\n",
    "model.add(BatchNormalization())\n",
    "model.add(MaxPooling2D(pool_size=(2, 2)))\n",
    "\n",
    "model.add(Conv2D(32, (3, 3), activation=\"relu\"))\n",
    "model.add(BatchNormalization())\n",
    "model.add(MaxPooling2D(pool_size=(2, 2)))\n",
    "\n",
    "model.add(Flatten())\n",
    "\n",
    "model.add(Dense(units=128, activation=\"relu\"))\n",
    "model.add(Dropout(0.2))\n",
    "\n",
    "model.add(Dense(units=1, activation=\"sigmoid\"))\n",
    "\n",
    "model.compile(optimizer=\"adam\", loss=\"binary_crossentropy\", metrics=[\"accuracy\"])\n",
    "\n",
    "model.summary()\n"
   ]
  },
  {
   "cell_type": "markdown",
   "metadata": {
    "id": "4kN8BMAljsWq"
   },
   "source": [
    "# **Augumentation** para almentar a quantidade de imagem de um dataset de trainamento\n",
    "Usado aquando a quantidade de imagem de treinamento não é muito grande"
   ]
  },
  {
   "cell_type": "code",
   "execution_count": 116,
   "metadata": {
    "id": "cmCM41xpi2yb"
   },
   "outputs": [],
   "source": [
    "gimage_train = ImageDataGenerator(rescale=1./255,\n",
    "                                  rotation_range=7,\n",
    "                                  horizontal_flip=True,\n",
    "                                  shear_range=0.2,\n",
    "                                  height_shift_range=0.07,\n",
    "                                  zoom_range=0.2)\n",
    "\n",
    "gimage_test = ImageDataGenerator(rescale=1./255)"
   ]
  },
  {
   "cell_type": "code",
   "execution_count": 117,
   "metadata": {
    "id": "LgGa1PvLlK5s"
   },
   "outputs": [
    {
     "name": "stdout",
     "output_type": "stream",
     "text": [
      "Found 196 images belonging to 2 classes.\n"
     ]
    }
   ],
   "source": [
    "base_train = gimage_train.flow_from_directory(\"dataset_personagens/training_set/\",\n",
    "                                              target_size=(128, 128),\n",
    "                                              batch_size=1,\n",
    "                                             class_mode=\"binary\")"
   ]
  },
  {
   "cell_type": "code",
   "execution_count": 118,
   "metadata": {},
   "outputs": [
    {
     "name": "stdout",
     "output_type": "stream",
     "text": [
      "Found 73 images belonging to 2 classes.\n"
     ]
    }
   ],
   "source": [
    "base_test = gimage_test.flow_from_directory(\"dataset_personagens/test_set/\",\n",
    "                                            target_size=(128, 128),\n",
    "                                            batch_size=1,\n",
    "                                            class_mode=\"binary\")"
   ]
  },
  {
   "cell_type": "code",
   "execution_count": 119,
   "metadata": {
    "scrolled": false
   },
   "outputs": [
    {
     "name": "stdout",
     "output_type": "stream",
     "text": [
      "Epoch 1/10\n",
      "\r",
      "  1/196 [..............................] - ETA: 15s - loss: 0.0010 - accuracy: 1.0000"
     ]
    },
    {
     "name": "stderr",
     "output_type": "stream",
     "text": [
      "/home/bits/Courses/IA/deep_learning_course/venv/lib/python3.8/site-packages/tensorflow/python/keras/engine/training.py:1844: UserWarning: `Model.fit_generator` is deprecated and will be removed in a future version. Please use `Model.fit`, which supports generators.\n",
      "  warnings.warn('`Model.fit_generator` is deprecated and '\n"
     ]
    },
    {
     "name": "stdout",
     "output_type": "stream",
     "text": [
      "196/196 [==============================] - 16s 79ms/step - loss: 1.9699 - accuracy: 0.6633 - val_loss: 7.2463 - val_accuracy: 0.5479\n",
      "Epoch 2/10\n",
      "196/196 [==============================] - 16s 81ms/step - loss: 0.8643 - accuracy: 0.8061 - val_loss: 1.7581 - val_accuracy: 0.6986\n",
      "Epoch 3/10\n",
      "196/196 [==============================] - 16s 80ms/step - loss: 0.7292 - accuracy: 0.7398 - val_loss: 1.7307 - val_accuracy: 0.7534\n",
      "Epoch 4/10\n",
      "196/196 [==============================] - 15s 79ms/step - loss: 1.9654 - accuracy: 0.7041 - val_loss: 0.5703 - val_accuracy: 0.8219\n",
      "Epoch 5/10\n",
      "196/196 [==============================] - 15s 79ms/step - loss: 0.5474 - accuracy: 0.8163 - val_loss: 0.6485 - val_accuracy: 0.6986\n",
      "Epoch 6/10\n",
      "196/196 [==============================] - 16s 82ms/step - loss: 0.5892 - accuracy: 0.8214 - val_loss: 0.8101 - val_accuracy: 0.7671\n",
      "Epoch 7/10\n",
      "196/196 [==============================] - 16s 80ms/step - loss: 0.4325 - accuracy: 0.8112 - val_loss: 0.5770 - val_accuracy: 0.8630\n",
      "Epoch 8/10\n",
      "196/196 [==============================] - 16s 80ms/step - loss: 0.3740 - accuracy: 0.8673 - val_loss: 1.0465 - val_accuracy: 0.6712\n",
      "Epoch 9/10\n",
      "196/196 [==============================] - 15s 78ms/step - loss: 0.4932 - accuracy: 0.8622 - val_loss: 1.0485 - val_accuracy: 0.7260\n",
      "Epoch 10/10\n",
      "196/196 [==============================] - 16s 80ms/step - loss: 0.5290 - accuracy: 0.8673 - val_loss: 0.6228 - val_accuracy: 0.7945\n"
     ]
    },
    {
     "data": {
      "text/plain": [
       "<tensorflow.python.keras.callbacks.History at 0x7f1c7880a520>"
      ]
     },
     "execution_count": 119,
     "metadata": {},
     "output_type": "execute_result"
    }
   ],
   "source": [
    "model.fit_generator(base_train,\n",
    "                    steps_per_epoch=196,\n",
    "                    epochs=10,\n",
    "                    validation_data=base_test)"
   ]
  },
  {
   "cell_type": "code",
   "execution_count": 129,
   "metadata": {},
   "outputs": [
    {
     "data": {
      "text/plain": [
       "(1, 128, 128, 3)"
      ]
     },
     "execution_count": 129,
     "metadata": {},
     "output_type": "execute_result"
    }
   ],
   "source": [
    "image_test = image.load_img(\"dataset_personagens/test_set/homer/homer49.bmp\", target_size=(128, 128))\n",
    "image_test = image.img_to_array(image_test)\n",
    "image_test /= 255\n",
    "image_test = np.expand_dims(image_test, axis= 0)\n",
    "image_test.shape\n"
   ]
  },
  {
   "cell_type": "code",
   "execution_count": 130,
   "metadata": {},
   "outputs": [
    {
     "name": "stdout",
     "output_type": "stream",
     "text": [
      "[[0.7247357]]\n",
      "[[ True]]\n"
     ]
    }
   ],
   "source": [
    "previsao = model.predict(image_test)\n",
    "print(previsao)\n",
    "previsao = (previsao > 0.5)\n",
    "print(previsao)"
   ]
  },
  {
   "cell_type": "code",
   "execution_count": 131,
   "metadata": {},
   "outputs": [
    {
     "data": {
      "text/plain": [
       "{'bart': 0, 'homer': 1}"
      ]
     },
     "execution_count": 131,
     "metadata": {},
     "output_type": "execute_result"
    }
   ],
   "source": [
    "base_train.class_indices"
   ]
  },
  {
   "cell_type": "code",
   "execution_count": null,
   "metadata": {},
   "outputs": [],
   "source": []
  }
 ],
 "metadata": {
  "colab": {
   "name": "cat_dogs.ipynb",
   "provenance": []
  },
  "kernelspec": {
   "display_name": "Python 3",
   "language": "python",
   "name": "python3"
  },
  "language_info": {
   "codemirror_mode": {
    "name": "ipython",
    "version": 3
   },
   "file_extension": ".py",
   "mimetype": "text/x-python",
   "name": "python",
   "nbconvert_exporter": "python",
   "pygments_lexer": "ipython3",
   "version": "3.8.5"
  }
 },
 "nbformat": 4,
 "nbformat_minor": 1
}
