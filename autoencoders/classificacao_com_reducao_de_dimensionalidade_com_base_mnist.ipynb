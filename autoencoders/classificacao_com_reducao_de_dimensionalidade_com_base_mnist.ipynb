{
 "cells": [
  {
   "cell_type": "markdown",
   "id": "f63b85dd",
   "metadata": {},
   "source": [
    "# Redução de Dimensionalidade Aplicada a Base MNIST"
   ]
  },
  {
   "cell_type": "code",
   "execution_count": 4,
   "id": "7c91b898",
   "metadata": {},
   "outputs": [],
   "source": [
    "import matplotlib.pyplot as plt\n",
    "import numpy as np\n",
    "from keras.datasets import mnist\n",
    "from keras.models import Model, Sequential\n",
    "from keras.layers import Input, Dense\n",
    "from keras.utils import np_utils"
   ]
  },
  {
   "cell_type": "code",
   "execution_count": 5,
   "id": "f29ad7e2",
   "metadata": {},
   "outputs": [
    {
     "data": {
      "text/plain": [
       "(60000, 28, 28)"
      ]
     },
     "execution_count": 5,
     "metadata": {},
     "output_type": "execute_result"
    }
   ],
   "source": [
    "(prev_train, class_train), (prev_test, class_test) = mnist.load_data()\n",
    "prev_train.shape"
   ]
  },
  {
   "cell_type": "markdown",
   "id": "9fe6498c",
   "metadata": {},
   "source": [
    "### Normalizando os valores entre 0 e 1"
   ]
  },
  {
   "cell_type": "code",
   "execution_count": 6,
   "id": "49912dd2",
   "metadata": {},
   "outputs": [],
   "source": [
    "prev_train = prev_train.astype(\"float32\") / 255\n",
    "prev_test = prev_test.astype(\"float32\") / 255"
   ]
  },
  {
   "cell_type": "code",
   "execution_count": 32,
   "id": "eea99f65",
   "metadata": {},
   "outputs": [
    {
     "name": "stdout",
     "output_type": "stream",
     "text": [
      "(60000, 784) (10000, 784)\n",
      "(60000,) (10000,)\n"
     ]
    }
   ],
   "source": [
    "print(prev_train.shape, prev_test.shape)\n",
    "print(class_train.shape, class_test.shape)"
   ]
  },
  {
   "cell_type": "markdown",
   "id": "bfa2e704",
   "metadata": {},
   "source": [
    "## codificando as classes para o tipo dummy"
   ]
  },
  {
   "cell_type": "code",
   "execution_count": 33,
   "id": "414a0073",
   "metadata": {},
   "outputs": [],
   "source": [
    "class_dummy_train = np_utils.to_categorical(class_train)\n",
    "class_dummy_test = np_utils.to_categorical(class_test)"
   ]
  },
  {
   "cell_type": "code",
   "execution_count": 34,
   "id": "4375f1ad",
   "metadata": {},
   "outputs": [
    {
     "name": "stdout",
     "output_type": "stream",
     "text": [
      "(60000, 10) (10000, 10)\n"
     ]
    }
   ],
   "source": [
    "print(class_dummy_train.shape, class_dummy_test.shape)"
   ]
  },
  {
   "cell_type": "markdown",
   "id": "f148293e",
   "metadata": {},
   "source": [
    "### Usando o reshape para modificar a estrutura da base de dados"
   ]
  },
  {
   "cell_type": "code",
   "execution_count": 12,
   "id": "b5de9850",
   "metadata": {},
   "outputs": [
    {
     "data": {
      "text/plain": [
       "(60000, 784)"
      ]
     },
     "execution_count": 12,
     "metadata": {},
     "output_type": "execute_result"
    }
   ],
   "source": [
    "prev_train = prev_train.reshape((len(prev_train), np.prod(prev_train.shape[1:])))\n",
    "prev_train.shape"
   ]
  },
  {
   "cell_type": "code",
   "execution_count": 13,
   "id": "3215751b",
   "metadata": {},
   "outputs": [
    {
     "data": {
      "text/plain": [
       "(10000, 784)"
      ]
     },
     "execution_count": 13,
     "metadata": {},
     "output_type": "execute_result"
    }
   ],
   "source": [
    "prev_test = prev_test.reshape((len(prev_test), np.prod(prev_test.shape[1:])))\n",
    "prev_test.shape"
   ]
  },
  {
   "cell_type": "markdown",
   "id": "4cca840f",
   "metadata": {},
   "source": [
    "# Criando o Autoencoder da base de dados e aplicando algorítimo de classificação"
   ]
  },
  {
   "cell_type": "markdown",
   "id": "b2c5b444",
   "metadata": {},
   "source": [
    "Para a entrada vamos usar os 784 pixels que foram calculados\n",
    "na camada oculta vamos colocar 32 neurónios e na camada de saida vamos colocar os mesmo 784 pixels que foram\n",
    "colocados na camada de entrada do modelo de Autoencoder.\n",
    "\n",
    "fator de compactação\n",
    "\n",
    "784 / 32 = 24.5"
   ]
  },
  {
   "cell_type": "code",
   "execution_count": 14,
   "id": "6ad97e39",
   "metadata": {},
   "outputs": [
    {
     "name": "stdout",
     "output_type": "stream",
     "text": [
      "Model: \"sequential\"\n",
      "_________________________________________________________________\n",
      "Layer (type)                 Output Shape              Param #   \n",
      "=================================================================\n",
      "dense (Dense)                (None, 32)                25120     \n",
      "_________________________________________________________________\n",
      "dense_1 (Dense)              (None, 784)               25872     \n",
      "=================================================================\n",
      "Total params: 50,992\n",
      "Trainable params: 50,992\n",
      "Non-trainable params: 0\n",
      "_________________________________________________________________\n"
     ]
    }
   ],
   "source": [
    "autoencoder = Sequential()\n",
    "\n",
    "# Camada de entrada com a quantidades de neurónio da camada oculta\n",
    "autoencoder.add(Dense(units = 32, activation = \"relu\", input_dim = 784))\n",
    "\n",
    "# Camada de saída de rede\n",
    "autoencoder.add(Dense(units = 784, activation = \"sigmoid\"))\n",
    "\n",
    "autoencoder.summary()"
   ]
  },
  {
   "cell_type": "code",
   "execution_count": 15,
   "id": "69f107cf",
   "metadata": {},
   "outputs": [],
   "source": [
    "# Compilando o modelo\n",
    "autoencoder.compile(optimizer = \"adamax\", loss='mse')"
   ]
  },
  {
   "cell_type": "code",
   "execution_count": 16,
   "id": "fcdddef4",
   "metadata": {
    "scrolled": true
   },
   "outputs": [
    {
     "name": "stdout",
     "output_type": "stream",
     "text": [
      "Epoch 1/50\n",
      "235/235 [==============================] - 7s 19ms/step - loss: 0.1242 - val_loss: 0.0576\n",
      "Epoch 2/50\n",
      "235/235 [==============================] - 4s 18ms/step - loss: 0.0534 - val_loss: 0.0432\n",
      "Epoch 3/50\n",
      "235/235 [==============================] - 5s 20ms/step - loss: 0.0417 - val_loss: 0.0365\n",
      "Epoch 4/50\n",
      "235/235 [==============================] - 5s 23ms/step - loss: 0.0357 - val_loss: 0.0319\n",
      "Epoch 5/50\n",
      "235/235 [==============================] - 6s 24ms/step - loss: 0.0313 - val_loss: 0.0282\n",
      "Epoch 6/50\n",
      "235/235 [==============================] - 5s 22ms/step - loss: 0.0278 - val_loss: 0.0253\n",
      "Epoch 7/50\n",
      "235/235 [==============================] - 3s 12ms/step - loss: 0.0250 - val_loss: 0.0228\n",
      "Epoch 8/50\n",
      "235/235 [==============================] - 3s 13ms/step - loss: 0.0225 - val_loss: 0.0205\n",
      "Epoch 9/50\n",
      "235/235 [==============================] - 3s 11ms/step - loss: 0.0204 - val_loss: 0.0186\n",
      "Epoch 10/50\n",
      "235/235 [==============================] - 3s 13ms/step - loss: 0.0185 - val_loss: 0.0170\n",
      "Epoch 11/50\n",
      "235/235 [==============================] - 3s 13ms/step - loss: 0.0170 - val_loss: 0.0157\n",
      "Epoch 12/50\n",
      "235/235 [==============================] - 2s 11ms/step - loss: 0.0157 - val_loss: 0.0146\n",
      "Epoch 13/50\n",
      "235/235 [==============================] - 2s 10ms/step - loss: 0.0147 - val_loss: 0.0137\n",
      "Epoch 14/50\n",
      "235/235 [==============================] - 3s 12ms/step - loss: 0.0139 - val_loss: 0.0130\n",
      "Epoch 15/50\n",
      "235/235 [==============================] - 3s 11ms/step - loss: 0.0132 - val_loss: 0.0124\n",
      "Epoch 16/50\n",
      "235/235 [==============================] - 3s 14ms/step - loss: 0.0126 - val_loss: 0.0120\n",
      "Epoch 17/50\n",
      "235/235 [==============================] - 5s 21ms/step - loss: 0.0122 - val_loss: 0.0116\n",
      "Epoch 18/50\n",
      "235/235 [==============================] - 5s 21ms/step - loss: 0.0118 - val_loss: 0.0113\n",
      "Epoch 19/50\n",
      "235/235 [==============================] - 5s 23ms/step - loss: 0.0116 - val_loss: 0.0110\n",
      "Epoch 20/50\n",
      "235/235 [==============================] - 5s 23ms/step - loss: 0.0113 - val_loss: 0.0108\n",
      "Epoch 21/50\n",
      "235/235 [==============================] - 6s 24ms/step - loss: 0.0111 - val_loss: 0.0107\n",
      "Epoch 22/50\n",
      "235/235 [==============================] - 5s 22ms/step - loss: 0.0110 - val_loss: 0.0105\n",
      "Epoch 23/50\n",
      "235/235 [==============================] - 3s 15ms/step - loss: 0.0109 - val_loss: 0.0104\n",
      "Epoch 24/50\n",
      "235/235 [==============================] - 3s 13ms/step - loss: 0.0108 - val_loss: 0.0103\n",
      "Epoch 25/50\n",
      "235/235 [==============================] - 2s 10ms/step - loss: 0.0107 - val_loss: 0.0103\n",
      "Epoch 26/50\n",
      "235/235 [==============================] - 3s 11ms/step - loss: 0.0106 - val_loss: 0.0102\n",
      "Epoch 27/50\n",
      "235/235 [==============================] - 2s 10ms/step - loss: 0.0105 - val_loss: 0.0102\n",
      "Epoch 28/50\n",
      "235/235 [==============================] - 3s 11ms/step - loss: 0.0105 - val_loss: 0.0101\n",
      "Epoch 29/50\n",
      "235/235 [==============================] - 2s 10ms/step - loss: 0.0104 - val_loss: 0.0101\n",
      "Epoch 30/50\n",
      "235/235 [==============================] - 2s 10ms/step - loss: 0.0104 - val_loss: 0.0100\n",
      "Epoch 31/50\n",
      "235/235 [==============================] - 2s 10ms/step - loss: 0.0104 - val_loss: 0.0100\n",
      "Epoch 32/50\n",
      "235/235 [==============================] - 2s 9ms/step - loss: 0.0103 - val_loss: 0.0100\n",
      "Epoch 33/50\n",
      "235/235 [==============================] - 2s 10ms/step - loss: 0.0103 - val_loss: 0.0100\n",
      "Epoch 34/50\n",
      "235/235 [==============================] - 2s 10ms/step - loss: 0.0103 - val_loss: 0.0099\n",
      "Epoch 35/50\n",
      "235/235 [==============================] - 2s 9ms/step - loss: 0.0103 - val_loss: 0.0099\n",
      "Epoch 36/50\n",
      "235/235 [==============================] - 2s 10ms/step - loss: 0.0102 - val_loss: 0.0099\n",
      "Epoch 37/50\n",
      "235/235 [==============================] - 2s 9ms/step - loss: 0.0103 - val_loss: 0.0099\n",
      "Epoch 38/50\n",
      "235/235 [==============================] - 2s 9ms/step - loss: 0.0102 - val_loss: 0.0099\n",
      "Epoch 39/50\n",
      "235/235 [==============================] - 3s 11ms/step - loss: 0.0102 - val_loss: 0.0099\n",
      "Epoch 40/50\n",
      "235/235 [==============================] - 2s 11ms/step - loss: 0.0102 - val_loss: 0.0098\n",
      "Epoch 41/50\n",
      "235/235 [==============================] - 3s 11ms/step - loss: 0.0102 - val_loss: 0.0098\n",
      "Epoch 42/50\n",
      "235/235 [==============================] - 2s 9ms/step - loss: 0.0101 - val_loss: 0.0098\n",
      "Epoch 43/50\n",
      "235/235 [==============================] - 2s 10ms/step - loss: 0.0102 - val_loss: 0.0098\n",
      "Epoch 44/50\n",
      "235/235 [==============================] - 2s 10ms/step - loss: 0.0101 - val_loss: 0.0098\n",
      "Epoch 45/50\n",
      "235/235 [==============================] - 3s 12ms/step - loss: 0.0101 - val_loss: 0.0098\n",
      "Epoch 46/50\n",
      "235/235 [==============================] - 2s 9ms/step - loss: 0.0101 - val_loss: 0.0098\n",
      "Epoch 47/50\n",
      "235/235 [==============================] - 2s 10ms/step - loss: 0.0101 - val_loss: 0.0098\n",
      "Epoch 48/50\n",
      "235/235 [==============================] - 3s 11ms/step - loss: 0.0101 - val_loss: 0.0098\n",
      "Epoch 49/50\n",
      "235/235 [==============================] - 3s 13ms/step - loss: 0.0101 - val_loss: 0.0097\n",
      "Epoch 50/50\n",
      "235/235 [==============================] - 3s 12ms/step - loss: 0.0101 - val_loss: 0.0097\n"
     ]
    },
    {
     "data": {
      "text/plain": [
       "<tensorflow.python.keras.callbacks.History at 0x7fd852df9610>"
      ]
     },
     "execution_count": 16,
     "metadata": {},
     "output_type": "execute_result"
    }
   ],
   "source": [
    "# Fazendo o Encoder e o Decoder e aplicando a validação cam a base de teste\n",
    "autoencoder.fit(prev_train, prev_train,\n",
    "                epochs = 50,\n",
    "                shuffle=True,\n",
    "                batch_size = 256,\n",
    "                validation_data = (prev_test, prev_test))\n"
   ]
  },
  {
   "cell_type": "markdown",
   "id": "d4e43b01",
   "metadata": {},
   "source": [
    "# Criando o codificador de imagens"
   ]
  },
  {
   "cell_type": "code",
   "execution_count": 17,
   "id": "7d46dc9c",
   "metadata": {},
   "outputs": [],
   "source": [
    "dimensao_original = Input(shape = (784, ))"
   ]
  },
  {
   "cell_type": "code",
   "execution_count": 18,
   "id": "cd0b72d6",
   "metadata": {},
   "outputs": [],
   "source": [
    "camada_encoder = autoencoder.layers[0]"
   ]
  },
  {
   "cell_type": "code",
   "execution_count": 19,
   "id": "ae7977b2",
   "metadata": {
    "scrolled": true
   },
   "outputs": [
    {
     "name": "stdout",
     "output_type": "stream",
     "text": [
      "Model: \"model\"\n",
      "_________________________________________________________________\n",
      "Layer (type)                 Output Shape              Param #   \n",
      "=================================================================\n",
      "input_1 (InputLayer)         [(None, 784)]             0         \n",
      "_________________________________________________________________\n",
      "dense (Dense)                (None, 32)                25120     \n",
      "=================================================================\n",
      "Total params: 25,120\n",
      "Trainable params: 25,120\n",
      "Non-trainable params: 0\n",
      "_________________________________________________________________\n"
     ]
    }
   ],
   "source": [
    "encoder = Model(dimensao_original, camada_encoder(dimensao_original))\n",
    "encoder.summary()"
   ]
  },
  {
   "cell_type": "markdown",
   "id": "bd1ad6bb",
   "metadata": {},
   "source": [
    "## Codificando os Previsores Treinamento e Teste"
   ]
  },
  {
   "cell_type": "code",
   "execution_count": 27,
   "id": "354bdc6b",
   "metadata": {
    "scrolled": true
   },
   "outputs": [],
   "source": [
    "prev_train_code = encoder.predict(prev_train)\n",
    "prev_test_code = encoder.predict(prev_test)"
   ]
  },
  {
   "cell_type": "code",
   "execution_count": 31,
   "id": "0fb75dc3",
   "metadata": {},
   "outputs": [
    {
     "name": "stdout",
     "output_type": "stream",
     "text": [
      "(60000, 784) (10000, 784)\n",
      "(60000, 32) (10000, 32)\n"
     ]
    }
   ],
   "source": [
    "# Shape da base original de Trainamento e de Teste\n",
    "print(prev_train.shape, prev_test.shape)\n",
    "\n",
    "# Shape da base codificade de Trainamento e de Teste\n",
    "print(prev_train_code.shape, prev_test_code.shape)"
   ]
  },
  {
   "cell_type": "markdown",
   "id": "b43e0f9c",
   "metadata": {},
   "source": [
    "### O Objetivo agora é comparar os resultados de um algoritimo de classificação com a base de dados codificada e a base de dados original"
   ]
  },
  {
   "cell_type": "markdown",
   "id": "426d852d",
   "metadata": {},
   "source": [
    "# Rede Neural sem a redução de dimensionalidade"
   ]
  },
  {
   "cell_type": "code",
   "execution_count": 36,
   "id": "3b6998c2",
   "metadata": {
    "scrolled": true
   },
   "outputs": [
    {
     "name": "stdout",
     "output_type": "stream",
     "text": [
      "Epoch 1/100\n",
      "235/235 [==============================] - 11s 45ms/step - loss: 0.5348 - accuracy: 0.8531 - val_loss: 0.1257 - val_accuracy: 0.9612\n",
      "Epoch 2/100\n",
      "235/235 [==============================] - 10s 44ms/step - loss: 0.1089 - accuracy: 0.9676 - val_loss: 0.0884 - val_accuracy: 0.9715\n",
      "Epoch 3/100\n",
      "235/235 [==============================] - 8s 33ms/step - loss: 0.0641 - accuracy: 0.9806 - val_loss: 0.0727 - val_accuracy: 0.9776\n",
      "Epoch 4/100\n",
      "235/235 [==============================] - 7s 28ms/step - loss: 0.0460 - accuracy: 0.9859 - val_loss: 0.0653 - val_accuracy: 0.9803\n",
      "Epoch 5/100\n",
      "235/235 [==============================] - 6s 27ms/step - loss: 0.0301 - accuracy: 0.9909 - val_loss: 0.0698 - val_accuracy: 0.9796\n",
      "Epoch 6/100\n",
      "235/235 [==============================] - 5s 23ms/step - loss: 0.0225 - accuracy: 0.9931 - val_loss: 0.0753 - val_accuracy: 0.9770\n",
      "Epoch 7/100\n",
      "235/235 [==============================] - 5s 23ms/step - loss: 0.0174 - accuracy: 0.9952 - val_loss: 0.0660 - val_accuracy: 0.9819\n",
      "Epoch 8/100\n",
      "235/235 [==============================] - 5s 21ms/step - loss: 0.0130 - accuracy: 0.9961 - val_loss: 0.0683 - val_accuracy: 0.9794\n",
      "Epoch 9/100\n",
      "235/235 [==============================] - 6s 24ms/step - loss: 0.0136 - accuracy: 0.9955 - val_loss: 0.0872 - val_accuracy: 0.9781\n",
      "Epoch 10/100\n",
      "235/235 [==============================] - 7s 30ms/step - loss: 0.0092 - accuracy: 0.9972 - val_loss: 0.0799 - val_accuracy: 0.9800\n",
      "Epoch 11/100\n",
      "235/235 [==============================] - 6s 24ms/step - loss: 0.0124 - accuracy: 0.9958 - val_loss: 0.0739 - val_accuracy: 0.9829\n",
      "Epoch 12/100\n",
      "235/235 [==============================] - 5s 22ms/step - loss: 0.0102 - accuracy: 0.9964 - val_loss: 0.0675 - val_accuracy: 0.9828\n",
      "Epoch 13/100\n",
      "235/235 [==============================] - 5s 21ms/step - loss: 0.0047 - accuracy: 0.9986 - val_loss: 0.0786 - val_accuracy: 0.9818\n",
      "Epoch 14/100\n",
      "235/235 [==============================] - 5s 21ms/step - loss: 0.0050 - accuracy: 0.9985 - val_loss: 0.0822 - val_accuracy: 0.9811\n",
      "Epoch 15/100\n",
      "235/235 [==============================] - 5s 21ms/step - loss: 0.0070 - accuracy: 0.9977 - val_loss: 0.0742 - val_accuracy: 0.9821\n",
      "Epoch 16/100\n",
      "235/235 [==============================] - 5s 22ms/step - loss: 0.0082 - accuracy: 0.9971 - val_loss: 0.1051 - val_accuracy: 0.9767\n",
      "Epoch 17/100\n",
      "235/235 [==============================] - 5s 21ms/step - loss: 0.0109 - accuracy: 0.9960 - val_loss: 0.0838 - val_accuracy: 0.9811\n",
      "Epoch 18/100\n",
      "235/235 [==============================] - 5s 21ms/step - loss: 0.0062 - accuracy: 0.9980 - val_loss: 0.0806 - val_accuracy: 0.9829\n",
      "Epoch 19/100\n",
      "235/235 [==============================] - 5s 23ms/step - loss: 0.0037 - accuracy: 0.9985 - val_loss: 0.0934 - val_accuracy: 0.9844\n",
      "Epoch 20/100\n",
      "235/235 [==============================] - 5s 22ms/step - loss: 0.0043 - accuracy: 0.9984 - val_loss: 0.0941 - val_accuracy: 0.9812\n",
      "Epoch 21/100\n",
      "235/235 [==============================] - 5s 20ms/step - loss: 0.0063 - accuracy: 0.9978 - val_loss: 0.1103 - val_accuracy: 0.9793\n",
      "Epoch 22/100\n",
      "235/235 [==============================] - 5s 21ms/step - loss: 0.0084 - accuracy: 0.9970 - val_loss: 0.0864 - val_accuracy: 0.9825\n",
      "Epoch 23/100\n",
      "235/235 [==============================] - 5s 22ms/step - loss: 0.0055 - accuracy: 0.9981 - val_loss: 0.0996 - val_accuracy: 0.9815\n",
      "Epoch 24/100\n",
      "235/235 [==============================] - 5s 21ms/step - loss: 0.0075 - accuracy: 0.9972 - val_loss: 0.1074 - val_accuracy: 0.9830\n",
      "Epoch 25/100\n",
      "235/235 [==============================] - 5s 21ms/step - loss: 0.0043 - accuracy: 0.9986 - val_loss: 0.0927 - val_accuracy: 0.9834\n",
      "Epoch 26/100\n",
      "235/235 [==============================] - 5s 21ms/step - loss: 0.0048 - accuracy: 0.9983 - val_loss: 0.1010 - val_accuracy: 0.9817\n",
      "Epoch 27/100\n",
      "235/235 [==============================] - 6s 27ms/step - loss: 0.0039 - accuracy: 0.9987 - val_loss: 0.1130 - val_accuracy: 0.9781\n",
      "Epoch 28/100\n",
      "235/235 [==============================] - 7s 30ms/step - loss: 0.0101 - accuracy: 0.9964 - val_loss: 0.0998 - val_accuracy: 0.9825\n",
      "Epoch 29/100\n",
      "235/235 [==============================] - 10s 42ms/step - loss: 0.0025 - accuracy: 0.9992 - val_loss: 0.1013 - val_accuracy: 0.9817\n",
      "Epoch 30/100\n",
      "235/235 [==============================] - 10s 41ms/step - loss: 0.0040 - accuracy: 0.9987 - val_loss: 0.1082 - val_accuracy: 0.9822\n",
      "Epoch 31/100\n",
      "235/235 [==============================] - 10s 44ms/step - loss: 0.0023 - accuracy: 0.9993 - val_loss: 0.1003 - val_accuracy: 0.9816\n",
      "Epoch 32/100\n",
      "235/235 [==============================] - 8s 36ms/step - loss: 0.0028 - accuracy: 0.9992 - val_loss: 0.1002 - val_accuracy: 0.9838\n",
      "Epoch 33/100\n",
      "235/235 [==============================] - 9s 39ms/step - loss: 0.0021 - accuracy: 0.9994 - val_loss: 0.1335 - val_accuracy: 0.9754\n",
      "Epoch 34/100\n",
      "235/235 [==============================] - 9s 39ms/step - loss: 0.0081 - accuracy: 0.9972 - val_loss: 0.1097 - val_accuracy: 0.9808\n",
      "Epoch 35/100\n",
      "235/235 [==============================] - 6s 25ms/step - loss: 0.0059 - accuracy: 0.9981 - val_loss: 0.1121 - val_accuracy: 0.9806\n",
      "Epoch 36/100\n",
      "235/235 [==============================] - 6s 26ms/step - loss: 0.0050 - accuracy: 0.9982 - val_loss: 0.1007 - val_accuracy: 0.9833\n",
      "Epoch 37/100\n",
      "235/235 [==============================] - 6s 24ms/step - loss: 0.0040 - accuracy: 0.9988 - val_loss: 0.0918 - val_accuracy: 0.9840\n",
      "Epoch 38/100\n",
      "235/235 [==============================] - 5s 22ms/step - loss: 5.4475e-04 - accuracy: 0.9998 - val_loss: 0.0938 - val_accuracy: 0.9849\n",
      "Epoch 39/100\n",
      "235/235 [==============================] - 5s 22ms/step - loss: 6.7006e-05 - accuracy: 1.0000 - val_loss: 0.0925 - val_accuracy: 0.9850\n",
      "Epoch 40/100\n",
      "235/235 [==============================] - 5s 21ms/step - loss: 2.8553e-05 - accuracy: 1.0000 - val_loss: 0.0929 - val_accuracy: 0.9852\n",
      "Epoch 41/100\n",
      "235/235 [==============================] - 5s 22ms/step - loss: 2.0980e-05 - accuracy: 1.0000 - val_loss: 0.0932 - val_accuracy: 0.9854\n",
      "Epoch 42/100\n",
      "235/235 [==============================] - 5s 22ms/step - loss: 1.6648e-05 - accuracy: 1.0000 - val_loss: 0.0937 - val_accuracy: 0.9857\n",
      "Epoch 43/100\n",
      "235/235 [==============================] - 5s 22ms/step - loss: 1.4461e-05 - accuracy: 1.0000 - val_loss: 0.0942 - val_accuracy: 0.9858\n",
      "Epoch 44/100\n",
      "235/235 [==============================] - 5s 21ms/step - loss: 1.2006e-05 - accuracy: 1.0000 - val_loss: 0.0947 - val_accuracy: 0.9858\n",
      "Epoch 45/100\n",
      "235/235 [==============================] - 5s 22ms/step - loss: 1.0061e-05 - accuracy: 1.0000 - val_loss: 0.0952 - val_accuracy: 0.9858\n",
      "Epoch 46/100\n",
      "235/235 [==============================] - 5s 22ms/step - loss: 9.3162e-06 - accuracy: 1.0000 - val_loss: 0.0957 - val_accuracy: 0.9857\n",
      "Epoch 47/100\n",
      "235/235 [==============================] - 5s 22ms/step - loss: 8.4162e-06 - accuracy: 1.0000 - val_loss: 0.0962 - val_accuracy: 0.9859\n",
      "Epoch 48/100\n",
      "235/235 [==============================] - 5s 22ms/step - loss: 6.9325e-06 - accuracy: 1.0000 - val_loss: 0.0967 - val_accuracy: 0.9858\n",
      "Epoch 49/100\n",
      "235/235 [==============================] - 5s 22ms/step - loss: 6.8726e-06 - accuracy: 1.0000 - val_loss: 0.0972 - val_accuracy: 0.9858\n",
      "Epoch 50/100\n",
      "235/235 [==============================] - 5s 22ms/step - loss: 5.5575e-06 - accuracy: 1.0000 - val_loss: 0.0978 - val_accuracy: 0.9858\n",
      "Epoch 51/100\n",
      "235/235 [==============================] - 5s 22ms/step - loss: 4.8804e-06 - accuracy: 1.0000 - val_loss: 0.0983 - val_accuracy: 0.9858\n",
      "Epoch 52/100\n",
      "235/235 [==============================] - 5s 22ms/step - loss: 4.3143e-06 - accuracy: 1.0000 - val_loss: 0.0989 - val_accuracy: 0.9859\n",
      "Epoch 53/100\n",
      "235/235 [==============================] - 5s 22ms/step - loss: 3.8159e-06 - accuracy: 1.0000 - val_loss: 0.0995 - val_accuracy: 0.9857\n",
      "Epoch 54/100\n",
      "235/235 [==============================] - 5s 22ms/step - loss: 3.3366e-06 - accuracy: 1.0000 - val_loss: 0.1001 - val_accuracy: 0.9859\n",
      "Epoch 55/100\n",
      "235/235 [==============================] - 5s 22ms/step - loss: 3.2716e-06 - accuracy: 1.0000 - val_loss: 0.1006 - val_accuracy: 0.9859\n",
      "Epoch 56/100\n",
      "235/235 [==============================] - 5s 22ms/step - loss: 2.8938e-06 - accuracy: 1.0000 - val_loss: 0.1012 - val_accuracy: 0.9858\n",
      "Epoch 57/100\n"
     ]
    },
    {
     "name": "stdout",
     "output_type": "stream",
     "text": [
      "235/235 [==============================] - 4s 19ms/step - loss: 2.4961e-06 - accuracy: 1.0000 - val_loss: 0.1018 - val_accuracy: 0.9857\n",
      "Epoch 58/100\n",
      "235/235 [==============================] - 4s 19ms/step - loss: 2.2609e-06 - accuracy: 1.0000 - val_loss: 0.1024 - val_accuracy: 0.9857\n",
      "Epoch 59/100\n",
      "235/235 [==============================] - 4s 19ms/step - loss: 2.0022e-06 - accuracy: 1.0000 - val_loss: 0.1031 - val_accuracy: 0.9858\n",
      "Epoch 60/100\n",
      "235/235 [==============================] - 4s 19ms/step - loss: 1.6816e-06 - accuracy: 1.0000 - val_loss: 0.1036 - val_accuracy: 0.9858\n",
      "Epoch 61/100\n",
      "235/235 [==============================] - 5s 19ms/step - loss: 1.6226e-06 - accuracy: 1.0000 - val_loss: 0.1042 - val_accuracy: 0.9858\n",
      "Epoch 62/100\n",
      "235/235 [==============================] - 4s 19ms/step - loss: 1.3916e-06 - accuracy: 1.0000 - val_loss: 0.1048 - val_accuracy: 0.9857\n",
      "Epoch 63/100\n",
      "235/235 [==============================] - 5s 19ms/step - loss: 1.2912e-06 - accuracy: 1.0000 - val_loss: 0.1055 - val_accuracy: 0.9858\n",
      "Epoch 64/100\n",
      "235/235 [==============================] - 5s 20ms/step - loss: 1.1198e-06 - accuracy: 1.0000 - val_loss: 0.1062 - val_accuracy: 0.9857\n",
      "Epoch 65/100\n",
      "235/235 [==============================] - 4s 19ms/step - loss: 1.0100e-06 - accuracy: 1.0000 - val_loss: 0.1069 - val_accuracy: 0.9857\n",
      "Epoch 66/100\n",
      "235/235 [==============================] - 5s 19ms/step - loss: 8.8077e-07 - accuracy: 1.0000 - val_loss: 0.1076 - val_accuracy: 0.9857\n",
      "Epoch 67/100\n",
      "235/235 [==============================] - 5s 19ms/step - loss: 7.8568e-07 - accuracy: 1.0000 - val_loss: 0.1083 - val_accuracy: 0.9856\n",
      "Epoch 68/100\n",
      "235/235 [==============================] - 5s 19ms/step - loss: 7.2299e-07 - accuracy: 1.0000 - val_loss: 0.1089 - val_accuracy: 0.9856\n",
      "Epoch 69/100\n",
      "235/235 [==============================] - 5s 22ms/step - loss: 6.3594e-07 - accuracy: 1.0000 - val_loss: 0.1097 - val_accuracy: 0.9856\n",
      "Epoch 70/100\n",
      "235/235 [==============================] - 5s 20ms/step - loss: 5.7433e-07 - accuracy: 1.0000 - val_loss: 0.1104 - val_accuracy: 0.9855\n",
      "Epoch 71/100\n",
      "235/235 [==============================] - 5s 23ms/step - loss: 4.9713e-07 - accuracy: 1.0000 - val_loss: 0.1112 - val_accuracy: 0.9855\n",
      "Epoch 72/100\n",
      "235/235 [==============================] - 6s 25ms/step - loss: 4.4387e-07 - accuracy: 1.0000 - val_loss: 0.1119 - val_accuracy: 0.9857\n",
      "Epoch 73/100\n",
      "235/235 [==============================] - 5s 20ms/step - loss: 4.0829e-07 - accuracy: 1.0000 - val_loss: 0.1126 - val_accuracy: 0.9857\n",
      "Epoch 74/100\n",
      "235/235 [==============================] - 5s 21ms/step - loss: 3.6298e-07 - accuracy: 1.0000 - val_loss: 0.1135 - val_accuracy: 0.9857\n",
      "Epoch 75/100\n",
      "235/235 [==============================] - 5s 21ms/step - loss: 3.1017e-07 - accuracy: 1.0000 - val_loss: 0.1142 - val_accuracy: 0.9857\n",
      "Epoch 76/100\n",
      "235/235 [==============================] - 5s 21ms/step - loss: 2.9107e-07 - accuracy: 1.0000 - val_loss: 0.1150 - val_accuracy: 0.9859\n",
      "Epoch 77/100\n",
      "235/235 [==============================] - 5s 22ms/step - loss: 2.4103e-07 - accuracy: 1.0000 - val_loss: 0.1158 - val_accuracy: 0.9859\n",
      "Epoch 78/100\n",
      "235/235 [==============================] - 5s 21ms/step - loss: 2.2558e-07 - accuracy: 1.0000 - val_loss: 0.1166 - val_accuracy: 0.9858\n",
      "Epoch 79/100\n",
      "235/235 [==============================] - 5s 21ms/step - loss: 1.9694e-07 - accuracy: 1.0000 - val_loss: 0.1174 - val_accuracy: 0.9858\n",
      "Epoch 80/100\n",
      "235/235 [==============================] - 5s 22ms/step - loss: 1.7180e-07 - accuracy: 1.0000 - val_loss: 0.1182 - val_accuracy: 0.9858\n",
      "Epoch 81/100\n",
      "235/235 [==============================] - 5s 21ms/step - loss: 1.5063e-07 - accuracy: 1.0000 - val_loss: 0.1191 - val_accuracy: 0.9857\n",
      "Epoch 82/100\n",
      "235/235 [==============================] - 5s 22ms/step - loss: 1.3661e-07 - accuracy: 1.0000 - val_loss: 0.1199 - val_accuracy: 0.9859\n",
      "Epoch 83/100\n",
      "235/235 [==============================] - 5s 22ms/step - loss: 1.2150e-07 - accuracy: 1.0000 - val_loss: 0.1205 - val_accuracy: 0.9859\n",
      "Epoch 84/100\n",
      "235/235 [==============================] - 5s 21ms/step - loss: 1.0777e-07 - accuracy: 1.0000 - val_loss: 0.1214 - val_accuracy: 0.9857\n",
      "Epoch 85/100\n",
      "235/235 [==============================] - 5s 22ms/step - loss: 9.8534e-08 - accuracy: 1.0000 - val_loss: 0.1222 - val_accuracy: 0.9857\n",
      "Epoch 86/100\n",
      "235/235 [==============================] - 5s 22ms/step - loss: 8.6350e-08 - accuracy: 1.0000 - val_loss: 0.1230 - val_accuracy: 0.9857\n",
      "Epoch 87/100\n",
      "235/235 [==============================] - 5s 22ms/step - loss: 8.1360e-08 - accuracy: 1.0000 - val_loss: 0.1238 - val_accuracy: 0.9860\n",
      "Epoch 88/100\n",
      "235/235 [==============================] - 5s 22ms/step - loss: 6.6057e-08 - accuracy: 1.0000 - val_loss: 0.1242 - val_accuracy: 0.9859\n",
      "Epoch 89/100\n",
      "235/235 [==============================] - 5s 21ms/step - loss: 6.2679e-08 - accuracy: 1.0000 - val_loss: 0.1251 - val_accuracy: 0.9862\n",
      "Epoch 90/100\n",
      "235/235 [==============================] - 5s 22ms/step - loss: 5.3685e-08 - accuracy: 1.0000 - val_loss: 0.1260 - val_accuracy: 0.9861\n",
      "Epoch 91/100\n",
      "235/235 [==============================] - 5s 21ms/step - loss: 4.7770e-08 - accuracy: 1.0000 - val_loss: 0.1267 - val_accuracy: 0.9860\n",
      "Epoch 92/100\n",
      "235/235 [==============================] - 5s 22ms/step - loss: 4.3313e-08 - accuracy: 1.0000 - val_loss: 0.1272 - val_accuracy: 0.9860\n",
      "Epoch 93/100\n",
      "235/235 [==============================] - 5s 21ms/step - loss: 3.9873e-08 - accuracy: 1.0000 - val_loss: 0.1281 - val_accuracy: 0.9860\n",
      "Epoch 94/100\n",
      "235/235 [==============================] - 5s 22ms/step - loss: 3.8261e-08 - accuracy: 1.0000 - val_loss: 0.1287 - val_accuracy: 0.9859\n",
      "Epoch 95/100\n",
      "235/235 [==============================] - 5s 21ms/step - loss: 3.4141e-08 - accuracy: 1.0000 - val_loss: 0.1294 - val_accuracy: 0.9860\n",
      "Epoch 96/100\n",
      "235/235 [==============================] - 5s 22ms/step - loss: 2.8162e-08 - accuracy: 1.0000 - val_loss: 0.1300 - val_accuracy: 0.9861\n",
      "Epoch 97/100\n",
      "235/235 [==============================] - 5s 23ms/step - loss: 2.6547e-08 - accuracy: 1.0000 - val_loss: 0.1307 - val_accuracy: 0.9861\n",
      "Epoch 98/100\n",
      "235/235 [==============================] - 6s 23ms/step - loss: 2.4302e-08 - accuracy: 1.0000 - val_loss: 0.1314 - val_accuracy: 0.9862\n",
      "Epoch 99/100\n",
      "235/235 [==============================] - 5s 22ms/step - loss: 2.1753e-08 - accuracy: 1.0000 - val_loss: 0.1318 - val_accuracy: 0.9860\n",
      "Epoch 100/100\n",
      "235/235 [==============================] - 7s 30ms/step - loss: 1.9309e-08 - accuracy: 1.0000 - val_loss: 0.1323 - val_accuracy: 0.9862\n"
     ]
    },
    {
     "data": {
      "text/plain": [
       "<tensorflow.python.keras.callbacks.History at 0x7fd81a4cd250>"
      ]
     },
     "execution_count": 36,
     "metadata": {},
     "output_type": "execute_result"
    }
   ],
   "source": [
    "classificador_1 = Sequential()\n",
    "classificador_1.add(Dense(units = 400, activation = \"relu\", input_dim = 784))\n",
    "classificador_1.add(Dense(units = 400, activation = \"relu\"))\n",
    "classificador_1.add(Dense(units = 10, activation = \"softmax\"))\n",
    "\n",
    "classificador_1.compile(optimizer = \"adam\",\n",
    "                        loss = \"categorical_crossentropy\",\n",
    "                        metrics = [\"accuracy\"])\n",
    "classificador_1.fit(prev_train, class_dummy_train,\n",
    "                    batch_size = 256, epochs = 100,\n",
    "                   validation_data = (prev_test, class_dummy_test))"
   ]
  },
  {
   "cell_type": "markdown",
   "id": "6ab2d44a",
   "metadata": {},
   "source": [
    "# Rede Neural com a redução de dimensionalidade"
   ]
  },
  {
   "cell_type": "code",
   "execution_count": null,
   "id": "4386173a",
   "metadata": {
    "scrolled": true
   },
   "outputs": [
    {
     "name": "stdout",
     "output_type": "stream",
     "text": [
      "Epoch 1/100\n",
      "235/235 [==============================] - 4s 10ms/step - loss: 3.3925 - accuracy: 0.2008 - val_loss: 1.0572 - val_accuracy: 0.6453\n",
      "Epoch 2/100\n",
      "235/235 [==============================] - 2s 7ms/step - loss: 0.9082 - accuracy: 0.7032 - val_loss: 0.5840 - val_accuracy: 0.8102\n",
      "Epoch 3/100\n",
      "235/235 [==============================] - 2s 7ms/step - loss: 0.5535 - accuracy: 0.8282 - val_loss: 0.4539 - val_accuracy: 0.8623\n",
      "Epoch 4/100\n",
      "235/235 [==============================] - 2s 7ms/step - loss: 0.4512 - accuracy: 0.8657 - val_loss: 0.3955 - val_accuracy: 0.8828\n",
      "Epoch 5/100\n",
      "235/235 [==============================] - 2s 7ms/step - loss: 0.4024 - accuracy: 0.8809 - val_loss: 0.3570 - val_accuracy: 0.8925\n",
      "Epoch 6/100\n",
      "235/235 [==============================] - 2s 7ms/step - loss: 0.3668 - accuracy: 0.8932 - val_loss: 0.3339 - val_accuracy: 0.9009\n",
      "Epoch 7/100\n",
      "235/235 [==============================] - 2s 7ms/step - loss: 0.3402 - accuracy: 0.8994 - val_loss: 0.3173 - val_accuracy: 0.9067\n",
      "Epoch 8/100\n",
      "235/235 [==============================] - 1s 6ms/step - loss: 0.3281 - accuracy: 0.9020 - val_loss: 0.3034 - val_accuracy: 0.9106\n",
      "Epoch 9/100\n",
      "235/235 [==============================] - 2s 7ms/step - loss: 0.3167 - accuracy: 0.9066 - val_loss: 0.2856 - val_accuracy: 0.9155\n",
      "Epoch 10/100\n",
      "235/235 [==============================] - 2s 7ms/step - loss: 0.2970 - accuracy: 0.9129 - val_loss: 0.2750 - val_accuracy: 0.9182\n",
      "Epoch 11/100\n",
      "235/235 [==============================] - 2s 7ms/step - loss: 0.2843 - accuracy: 0.9157 - val_loss: 0.2675 - val_accuracy: 0.9194\n",
      "Epoch 12/100\n",
      "235/235 [==============================] - 2s 8ms/step - loss: 0.2807 - accuracy: 0.9174 - val_loss: 0.2697 - val_accuracy: 0.9202\n",
      "Epoch 13/100\n",
      "235/235 [==============================] - 2s 8ms/step - loss: 0.2669 - accuracy: 0.9198 - val_loss: 0.2503 - val_accuracy: 0.9253\n",
      "Epoch 14/100\n",
      "235/235 [==============================] - 2s 7ms/step - loss: 0.2585 - accuracy: 0.9231 - val_loss: 0.2475 - val_accuracy: 0.9266\n",
      "Epoch 15/100\n",
      "235/235 [==============================] - 2s 7ms/step - loss: 0.2529 - accuracy: 0.9254 - val_loss: 0.2516 - val_accuracy: 0.9263\n",
      "Epoch 16/100\n",
      "235/235 [==============================] - 2s 8ms/step - loss: 0.2523 - accuracy: 0.9260 - val_loss: 0.2447 - val_accuracy: 0.9301\n",
      "Epoch 17/100\n",
      "235/235 [==============================] - 2s 8ms/step - loss: 0.2434 - accuracy: 0.9273 - val_loss: 0.2269 - val_accuracy: 0.9312\n",
      "Epoch 18/100\n",
      "235/235 [==============================] - 2s 7ms/step - loss: 0.2341 - accuracy: 0.9301 - val_loss: 0.2252 - val_accuracy: 0.9325\n",
      "Epoch 19/100\n",
      "235/235 [==============================] - 2s 8ms/step - loss: 0.2335 - accuracy: 0.9298 - val_loss: 0.2196 - val_accuracy: 0.9340\n",
      "Epoch 20/100\n",
      "235/235 [==============================] - 2s 7ms/step - loss: 0.2283 - accuracy: 0.9327 - val_loss: 0.2167 - val_accuracy: 0.9355\n",
      "Epoch 21/100\n",
      "235/235 [==============================] - 2s 7ms/step - loss: 0.2259 - accuracy: 0.9334 - val_loss: 0.2166 - val_accuracy: 0.9351\n",
      "Epoch 22/100\n",
      "235/235 [==============================] - 2s 7ms/step - loss: 0.2224 - accuracy: 0.9348 - val_loss: 0.2163 - val_accuracy: 0.9351\n",
      "Epoch 23/100\n",
      "235/235 [==============================] - 2s 8ms/step - loss: 0.2154 - accuracy: 0.9363 - val_loss: 0.2031 - val_accuracy: 0.9400\n",
      "Epoch 24/100\n",
      "235/235 [==============================] - 2s 7ms/step - loss: 0.2093 - accuracy: 0.9376 - val_loss: 0.2019 - val_accuracy: 0.9406\n",
      "Epoch 25/100\n",
      "235/235 [==============================] - 2s 8ms/step - loss: 0.2116 - accuracy: 0.9389 - val_loss: 0.2002 - val_accuracy: 0.9420\n",
      "Epoch 26/100\n",
      "235/235 [==============================] - 2s 8ms/step - loss: 0.2064 - accuracy: 0.9396 - val_loss: 0.1973 - val_accuracy: 0.9412\n",
      "Epoch 27/100\n",
      "235/235 [==============================] - 2s 7ms/step - loss: 0.2014 - accuracy: 0.9410 - val_loss: 0.2021 - val_accuracy: 0.9388\n",
      "Epoch 28/100\n",
      "235/235 [==============================] - 2s 7ms/step - loss: 0.2049 - accuracy: 0.9393 - val_loss: 0.1907 - val_accuracy: 0.9431\n",
      "Epoch 29/100\n",
      "235/235 [==============================] - 2s 7ms/step - loss: 0.1996 - accuracy: 0.9418 - val_loss: 0.1915 - val_accuracy: 0.9439\n",
      "Epoch 30/100\n",
      "235/235 [==============================] - 2s 7ms/step - loss: 0.1975 - accuracy: 0.9425 - val_loss: 0.1919 - val_accuracy: 0.9416\n",
      "Epoch 31/100\n",
      "235/235 [==============================] - 2s 7ms/step - loss: 0.1958 - accuracy: 0.9420 - val_loss: 0.1857 - val_accuracy: 0.9444\n",
      "Epoch 32/100\n",
      "235/235 [==============================] - 2s 8ms/step - loss: 0.1920 - accuracy: 0.9421 - val_loss: 0.1784 - val_accuracy: 0.9466\n",
      "Epoch 33/100\n",
      "235/235 [==============================] - 2s 7ms/step - loss: 0.1943 - accuracy: 0.9422 - val_loss: 0.1805 - val_accuracy: 0.9465\n",
      "Epoch 34/100\n",
      "235/235 [==============================] - 2s 8ms/step - loss: 0.1899 - accuracy: 0.9449 - val_loss: 0.1778 - val_accuracy: 0.9470\n",
      "Epoch 35/100\n",
      "235/235 [==============================] - 2s 7ms/step - loss: 0.1827 - accuracy: 0.9462 - val_loss: 0.1853 - val_accuracy: 0.9442\n",
      "Epoch 36/100\n",
      "235/235 [==============================] - 2s 7ms/step - loss: 0.1814 - accuracy: 0.9464 - val_loss: 0.1765 - val_accuracy: 0.9463\n",
      "Epoch 37/100\n",
      "235/235 [==============================] - 2s 8ms/step - loss: 0.1886 - accuracy: 0.9454 - val_loss: 0.1775 - val_accuracy: 0.9482\n",
      "Epoch 38/100\n",
      "235/235 [==============================] - 2s 7ms/step - loss: 0.1817 - accuracy: 0.9463 - val_loss: 0.1774 - val_accuracy: 0.9482\n",
      "Epoch 39/100\n",
      "235/235 [==============================] - 2s 7ms/step - loss: 0.1789 - accuracy: 0.9476 - val_loss: 0.1758 - val_accuracy: 0.9490\n",
      "Epoch 40/100\n",
      "235/235 [==============================] - 2s 7ms/step - loss: 0.1802 - accuracy: 0.9469 - val_loss: 0.1682 - val_accuracy: 0.9494\n",
      "Epoch 41/100\n",
      "235/235 [==============================] - 2s 7ms/step - loss: 0.1756 - accuracy: 0.9482 - val_loss: 0.1679 - val_accuracy: 0.9490\n",
      "Epoch 42/100\n",
      "235/235 [==============================] - 2s 7ms/step - loss: 0.1710 - accuracy: 0.9496 - val_loss: 0.1644 - val_accuracy: 0.9509\n",
      "Epoch 43/100\n",
      "235/235 [==============================] - 2s 7ms/step - loss: 0.1711 - accuracy: 0.9492 - val_loss: 0.1746 - val_accuracy: 0.9496\n",
      "Epoch 44/100\n",
      "235/235 [==============================] - 2s 7ms/step - loss: 0.1672 - accuracy: 0.9488 - val_loss: 0.1668 - val_accuracy: 0.9509\n",
      "Epoch 45/100\n",
      "235/235 [==============================] - 2s 7ms/step - loss: 0.1697 - accuracy: 0.9499 - val_loss: 0.1680 - val_accuracy: 0.9519\n",
      "Epoch 46/100\n",
      "235/235 [==============================] - 2s 8ms/step - loss: 0.1677 - accuracy: 0.9494 - val_loss: 0.1592 - val_accuracy: 0.9516\n",
      "Epoch 47/100\n",
      "235/235 [==============================] - 2s 7ms/step - loss: 0.1645 - accuracy: 0.9511 - val_loss: 0.1599 - val_accuracy: 0.9533\n",
      "Epoch 48/100\n",
      "235/235 [==============================] - 2s 7ms/step - loss: 0.1623 - accuracy: 0.9518 - val_loss: 0.1731 - val_accuracy: 0.9494\n",
      "Epoch 49/100\n",
      "235/235 [==============================] - 2s 7ms/step - loss: 0.1618 - accuracy: 0.9522 - val_loss: 0.1618 - val_accuracy: 0.9520\n",
      "Epoch 50/100\n",
      "235/235 [==============================] - 2s 7ms/step - loss: 0.1605 - accuracy: 0.9527 - val_loss: 0.1700 - val_accuracy: 0.9486\n",
      "Epoch 51/100\n",
      "235/235 [==============================] - 2s 7ms/step - loss: 0.1602 - accuracy: 0.9515 - val_loss: 0.1598 - val_accuracy: 0.9530\n",
      "Epoch 52/100\n",
      "235/235 [==============================] - 2s 7ms/step - loss: 0.1609 - accuracy: 0.9518 - val_loss: 0.1647 - val_accuracy: 0.9519\n",
      "Epoch 53/100\n",
      "235/235 [==============================] - 2s 7ms/step - loss: 0.1542 - accuracy: 0.9530 - val_loss: 0.1697 - val_accuracy: 0.9520\n",
      "Epoch 54/100\n",
      "235/235 [==============================] - 2s 8ms/step - loss: 0.1540 - accuracy: 0.9547 - val_loss: 0.1580 - val_accuracy: 0.9538\n",
      "Epoch 55/100\n",
      "235/235 [==============================] - 2s 7ms/step - loss: 0.1568 - accuracy: 0.9531 - val_loss: 0.1562 - val_accuracy: 0.9524\n",
      "Epoch 56/100\n",
      "235/235 [==============================] - 2s 7ms/step - loss: 0.1564 - accuracy: 0.9531 - val_loss: 0.1668 - val_accuracy: 0.9508\n",
      "Epoch 57/100\n",
      "235/235 [==============================] - 2s 8ms/step - loss: 0.1540 - accuracy: 0.9545 - val_loss: 0.1566 - val_accuracy: 0.9526\n"
     ]
    },
    {
     "name": "stdout",
     "output_type": "stream",
     "text": [
      "Epoch 58/100\n",
      "235/235 [==============================] - 1s 6ms/step - loss: 0.1551 - accuracy: 0.9540 - val_loss: 0.1540 - val_accuracy: 0.9531\n",
      "Epoch 59/100\n",
      "235/235 [==============================] - 2s 6ms/step - loss: 0.1457 - accuracy: 0.9565 - val_loss: 0.1465 - val_accuracy: 0.9559\n",
      "Epoch 60/100\n",
      "235/235 [==============================] - 2s 7ms/step - loss: 0.1495 - accuracy: 0.9544 - val_loss: 0.1627 - val_accuracy: 0.9521\n",
      "Epoch 61/100\n",
      "235/235 [==============================] - 2s 7ms/step - loss: 0.1527 - accuracy: 0.9541 - val_loss: 0.1538 - val_accuracy: 0.9562\n",
      "Epoch 62/100\n",
      "235/235 [==============================] - 1s 6ms/step - loss: 0.1466 - accuracy: 0.9569 - val_loss: 0.1487 - val_accuracy: 0.9561\n",
      "Epoch 63/100\n",
      "235/235 [==============================] - 1s 6ms/step - loss: 0.1471 - accuracy: 0.9562 - val_loss: 0.1473 - val_accuracy: 0.9577\n",
      "Epoch 64/100\n",
      "235/235 [==============================] - 1s 6ms/step - loss: 0.1501 - accuracy: 0.9549 - val_loss: 0.1455 - val_accuracy: 0.9554\n",
      "Epoch 65/100\n",
      "235/235 [==============================] - 2s 6ms/step - loss: 0.1448 - accuracy: 0.9567 - val_loss: 0.1570 - val_accuracy: 0.9547\n",
      "Epoch 66/100\n",
      "235/235 [==============================] - 1s 6ms/step - loss: 0.1421 - accuracy: 0.9571 - val_loss: 0.1510 - val_accuracy: 0.9540\n",
      "Epoch 67/100\n",
      "235/235 [==============================] - 2s 7ms/step - loss: 0.1483 - accuracy: 0.9565 - val_loss: 0.1546 - val_accuracy: 0.9541\n",
      "Epoch 68/100\n",
      "122/235 [==============>...............] - ETA: 0s - loss: 0.1427 - accuracy: 0.9566"
     ]
    }
   ],
   "source": [
    "classificador_2 = Sequential()\n",
    "classificador_2.add(Dense(units = 21, activation = \"relu\", input_dim = 32))\n",
    "classificador_2.add(Dense(units = 21, activation = \"relu\"))\n",
    "classificador_2.add(Dense(units = 10, activation = \"softmax\"))\n",
    "\n",
    "classificador_2.compile(optimizer = \"adam\",\n",
    "                        loss = \"categorical_crossentropy\",\n",
    "                        metrics = [\"accuracy\"])\n",
    "classificador_2.fit(prev_train_code, class_dummy_train,\n",
    "                    batch_size = 256, epochs = 100,\n",
    "                   validation_data = (prev_test_code, class_dummy_test))"
   ]
  },
  {
   "cell_type": "code",
   "execution_count": null,
   "id": "67c54985",
   "metadata": {},
   "outputs": [],
   "source": []
  },
  {
   "cell_type": "code",
   "execution_count": null,
   "id": "ada7e8f2",
   "metadata": {},
   "outputs": [],
   "source": []
  },
  {
   "cell_type": "code",
   "execution_count": null,
   "id": "6e9fbef6",
   "metadata": {},
   "outputs": [],
   "source": []
  },
  {
   "cell_type": "code",
   "execution_count": null,
   "id": "02706bc2",
   "metadata": {},
   "outputs": [],
   "source": []
  },
  {
   "cell_type": "markdown",
   "id": "10ffe58f",
   "metadata": {},
   "source": [
    "## Codificando imagens de 784 para 32"
   ]
  },
  {
   "cell_type": "code",
   "execution_count": 24,
   "id": "f0b2acde",
   "metadata": {},
   "outputs": [],
   "source": [
    "imagens_code = encoder.predict(prev_test)"
   ]
  },
  {
   "cell_type": "code",
   "execution_count": 25,
   "id": "cc414cfd",
   "metadata": {},
   "outputs": [
    {
     "data": {
      "text/plain": [
       "(10000, 32)"
      ]
     },
     "execution_count": 25,
     "metadata": {},
     "output_type": "execute_result"
    }
   ],
   "source": [
    "imagens_code.shape"
   ]
  },
  {
   "cell_type": "markdown",
   "id": "2043e98a",
   "metadata": {},
   "source": [
    "## Decodificando imagens de 32 para 784"
   ]
  },
  {
   "cell_type": "code",
   "execution_count": 26,
   "id": "94d2bbc7",
   "metadata": {},
   "outputs": [],
   "source": [
    "# Esse método faz o encoder e depois aplicao decode\n",
    "imagens_decode = autoencoder.predict(prev_test)"
   ]
  },
  {
   "cell_type": "markdown",
   "id": "ddae17f4",
   "metadata": {},
   "source": [
    "## Visualizando os resultados"
   ]
  },
  {
   "cell_type": "code",
   "execution_count": 27,
   "id": "388c52db",
   "metadata": {},
   "outputs": [],
   "source": [
    "num_imagens = 10"
   ]
  },
  {
   "cell_type": "code",
   "execution_count": 30,
   "id": "dd3e6ac8",
   "metadata": {},
   "outputs": [
    {
     "data": {
      "image/png": "[encoded data removed]",
      "text/plain": [
       "<Figure size 1296x1296 with 30 Axes>"
      ]
     },
     "metadata": {},
     "output_type": "display_data"
    }
   ],
   "source": [
    "# Selecionando 10 imagens aleatórias da base de dados de teste\n",
    "imagens_test = np.random.randint(prev_test.shape[0], size = num_imagens)\n",
    "\n",
    "# Plotando as imagens\n",
    "plt.figure(figsize = (18, 18))\n",
    "\n",
    "for i, indice_img in enumerate(imagens_test):\n",
    "    \n",
    "    # Gráfico 01, plotar a imagem Original\n",
    "    eixo = plt.subplot(10, 10, i + 1)\n",
    "    plt.imshow(prev_test[indice_img].reshape(28, 28))\n",
    "    plt.xticks(())\n",
    "    plt.yticks(())\n",
    "    \n",
    "     # Gráfico 02, plotar a imagem codificada\n",
    "    eixo = plt.subplot(10, 10, i + 1 + num_imagens)\n",
    "    plt.imshow(imagens_code[indice_img].reshape(8, 4))\n",
    "    plt.xticks(())\n",
    "    plt.yticks(())\n",
    "    \n",
    "    # Gráfico 03, plotar a imagem Decodificada\n",
    "    eixo = plt.subplot(10, 10, i + 1 + num_imagens * 2)\n",
    "    plt.imshow(imagens_decode[indice_img].reshape(28, 28))\n",
    "    plt.xticks(())\n",
    "    plt.yticks(())"
   ]
  },
  {
   "cell_type": "code",
   "execution_count": null,
   "id": "e3f386ff",
   "metadata": {},
   "outputs": [],
   "source": []
  }
 ],
 "metadata": {
  "kernelspec": {
   "display_name": "Python 3",
   "language": "python",
   "name": "python3"
  },
  "language_info": {
   "codemirror_mode": {
    "name": "ipython",
    "version": 3
   },
   "file_extension": ".py",
   "mimetype": "text/x-python",
   "name": "python",
   "nbconvert_exporter": "python",
   "pygments_lexer": "ipython3",
   "version": "3.8.5"
  }
 },
 "nbformat": 4,
 "nbformat_minor": 5
}
