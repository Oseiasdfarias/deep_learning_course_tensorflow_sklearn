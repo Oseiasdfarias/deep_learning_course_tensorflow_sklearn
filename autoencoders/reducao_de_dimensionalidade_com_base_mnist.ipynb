{
 "cells": [
  {
   "cell_type": "markdown",
   "id": "f63b85dd",
   "metadata": {},
   "source": [
    "# Redução de Dimensionalidade Aplicada a Base MNIST"
   ]
  },
  {
   "cell_type": "code",
   "execution_count": 28,
   "id": "7c91b898",
   "metadata": {},
   "outputs": [],
   "source": [
    "import matplotlib.pyplot as plt\n",
    "import numpy as np\n",
    "from keras.datasets import mnist\n",
    "from keras.models import Model, Sequential\n",
    "from keras.layers import Input, Dense"
   ]
  },
  {
   "cell_type": "code",
   "execution_count": 29,
   "id": "f29ad7e2",
   "metadata": {},
   "outputs": [],
   "source": [
    "(prev_train, _), (prev_test, _) = mnist.load_data()"
   ]
  },
  {
   "cell_type": "markdown",
   "id": "9fe6498c",
   "metadata": {},
   "source": [
    "### Normalizando os valores entre 0 e 1"
   ]
  },
  {
   "cell_type": "code",
   "execution_count": 30,
   "id": "49912dd2",
   "metadata": {},
   "outputs": [],
   "source": [
    "prev_train = prev_train.astype(\"float32\") / 255\n",
    "prev_test = prev_test.astype(\"float32\") / 255"
   ]
  },
  {
   "cell_type": "markdown",
   "id": "f148293e",
   "metadata": {},
   "source": [
    "### Usando o reshape para modificar a estrutura da base de dados"
   ]
  },
  {
   "cell_type": "code",
   "execution_count": 31,
   "id": "b5de9850",
   "metadata": {},
   "outputs": [
    {
     "data": {
      "text/plain": [
       "(60000, 784)"
      ]
     },
     "execution_count": 31,
     "metadata": {},
     "output_type": "execute_result"
    }
   ],
   "source": [
    "prev_train = prev_train.reshape((len(prev_train), np.prod(prev_train.shape[1:])))\n",
    "prev_train.shape"
   ]
  },
  {
   "cell_type": "code",
   "execution_count": 32,
   "id": "3215751b",
   "metadata": {},
   "outputs": [
    {
     "data": {
      "text/plain": [
       "(10000, 784)"
      ]
     },
     "execution_count": 32,
     "metadata": {},
     "output_type": "execute_result"
    }
   ],
   "source": [
    "prev_test = prev_test.reshape((len(prev_test), np.prod(prev_test.shape[1:])))\n",
    "prev_test.shape"
   ]
  },
  {
   "cell_type": "markdown",
   "id": "4cca840f",
   "metadata": {},
   "source": [
    "# Criando o Autoencoder da base de dados"
   ]
  },
  {
   "cell_type": "markdown",
   "id": "b2c5b444",
   "metadata": {},
   "source": [
    "Para a entrada vamos usar os 784 pixels que foram calculados\n",
    "na camada oculta vamos colocar 32 neurónios e na camada de saida vamos colocar os mesmo 784 pixels que foram\n",
    "colocados na camada de entrada do modelo de Autoencoder.\n",
    "\n",
    "fator de compactação\n",
    "\n",
    "784 / 32 = 24.5"
   ]
  },
  {
   "cell_type": "code",
   "execution_count": 33,
   "id": "6ad97e39",
   "metadata": {},
   "outputs": [
    {
     "name": "stdout",
     "output_type": "stream",
     "text": [
      "Model: \"sequential_3\"\n",
      "_________________________________________________________________\n",
      "Layer (type)                 Output Shape              Param #   \n",
      "=================================================================\n",
      "dense_4 (Dense)              (None, 32)                25120     \n",
      "_________________________________________________________________\n",
      "dense_5 (Dense)              (None, 784)               25872     \n",
      "=================================================================\n",
      "Total params: 50,992\n",
      "Trainable params: 50,992\n",
      "Non-trainable params: 0\n",
      "_________________________________________________________________\n"
     ]
    }
   ],
   "source": [
    "autoencoder = Sequential()\n",
    "\n",
    "# Camada de entrada com a quantidades de neurónio da camada oculta\n",
    "autoencoder.add(Dense(units = 32, activation = \"relu\", input_dim = 784))\n",
    "\n",
    "# Camada de saída de rede\n",
    "autoencoder.add(Dense(units = 784, activation = \"sigmoid\"))\n",
    "\n",
    "autoencoder.summary()"
   ]
  },
  {
   "cell_type": "code",
   "execution_count": 34,
   "id": "69f107cf",
   "metadata": {},
   "outputs": [],
   "source": [
    "# Compilando o modelo\n",
    "autoencoder.compile(optimizer = \"adam\", loss = \"binary_crossentropy\",\n",
    "                   metrics = [\"accuracy\"])"
   ]
  },
  {
   "cell_type": "code",
   "execution_count": null,
   "id": "fcdddef4",
   "metadata": {},
   "outputs": [
    {
     "name": "stdout",
     "output_type": "stream",
     "text": [
      "Epoch 1/50\n",
      "235/235 [==============================] - 13s 23ms/step - loss: 0.3872 - accuracy: 0.0080 - val_loss: 0.1947 - val_accuracy: 0.0126\n",
      "Epoch 2/50\n",
      "235/235 [==============================] - 4s 18ms/step - loss: 0.1825 - accuracy: 0.0113 - val_loss: 0.1532 - val_accuracy: 0.0105\n",
      "Epoch 3/50\n",
      "235/235 [==============================] - 4s 16ms/step - loss: 0.1486 - accuracy: 0.0112 - val_loss: 0.1333 - val_accuracy: 0.0096\n",
      "Epoch 4/50\n",
      "235/235 [==============================] - 4s 16ms/step - loss: 0.1312 - accuracy: 0.0099 - val_loss: 0.1200 - val_accuracy: 0.0096\n",
      "Epoch 5/50\n",
      "235/235 [==============================] - 5s 19ms/step - loss: 0.1188 - accuracy: 0.0099 - val_loss: 0.1111 - val_accuracy: 0.0081\n",
      "Epoch 6/50\n",
      "235/235 [==============================] - 4s 19ms/step - loss: 0.1109 - accuracy: 0.0094 - val_loss: 0.1053 - val_accuracy: 0.0098\n",
      "Epoch 7/50\n",
      "235/235 [==============================] - 4s 18ms/step - loss: 0.1055 - accuracy: 0.0102 - val_loss: 0.1012 - val_accuracy: 0.0099\n",
      "Epoch 8/50\n",
      "235/235 [==============================] - 4s 18ms/step - loss: 0.1017 - accuracy: 0.0104 - val_loss: 0.0983 - val_accuracy: 0.0104\n",
      "Epoch 9/50\n",
      "235/235 [==============================] - 4s 19ms/step - loss: 0.0991 - accuracy: 0.0109 - val_loss: 0.0963 - val_accuracy: 0.0105\n",
      "Epoch 10/50\n",
      "235/235 [==============================] - 4s 18ms/step - loss: 0.0972 - accuracy: 0.0116 - val_loss: 0.0951 - val_accuracy: 0.0112\n",
      "Epoch 11/50\n",
      "235/235 [==============================] - 4s 19ms/step - loss: 0.0961 - accuracy: 0.0120 - val_loss: 0.0943 - val_accuracy: 0.0116\n",
      "Epoch 12/50\n",
      "235/235 [==============================] - 5s 19ms/step - loss: 0.0954 - accuracy: 0.0117 - val_loss: 0.0937 - val_accuracy: 0.0120\n",
      "Epoch 13/50\n",
      "235/235 [==============================] - 5s 21ms/step - loss: 0.0947 - accuracy: 0.0116 - val_loss: 0.0933 - val_accuracy: 0.0118\n",
      "Epoch 14/50\n",
      "235/235 [==============================] - 5s 22ms/step - loss: 0.0943 - accuracy: 0.0119 - val_loss: 0.0930 - val_accuracy: 0.0118\n",
      "Epoch 15/50\n",
      "235/235 [==============================] - 4s 17ms/step - loss: 0.0944 - accuracy: 0.0116 - val_loss: 0.0928 - val_accuracy: 0.0113\n",
      "Epoch 16/50\n",
      "235/235 [==============================] - 4s 17ms/step - loss: 0.0940 - accuracy: 0.0126 - val_loss: 0.0927 - val_accuracy: 0.0114\n",
      "Epoch 17/50\n",
      "235/235 [==============================] - 4s 18ms/step - loss: 0.0939 - accuracy: 0.0106 - val_loss: 0.0926 - val_accuracy: 0.0110\n",
      "Epoch 18/50\n",
      "235/235 [==============================] - 5s 20ms/step - loss: 0.0939 - accuracy: 0.0114 - val_loss: 0.0924 - val_accuracy: 0.0113\n",
      "Epoch 19/50\n",
      "235/235 [==============================] - 4s 18ms/step - loss: 0.0934 - accuracy: 0.0120 - val_loss: 0.0923 - val_accuracy: 0.0117\n",
      "Epoch 20/50\n",
      "235/235 [==============================] - 4s 19ms/step - loss: 0.0935 - accuracy: 0.0115 - val_loss: 0.0923 - val_accuracy: 0.0110\n",
      "Epoch 21/50\n",
      "235/235 [==============================] - 4s 17ms/step - loss: 0.0936 - accuracy: 0.0118 - val_loss: 0.0922 - val_accuracy: 0.0102\n",
      "Epoch 22/50\n",
      "235/235 [==============================] - 5s 20ms/step - loss: 0.0932 - accuracy: 0.0117 - val_loss: 0.0921 - val_accuracy: 0.0122\n",
      "Epoch 23/50\n",
      "235/235 [==============================] - 5s 19ms/step - loss: 0.0935 - accuracy: 0.0121 - val_loss: 0.0921 - val_accuracy: 0.0115\n",
      "Epoch 24/50\n",
      " 94/235 [===========>..................] - ETA: 2s - loss: 0.0930 - accuracy: 0.0103"
     ]
    }
   ],
   "source": [
    "# Fazendo o Encoder e o Decoder e aplicando a validação cam a base de teste\n",
    "autoencoder.fit(prev_train, prev_train,\n",
    "                epochs = 50,\n",
    "                batch_size = 256,\n",
    "                validation_data = (prev_test, prev_test))\n"
   ]
  },
  {
   "cell_type": "code",
   "execution_count": null,
   "id": "065688b2",
   "metadata": {},
   "outputs": [],
   "source": []
  }
 ],
 "metadata": {
  "kernelspec": {
   "display_name": "Python 3",
   "language": "python",
   "name": "python3"
  },
  "language_info": {
   "codemirror_mode": {
    "name": "ipython",
    "version": 3
   },
   "file_extension": ".py",
   "mimetype": "text/x-python",
   "name": "python",
   "nbconvert_exporter": "python",
   "pygments_lexer": "ipython3",
   "version": "3.8.5"
  }
 },
 "nbformat": 4,
 "nbformat_minor": 5
}
