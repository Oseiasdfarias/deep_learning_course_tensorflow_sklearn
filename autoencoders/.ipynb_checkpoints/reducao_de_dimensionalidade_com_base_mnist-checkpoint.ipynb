{
 "cells": [
  {
   "cell_type": "markdown",
   "id": "f63b85dd",
   "metadata": {},
   "source": [
    "# Redução de Dimensionalidade Aplicada a Base MNIST"
   ]
  },
  {
   "cell_type": "code",
   "execution_count": 1,
   "id": "7c91b898",
   "metadata": {},
   "outputs": [],
   "source": [
    "import matplotlib.pyplot as plt\n",
    "import numpy as np\n",
    "from keras.datasets import mnist\n",
    "from keras.models import Model, Sequential\n",
    "from keras.layers import Input, Dense"
   ]
  },
  {
   "cell_type": "code",
   "execution_count": 2,
   "id": "f29ad7e2",
   "metadata": {},
   "outputs": [
    {
     "data": {
      "text/plain": [
       "(60000, 28, 28)"
      ]
     },
     "execution_count": 2,
     "metadata": {},
     "output_type": "execute_result"
    }
   ],
   "source": [
    "(prev_train, _), (prev_test, _) = mnist.load_data()\n",
    "prev_train.shape"
   ]
  },
  {
   "cell_type": "markdown",
   "id": "9fe6498c",
   "metadata": {},
   "source": [
    "### Normalizando os valores entre 0 e 1"
   ]
  },
  {
   "cell_type": "code",
   "execution_count": 3,
   "id": "49912dd2",
   "metadata": {},
   "outputs": [],
   "source": [
    "prev_train = prev_train.astype(\"float32\") / 255\n",
    "prev_test = prev_test.astype(\"float32\") / 255"
   ]
  },
  {
   "cell_type": "code",
   "execution_count": 4,
   "id": "4375f1ad",
   "metadata": {},
   "outputs": [
    {
     "name": "stdout",
     "output_type": "stream",
     "text": [
      "(60000, 28, 28)\n",
      "(10000, 28, 28)\n"
     ]
    }
   ],
   "source": [
    "print(prev_train.shape)\n",
    "print(prev_test.shape)"
   ]
  },
  {
   "cell_type": "markdown",
   "id": "f148293e",
   "metadata": {},
   "source": [
    "### Usando o reshape para modificar a estrutura da base de dados"
   ]
  },
  {
   "cell_type": "code",
   "execution_count": 5,
   "id": "b5de9850",
   "metadata": {},
   "outputs": [
    {
     "data": {
      "text/plain": [
       "(60000, 784)"
      ]
     },
     "execution_count": 5,
     "metadata": {},
     "output_type": "execute_result"
    }
   ],
   "source": [
    "prev_train = prev_train.reshape((len(prev_train), np.prod(prev_train.shape[1:])))\n",
    "prev_train.shape"
   ]
  },
  {
   "cell_type": "code",
   "execution_count": 6,
   "id": "3215751b",
   "metadata": {},
   "outputs": [
    {
     "data": {
      "text/plain": [
       "(10000, 784)"
      ]
     },
     "execution_count": 6,
     "metadata": {},
     "output_type": "execute_result"
    }
   ],
   "source": [
    "prev_test = prev_test.reshape((len(prev_test), np.prod(prev_test.shape[1:])))\n",
    "prev_test.shape"
   ]
  },
  {
   "cell_type": "markdown",
   "id": "4cca840f",
   "metadata": {},
   "source": [
    "# Criando o Autoencoder da base de dados"
   ]
  },
  {
   "cell_type": "markdown",
   "id": "b2c5b444",
   "metadata": {},
   "source": [
    "Para a entrada vamos usar os 784 pixels que foram calculados\n",
    "na camada oculta vamos colocar 32 neurónios e na camada de saida vamos colocar os mesmo 784 pixels que foram\n",
    "colocados na camada de entrada do modelo de Autoencoder.\n",
    "\n",
    "fator de compactação\n",
    "\n",
    "784 / 32 = 24.5"
   ]
  },
  {
   "cell_type": "code",
   "execution_count": 7,
   "id": "6ad97e39",
   "metadata": {},
   "outputs": [
    {
     "name": "stdout",
     "output_type": "stream",
     "text": [
      "Model: \"sequential\"\n",
      "_________________________________________________________________\n",
      "Layer (type)                 Output Shape              Param #   \n",
      "=================================================================\n",
      "dense (Dense)                (None, 32)                25120     \n",
      "_________________________________________________________________\n",
      "dense_1 (Dense)              (None, 784)               25872     \n",
      "=================================================================\n",
      "Total params: 50,992\n",
      "Trainable params: 50,992\n",
      "Non-trainable params: 0\n",
      "_________________________________________________________________\n"
     ]
    }
   ],
   "source": [
    "autoencoder = Sequential()\n",
    "\n",
    "# Camada de entrada com a quantidades de neurónio da camada oculta\n",
    "autoencoder.add(Dense(units = 32, activation = \"relu\", input_dim = 784))\n",
    "\n",
    "# Camada de saída de rede\n",
    "autoencoder.add(Dense(units = 784, activation = \"sigmoid\"))\n",
    "\n",
    "autoencoder.summary()"
   ]
  },
  {
   "cell_type": "code",
   "execution_count": 8,
   "id": "69f107cf",
   "metadata": {},
   "outputs": [],
   "source": [
    "# Compilando o modelo\n",
    "autoencoder.compile(optimizer = \"adamax\", loss='mse')"
   ]
  },
  {
   "cell_type": "code",
   "execution_count": 9,
   "id": "fcdddef4",
   "metadata": {
    "scrolled": true
   },
   "outputs": [
    {
     "name": "stdout",
     "output_type": "stream",
     "text": [
      "Epoch 1/50\n",
      "235/235 [==============================] - 7s 26ms/step - loss: 0.1224 - val_loss: 0.0555\n",
      "Epoch 2/50\n",
      "235/235 [==============================] - 5s 22ms/step - loss: 0.0513 - val_loss: 0.0417\n",
      "Epoch 3/50\n",
      "235/235 [==============================] - 5s 22ms/step - loss: 0.0402 - val_loss: 0.0355\n",
      "Epoch 4/50\n",
      "235/235 [==============================] - 5s 23ms/step - loss: 0.0347 - val_loss: 0.0311\n",
      "Epoch 5/50\n",
      "235/235 [==============================] - 5s 22ms/step - loss: 0.0306 - val_loss: 0.0276\n",
      "Epoch 6/50\n",
      "235/235 [==============================] - 5s 23ms/step - loss: 0.0272 - val_loss: 0.0248\n",
      "Epoch 7/50\n",
      "235/235 [==============================] - 5s 20ms/step - loss: 0.0245 - val_loss: 0.0223\n",
      "Epoch 8/50\n",
      "235/235 [==============================] - 5s 23ms/step - loss: 0.0221 - val_loss: 0.0202\n",
      "Epoch 9/50\n",
      "235/235 [==============================] - 5s 22ms/step - loss: 0.0201 - val_loss: 0.0184\n",
      "Epoch 10/50\n",
      "235/235 [==============================] - 5s 23ms/step - loss: 0.0184 - val_loss: 0.0169\n",
      "Epoch 11/50\n",
      "235/235 [==============================] - 5s 21ms/step - loss: 0.0170 - val_loss: 0.0157\n",
      "Epoch 12/50\n",
      "235/235 [==============================] - 5s 21ms/step - loss: 0.0158 - val_loss: 0.0147\n",
      "Epoch 13/50\n",
      "235/235 [==============================] - 5s 21ms/step - loss: 0.0148 - val_loss: 0.0138\n",
      "Epoch 14/50\n",
      "235/235 [==============================] - 4s 17ms/step - loss: 0.0139 - val_loss: 0.0131\n",
      "Epoch 15/50\n",
      "235/235 [==============================] - 3s 12ms/step - loss: 0.0133 - val_loss: 0.0125\n",
      "Epoch 16/50\n",
      "235/235 [==============================] - 3s 12ms/step - loss: 0.0127 - val_loss: 0.0120\n",
      "Epoch 17/50\n",
      "235/235 [==============================] - 3s 12ms/step - loss: 0.0122 - val_loss: 0.0116\n",
      "Epoch 18/50\n",
      "235/235 [==============================] - 3s 12ms/step - loss: 0.0118 - val_loss: 0.0113\n",
      "Epoch 19/50\n",
      "235/235 [==============================] - 3s 13ms/step - loss: 0.0116 - val_loss: 0.0110\n",
      "Epoch 20/50\n",
      "235/235 [==============================] - 3s 11ms/step - loss: 0.0112 - val_loss: 0.0108\n",
      "Epoch 21/50\n",
      "235/235 [==============================] - 3s 14ms/step - loss: 0.0111 - val_loss: 0.0106\n",
      "Epoch 22/50\n",
      "235/235 [==============================] - 2s 11ms/step - loss: 0.0109 - val_loss: 0.0105\n",
      "Epoch 23/50\n",
      "235/235 [==============================] - 3s 11ms/step - loss: 0.0108 - val_loss: 0.0104\n",
      "Epoch 24/50\n",
      "235/235 [==============================] - 3s 14ms/step - loss: 0.0107 - val_loss: 0.0103\n",
      "Epoch 25/50\n",
      "235/235 [==============================] - 2s 10ms/step - loss: 0.0106 - val_loss: 0.0102\n",
      "Epoch 26/50\n",
      "235/235 [==============================] - 3s 11ms/step - loss: 0.0106 - val_loss: 0.0102\n",
      "Epoch 27/50\n",
      "235/235 [==============================] - 3s 13ms/step - loss: 0.0105 - val_loss: 0.0101\n",
      "Epoch 28/50\n",
      "235/235 [==============================] - 3s 12ms/step - loss: 0.0105 - val_loss: 0.0101\n",
      "Epoch 29/50\n",
      "235/235 [==============================] - 3s 11ms/step - loss: 0.0104 - val_loss: 0.0100\n",
      "Epoch 30/50\n",
      "235/235 [==============================] - 2s 10ms/step - loss: 0.0104 - val_loss: 0.0100\n",
      "Epoch 31/50\n",
      "235/235 [==============================] - 3s 11ms/step - loss: 0.0103 - val_loss: 0.0100\n",
      "Epoch 32/50\n",
      "235/235 [==============================] - 3s 12ms/step - loss: 0.0103 - val_loss: 0.0100\n",
      "Epoch 33/50\n",
      "235/235 [==============================] - 3s 12ms/step - loss: 0.0103 - val_loss: 0.0099\n",
      "Epoch 34/50\n",
      "235/235 [==============================] - 3s 13ms/step - loss: 0.0102 - val_loss: 0.0099\n",
      "Epoch 35/50\n",
      "235/235 [==============================] - 3s 14ms/step - loss: 0.0102 - val_loss: 0.0099\n",
      "Epoch 36/50\n",
      "235/235 [==============================] - 3s 14ms/step - loss: 0.0102 - val_loss: 0.0099\n",
      "Epoch 37/50\n",
      "235/235 [==============================] - 5s 22ms/step - loss: 0.0102 - val_loss: 0.0099\n",
      "Epoch 38/50\n",
      "235/235 [==============================] - 3s 14ms/step - loss: 0.0102 - val_loss: 0.0098\n",
      "Epoch 39/50\n",
      "235/235 [==============================] - 3s 14ms/step - loss: 0.0102 - val_loss: 0.0098\n",
      "Epoch 40/50\n",
      "235/235 [==============================] - 3s 13ms/step - loss: 0.0101 - val_loss: 0.0098\n",
      "Epoch 41/50\n",
      "235/235 [==============================] - 2s 10ms/step - loss: 0.0101 - val_loss: 0.0098\n",
      "Epoch 42/50\n",
      "235/235 [==============================] - 2s 10ms/step - loss: 0.0101 - val_loss: 0.0098\n",
      "Epoch 43/50\n",
      "235/235 [==============================] - 2s 10ms/step - loss: 0.0101 - val_loss: 0.0098\n",
      "Epoch 44/50\n",
      "235/235 [==============================] - 2s 10ms/step - loss: 0.0101 - val_loss: 0.0098\n",
      "Epoch 45/50\n",
      "235/235 [==============================] - 2s 10ms/step - loss: 0.0100 - val_loss: 0.0098\n",
      "Epoch 46/50\n",
      "235/235 [==============================] - 2s 10ms/step - loss: 0.0101 - val_loss: 0.0098\n",
      "Epoch 47/50\n",
      "235/235 [==============================] - 2s 11ms/step - loss: 0.0100 - val_loss: 0.0098\n",
      "Epoch 48/50\n",
      "235/235 [==============================] - 2s 11ms/step - loss: 0.0101 - val_loss: 0.0098\n",
      "Epoch 49/50\n",
      "235/235 [==============================] - 2s 10ms/step - loss: 0.0101 - val_loss: 0.0097\n",
      "Epoch 50/50\n",
      "235/235 [==============================] - 2s 10ms/step - loss: 0.0100 - val_loss: 0.0097\n"
     ]
    },
    {
     "data": {
      "text/plain": [
       "<tensorflow.python.keras.callbacks.History at 0x7fb8f0d57d30>"
      ]
     },
     "execution_count": 9,
     "metadata": {},
     "output_type": "execute_result"
    }
   ],
   "source": [
    "# Fazendo o Encoder e o Decoder e aplicando a validação cam a base de teste\n",
    "autoencoder.fit(prev_train, prev_train,\n",
    "                epochs = 50,\n",
    "                shuffle=True,\n",
    "                batch_size = 256,\n",
    "                validation_data = (prev_test, prev_test))\n"
   ]
  },
  {
   "cell_type": "markdown",
   "id": "043dd746",
   "metadata": {},
   "source": [
    "# Criando o codificador de imagens"
   ]
  },
  {
   "cell_type": "code",
   "execution_count": 10,
   "id": "7d46dc9c",
   "metadata": {},
   "outputs": [],
   "source": [
    "dimensao_original = Input(shape = (784, ))"
   ]
  },
  {
   "cell_type": "code",
   "execution_count": 11,
   "id": "cd0b72d6",
   "metadata": {},
   "outputs": [],
   "source": [
    "camada_encoder = autoencoder.layers[0]"
   ]
  },
  {
   "cell_type": "code",
   "execution_count": 13,
   "id": "1fc8158b",
   "metadata": {},
   "outputs": [
    {
     "name": "stdout",
     "output_type": "stream",
     "text": [
      "Model: \"model_1\"\n",
      "_________________________________________________________________\n",
      "Layer (type)                 Output Shape              Param #   \n",
      "=================================================================\n",
      "input_1 (InputLayer)         [(None, 784)]             0         \n",
      "_________________________________________________________________\n",
      "dense (Dense)                (None, 32)                25120     \n",
      "=================================================================\n",
      "Total params: 25,120\n",
      "Trainable params: 25,120\n",
      "Non-trainable params: 0\n",
      "_________________________________________________________________\n"
     ]
    }
   ],
   "source": [
    "encoder = Model(dimensao_original, camada_encoder(dimensao_original))\n",
    "encoder.summary()"
   ]
  },
  {
   "cell_type": "code",
   "execution_count": 14,
   "id": "fac9e89d",
   "metadata": {},
   "outputs": [],
   "source": [
    "imagens_code = encoder.predict(prev_test)"
   ]
  },
  {
   "cell_type": "code",
   "execution_count": 16,
   "id": "5746476e",
   "metadata": {},
   "outputs": [
    {
     "data": {
      "text/plain": [
       "(10000, 32)"
      ]
     },
     "execution_count": 16,
     "metadata": {},
     "output_type": "execute_result"
    }
   ],
   "source": [
    "imagens_code.shape"
   ]
  },
  {
   "cell_type": "code",
   "execution_count": null,
   "id": "af70edef",
   "metadata": {},
   "outputs": [],
   "source": []
  }
 ],
 "metadata": {
  "kernelspec": {
   "display_name": "Python 3",
   "language": "python",
   "name": "python3"
  },
  "language_info": {
   "codemirror_mode": {
    "name": "ipython",
    "version": 3
   },
   "file_extension": ".py",
   "mimetype": "text/x-python",
   "name": "python",
   "nbconvert_exporter": "python",
   "pygments_lexer": "ipython3",
   "version": "3.8.5"
  }
 },
 "nbformat": 4,
 "nbformat_minor": 5
}
