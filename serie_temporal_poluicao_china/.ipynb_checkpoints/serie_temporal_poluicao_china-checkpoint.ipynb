{
 "cells": [
  {
   "cell_type": "markdown",
   "id": "7298efff",
   "metadata": {},
   "source": [
    "# Prevendo o nível de poluição do Ar da China (2010 - 2014)\n",
    "### Para isso iremos utilizar uma Rede Neural Recorrente LSTM"
   ]
  },
  {
   "cell_type": "code",
   "execution_count": 1,
   "id": "ce68470f",
   "metadata": {},
   "outputs": [],
   "source": [
    "import numpy as np\n",
    "import pandas as pd\n",
    "from sklearn.model_selection import train_test_split\n",
    "from sklearn.preprocessing import MinMaxScaler"
   ]
  },
  {
   "cell_type": "code",
   "execution_count": 2,
   "id": "557e0492",
   "metadata": {},
   "outputs": [],
   "source": [
    "base = pd.read_csv(\"poluicao.csv\")"
   ]
  },
  {
   "cell_type": "code",
   "execution_count": 3,
   "id": "b1002d13",
   "metadata": {},
   "outputs": [
    {
     "data": {
      "text/plain": [
       "(43824, 13)"
      ]
     },
     "execution_count": 3,
     "metadata": {},
     "output_type": "execute_result"
    }
   ],
   "source": [
    "base.shape"
   ]
  },
  {
   "cell_type": "code",
   "execution_count": 4,
   "id": "e2b239d3",
   "metadata": {},
   "outputs": [],
   "source": [
    "base = base.dropna()"
   ]
  },
  {
   "cell_type": "code",
   "execution_count": 5,
   "id": "ab72ee26",
   "metadata": {},
   "outputs": [
    {
     "data": {
      "text/plain": [
       "(41757, 13)"
      ]
     },
     "execution_count": 5,
     "metadata": {},
     "output_type": "execute_result"
    }
   ],
   "source": [
    "base.shape"
   ]
  },
  {
   "cell_type": "code",
   "execution_count": 6,
   "id": "a0ea5cce",
   "metadata": {},
   "outputs": [
    {
     "data": {
      "text/html": [
       "<div>\n",
       "<style scoped>\n",
       "    .dataframe tbody tr th:only-of-type {\n",
       "        vertical-align: middle;\n",
       "    }\n",
       "\n",
       "    .dataframe tbody tr th {\n",
       "        vertical-align: top;\n",
       "    }\n",
       "\n",
       "    .dataframe thead th {\n",
       "        text-align: right;\n",
       "    }\n",
       "</style>\n",
       "<table border=\"1\" class=\"dataframe\">\n",
       "  <thead>\n",
       "    <tr style=\"text-align: right;\">\n",
       "      <th></th>\n",
       "      <th>No</th>\n",
       "      <th>year</th>\n",
       "      <th>month</th>\n",
       "      <th>day</th>\n",
       "      <th>hour</th>\n",
       "      <th>pm2.5</th>\n",
       "      <th>DEWP</th>\n",
       "      <th>TEMP</th>\n",
       "      <th>PRES</th>\n",
       "      <th>cbwd</th>\n",
       "      <th>Iws</th>\n",
       "      <th>Is</th>\n",
       "      <th>Ir</th>\n",
       "    </tr>\n",
       "  </thead>\n",
       "  <tbody>\n",
       "    <tr>\n",
       "      <th>24</th>\n",
       "      <td>25</td>\n",
       "      <td>2010</td>\n",
       "      <td>1</td>\n",
       "      <td>2</td>\n",
       "      <td>0</td>\n",
       "      <td>129.0</td>\n",
       "      <td>-16</td>\n",
       "      <td>-4.0</td>\n",
       "      <td>1020.0</td>\n",
       "      <td>SE</td>\n",
       "      <td>1.79</td>\n",
       "      <td>0</td>\n",
       "      <td>0</td>\n",
       "    </tr>\n",
       "    <tr>\n",
       "      <th>25</th>\n",
       "      <td>26</td>\n",
       "      <td>2010</td>\n",
       "      <td>1</td>\n",
       "      <td>2</td>\n",
       "      <td>1</td>\n",
       "      <td>148.0</td>\n",
       "      <td>-15</td>\n",
       "      <td>-4.0</td>\n",
       "      <td>1020.0</td>\n",
       "      <td>SE</td>\n",
       "      <td>2.68</td>\n",
       "      <td>0</td>\n",
       "      <td>0</td>\n",
       "    </tr>\n",
       "    <tr>\n",
       "      <th>26</th>\n",
       "      <td>27</td>\n",
       "      <td>2010</td>\n",
       "      <td>1</td>\n",
       "      <td>2</td>\n",
       "      <td>2</td>\n",
       "      <td>159.0</td>\n",
       "      <td>-11</td>\n",
       "      <td>-5.0</td>\n",
       "      <td>1021.0</td>\n",
       "      <td>SE</td>\n",
       "      <td>3.57</td>\n",
       "      <td>0</td>\n",
       "      <td>0</td>\n",
       "    </tr>\n",
       "    <tr>\n",
       "      <th>27</th>\n",
       "      <td>28</td>\n",
       "      <td>2010</td>\n",
       "      <td>1</td>\n",
       "      <td>2</td>\n",
       "      <td>3</td>\n",
       "      <td>181.0</td>\n",
       "      <td>-7</td>\n",
       "      <td>-5.0</td>\n",
       "      <td>1022.0</td>\n",
       "      <td>SE</td>\n",
       "      <td>5.36</td>\n",
       "      <td>1</td>\n",
       "      <td>0</td>\n",
       "    </tr>\n",
       "    <tr>\n",
       "      <th>28</th>\n",
       "      <td>29</td>\n",
       "      <td>2010</td>\n",
       "      <td>1</td>\n",
       "      <td>2</td>\n",
       "      <td>4</td>\n",
       "      <td>138.0</td>\n",
       "      <td>-7</td>\n",
       "      <td>-5.0</td>\n",
       "      <td>1022.0</td>\n",
       "      <td>SE</td>\n",
       "      <td>6.25</td>\n",
       "      <td>2</td>\n",
       "      <td>0</td>\n",
       "    </tr>\n",
       "  </tbody>\n",
       "</table>\n",
       "</div>"
      ],
      "text/plain": [
       "    No  year  month  day  hour  pm2.5  DEWP  TEMP    PRES cbwd   Iws  Is  Ir\n",
       "24  25  2010      1    2     0  129.0   -16  -4.0  1020.0   SE  1.79   0   0\n",
       "25  26  2010      1    2     1  148.0   -15  -4.0  1020.0   SE  2.68   0   0\n",
       "26  27  2010      1    2     2  159.0   -11  -5.0  1021.0   SE  3.57   0   0\n",
       "27  28  2010      1    2     3  181.0    -7  -5.0  1022.0   SE  5.36   1   0\n",
       "28  29  2010      1    2     4  138.0    -7  -5.0  1022.0   SE  6.25   2   0"
      ]
     },
     "execution_count": 6,
     "metadata": {},
     "output_type": "execute_result"
    }
   ],
   "source": [
    "base.head()"
   ]
  },
  {
   "cell_type": "code",
   "execution_count": 7,
   "id": "57d4f1f5",
   "metadata": {},
   "outputs": [],
   "source": [
    "base = base.drop(columns=[\"No\", \"year\", \"day\", \"month\", \"hour\", \"cbwd\"])"
   ]
  },
  {
   "cell_type": "code",
   "execution_count": 8,
   "id": "677cfac3",
   "metadata": {
    "scrolled": true
   },
   "outputs": [
    {
     "data": {
      "text/html": [
       "<div>\n",
       "<style scoped>\n",
       "    .dataframe tbody tr th:only-of-type {\n",
       "        vertical-align: middle;\n",
       "    }\n",
       "\n",
       "    .dataframe tbody tr th {\n",
       "        vertical-align: top;\n",
       "    }\n",
       "\n",
       "    .dataframe thead th {\n",
       "        text-align: right;\n",
       "    }\n",
       "</style>\n",
       "<table border=\"1\" class=\"dataframe\">\n",
       "  <thead>\n",
       "    <tr style=\"text-align: right;\">\n",
       "      <th></th>\n",
       "      <th>pm2.5</th>\n",
       "      <th>DEWP</th>\n",
       "      <th>TEMP</th>\n",
       "      <th>PRES</th>\n",
       "      <th>Iws</th>\n",
       "      <th>Is</th>\n",
       "      <th>Ir</th>\n",
       "    </tr>\n",
       "  </thead>\n",
       "  <tbody>\n",
       "    <tr>\n",
       "      <th>24</th>\n",
       "      <td>129.0</td>\n",
       "      <td>-16</td>\n",
       "      <td>-4.0</td>\n",
       "      <td>1020.0</td>\n",
       "      <td>1.79</td>\n",
       "      <td>0</td>\n",
       "      <td>0</td>\n",
       "    </tr>\n",
       "    <tr>\n",
       "      <th>25</th>\n",
       "      <td>148.0</td>\n",
       "      <td>-15</td>\n",
       "      <td>-4.0</td>\n",
       "      <td>1020.0</td>\n",
       "      <td>2.68</td>\n",
       "      <td>0</td>\n",
       "      <td>0</td>\n",
       "    </tr>\n",
       "    <tr>\n",
       "      <th>26</th>\n",
       "      <td>159.0</td>\n",
       "      <td>-11</td>\n",
       "      <td>-5.0</td>\n",
       "      <td>1021.0</td>\n",
       "      <td>3.57</td>\n",
       "      <td>0</td>\n",
       "      <td>0</td>\n",
       "    </tr>\n",
       "    <tr>\n",
       "      <th>27</th>\n",
       "      <td>181.0</td>\n",
       "      <td>-7</td>\n",
       "      <td>-5.0</td>\n",
       "      <td>1022.0</td>\n",
       "      <td>5.36</td>\n",
       "      <td>1</td>\n",
       "      <td>0</td>\n",
       "    </tr>\n",
       "    <tr>\n",
       "      <th>28</th>\n",
       "      <td>138.0</td>\n",
       "      <td>-7</td>\n",
       "      <td>-5.0</td>\n",
       "      <td>1022.0</td>\n",
       "      <td>6.25</td>\n",
       "      <td>2</td>\n",
       "      <td>0</td>\n",
       "    </tr>\n",
       "  </tbody>\n",
       "</table>\n",
       "</div>"
      ],
      "text/plain": [
       "    pm2.5  DEWP  TEMP    PRES   Iws  Is  Ir\n",
       "24  129.0   -16  -4.0  1020.0  1.79   0   0\n",
       "25  148.0   -15  -4.0  1020.0  2.68   0   0\n",
       "26  159.0   -11  -5.0  1021.0  3.57   0   0\n",
       "27  181.0    -7  -5.0  1022.0  5.36   1   0\n",
       "28  138.0    -7  -5.0  1022.0  6.25   2   0"
      ]
     },
     "execution_count": 8,
     "metadata": {},
     "output_type": "execute_result"
    }
   ],
   "source": [
    "base.head()"
   ]
  },
  {
   "cell_type": "code",
   "execution_count": 9,
   "id": "a9aec0ef",
   "metadata": {},
   "outputs": [
    {
     "data": {
      "text/plain": [
       "(41757, 7)"
      ]
     },
     "execution_count": 9,
     "metadata": {},
     "output_type": "execute_result"
    }
   ],
   "source": [
    "base.shape"
   ]
  },
  {
   "cell_type": "markdown",
   "id": "95e0be15",
   "metadata": {},
   "source": [
    "# Separando a base de traino e a base de teste"
   ]
  },
  {
   "cell_type": "code",
   "execution_count": 10,
   "id": "0e9db6a2",
   "metadata": {},
   "outputs": [],
   "source": [
    "base_train = base.iloc[:27977, :]"
   ]
  },
  {
   "cell_type": "markdown",
   "id": "722e0d6f",
   "metadata": {},
   "source": [
    "### Bse de dados de treinamento"
   ]
  },
  {
   "cell_type": "code",
   "execution_count": 11,
   "id": "f7e5b9ac",
   "metadata": {},
   "outputs": [
    {
     "data": {
      "text/plain": [
       "(27977, 7)"
      ]
     },
     "execution_count": 11,
     "metadata": {},
     "output_type": "execute_result"
    }
   ],
   "source": [
    "base_train.shape"
   ]
  },
  {
   "cell_type": "markdown",
   "id": "b2e8ffb5",
   "metadata": {},
   "source": [
    "### Bse de dados de teste"
   ]
  },
  {
   "cell_type": "markdown",
   "id": "b10e3ad5",
   "metadata": {},
   "source": [
    "# Pré-Processamento dos dados de traino\n",
    "Nessa etapa, vamos colocar os dados de trainamento no formato adquado para ser processado por uma Rede Neural Recorrente"
   ]
  },
  {
   "cell_type": "code",
   "execution_count": 13,
   "id": "f3381f94",
   "metadata": {},
   "outputs": [
    {
     "data": {
      "text/plain": [
       "(27977, 7)"
      ]
     },
     "execution_count": 13,
     "metadata": {},
     "output_type": "execute_result"
    }
   ],
   "source": [
    "base_train = base_train.iloc[:, :].values\n",
    "base_train.shape"
   ]
  },
  {
   "cell_type": "code",
   "execution_count": 14,
   "id": "16876013",
   "metadata": {},
   "outputs": [],
   "source": [
    "# Normalizando os atributos previsores\n",
    "normalizador = MinMaxScaler(feature_range=(0, 1))\n",
    "base_train_norm = normalizador.fit_transform(base_train)"
   ]
  },
  {
   "cell_type": "markdown",
   "id": "e0b8e5ea",
   "metadata": {},
   "source": [
    "## Colocando os dados no formato correto para uma RNN"
   ]
  },
  {
   "cell_type": "code",
   "execution_count": 15,
   "id": "9d3f1c3b",
   "metadata": {},
   "outputs": [],
   "source": [
    "previsores = []\n",
    "pm2_5_real = []\n",
    "for i in range(50, 27977):\n",
    "    previsores.append(base_train_norm[i-50:i, 0:8])\n",
    "    pm2_5_real.append(base_train_norm[i, 0])\n",
    "previsores, pm2_5_real = np.array(previsores), np.array(pm2_5_real)"
   ]
  },
  {
   "cell_type": "code",
   "execution_count": 16,
   "id": "8e562a88",
   "metadata": {},
   "outputs": [
    {
     "data": {
      "text/plain": [
       "(27927, 50, 7)"
      ]
     },
     "execution_count": 16,
     "metadata": {},
     "output_type": "execute_result"
    }
   ],
   "source": [
    "previsores.shape"
   ]
  },
  {
   "cell_type": "code",
   "execution_count": 17,
   "id": "14c9d569",
   "metadata": {},
   "outputs": [
    {
     "data": {
      "text/plain": [
       "(27927,)"
      ]
     },
     "execution_count": 17,
     "metadata": {},
     "output_type": "execute_result"
    }
   ],
   "source": [
    "pm2_5_real.shape"
   ]
  },
  {
   "cell_type": "markdown",
   "id": "e0f13984",
   "metadata": {},
   "source": [
    "# Criando o modelo LSTM utilizando o keras"
   ]
  },
  {
   "cell_type": "code",
   "execution_count": 18,
   "id": "1a0e1206",
   "metadata": {},
   "outputs": [],
   "source": [
    "from keras.models import Sequential\n",
    "from keras.layers import Dense, Dropout, LSTM\n",
    "from keras.callbacks import EarlyStopping, ReduceLROnPlateau, ModelCheckpoint"
   ]
  },
  {
   "cell_type": "code",
   "execution_count": 19,
   "id": "197464bd",
   "metadata": {},
   "outputs": [],
   "source": [
    "regressor = Sequential()\n",
    "\n",
    "regressor.add(LSTM(units=100, return_sequences = True, input_shape = (previsores.shape[1], 7)))\n",
    "regressor.add(Dropout(0.3))\n",
    "\n",
    "regressor.add(LSTM(units = 50, return_sequences = True))\n",
    "regressor.add(Dropout(0.3))\n",
    "\n",
    "regressor.add(LSTM(units = 50, return_sequences = True))\n",
    "regressor.add(Dropout(0.3))\n",
    "\n",
    "regressor.add(LSTM(units = 50))\n",
    "regressor.add(Dropout(0.3))\n",
    "\n",
    "regressor.add(Dense(units = 1, activation = \"linear\"))\n",
    "\n",
    "regressor.compile(optimizer = \"rmsprop\", loss = \"mean_squared_error\",\n",
    "                 metrics = [\"mean_absolute_error\"])"
   ]
  },
  {
   "cell_type": "code",
   "execution_count": 20,
   "id": "d6f1f71a",
   "metadata": {},
   "outputs": [],
   "source": [
    "# Essa classe do keras monitora uma métrica do modelo, caso essa métrica pare de melhorar por uma quantidade\n",
    "# de etapas pré definidas, o modelo para o treinamento\n",
    "\n",
    "es = EarlyStopping(monitor=\"loss\", min_delta=1e-10, patience=10, verbose=1)\n",
    "\n",
    "# -------\n",
    "rlr = ReduceLROnPlateau(monitor=\"loss\", factor=0.2, patience=5, verbose=1)\n",
    "\n",
    "mcp = ModelCheckpoint(filepath=\"pesos_poluicao.h5\", monitor=\"loss\", save_best_only=True)\n"
   ]
  },
  {
   "cell_type": "code",
   "execution_count": 21,
   "id": "d9cfe66b",
   "metadata": {},
   "outputs": [
    {
     "name": "stdout",
     "output_type": "stream",
     "text": [
      "Epoch 1/100\n",
      "873/873 [==============================] - 135s 143ms/step - loss: 0.0076 - mean_absolute_error: 0.0551\n",
      "Epoch 2/100\n",
      "873/873 [==============================] - 130s 148ms/step - loss: 0.0016 - mean_absolute_error: 0.0268\n",
      "Epoch 3/100\n",
      "873/873 [==============================] - 173s 197ms/step - loss: 0.0011 - mean_absolute_error: 0.0221\n",
      "Epoch 4/100\n",
      "873/873 [==============================] - 149s 171ms/step - loss: 9.6227e-04 - mean_absolute_error: 0.0206\n",
      "Epoch 5/100\n",
      "873/873 [==============================] - 122s 140ms/step - loss: 8.8935e-04 - mean_absolute_error: 0.0198\n",
      "Epoch 6/100\n",
      "873/873 [==============================] - 122s 140ms/step - loss: 8.4469e-04 - mean_absolute_error: 0.0190\n",
      "Epoch 7/100\n",
      "873/873 [==============================] - 122s 140ms/step - loss: 9.1880e-04 - mean_absolute_error: 0.0189\n",
      "Epoch 8/100\n",
      "873/873 [==============================] - 123s 141ms/step - loss: 8.4275e-04 - mean_absolute_error: 0.0186\n",
      "Epoch 9/100\n",
      "873/873 [==============================] - 123s 140ms/step - loss: 8.8132e-04 - mean_absolute_error: 0.0185\n",
      "Epoch 10/100\n",
      "873/873 [==============================] - 124s 141ms/step - loss: 8.5343e-04 - mean_absolute_error: 0.0184\n",
      "Epoch 11/100\n",
      "873/873 [==============================] - 123s 141ms/step - loss: 9.4826e-04 - mean_absolute_error: 0.0185\n",
      "Epoch 12/100\n",
      "873/873 [==============================] - 123s 141ms/step - loss: 9.0337e-04 - mean_absolute_error: 0.0180\n",
      "Epoch 13/100\n",
      "873/873 [==============================] - 123s 141ms/step - loss: 8.0588e-04 - mean_absolute_error: 0.0181\n",
      "\n",
      "Epoch 00013: ReduceLROnPlateau reducing learning rate to 0.00020000000949949026.\n",
      "Epoch 14/100\n",
      "873/873 [==============================] - 123s 141ms/step - loss: 8.3039e-04 - mean_absolute_error: 0.0171\n",
      "Epoch 15/100\n",
      "873/873 [==============================] - 123s 141ms/step - loss: 6.9844e-04 - mean_absolute_error: 0.0163\n",
      "Epoch 16/100\n",
      "873/873 [==============================] - 124s 142ms/step - loss: 7.3138e-04 - mean_absolute_error: 0.0164\n",
      "Epoch 17/100\n",
      "873/873 [==============================] - 119s 137ms/step - loss: 7.5209e-04 - mean_absolute_error: 0.0163\n",
      "Epoch 18/100\n",
      "873/873 [==============================] - 118s 135ms/step - loss: 7.6523e-04 - mean_absolute_error: 0.0164\n",
      "Epoch 19/100\n",
      "873/873 [==============================] - 124s 142ms/step - loss: 7.2675e-04 - mean_absolute_error: 0.0160\n",
      "\n",
      "Epoch 00019: ReduceLROnPlateau reducing learning rate to 4.0000001899898055e-05.\n",
      "Epoch 20/100\n",
      "873/873 [==============================] - 124s 142ms/step - loss: 8.1316e-04 - mean_absolute_error: 0.0162\n",
      "Epoch 21/100\n",
      "873/873 [==============================] - 124s 142ms/step - loss: 7.6495e-04 - mean_absolute_error: 0.0162\n",
      "Epoch 22/100\n",
      "873/873 [==============================] - 124s 142ms/step - loss: 7.1036e-04 - mean_absolute_error: 0.0158\n",
      "Epoch 23/100\n",
      "873/873 [==============================] - 124s 142ms/step - loss: 7.2192e-04 - mean_absolute_error: 0.0158\n",
      "Epoch 24/100\n",
      "873/873 [==============================] - 124s 142ms/step - loss: 7.4953e-04 - mean_absolute_error: 0.0159\n",
      "\n",
      "Epoch 00024: ReduceLROnPlateau reducing learning rate to 8.000000525498762e-06.\n",
      "Epoch 25/100\n",
      "873/873 [==============================] - 123s 141ms/step - loss: 6.8741e-04 - mean_absolute_error: 0.0160\n",
      "Epoch 26/100\n",
      "873/873 [==============================] - 124s 142ms/step - loss: 6.7101e-04 - mean_absolute_error: 0.0158\n",
      "Epoch 27/100\n",
      "873/873 [==============================] - 124s 142ms/step - loss: 7.3201e-04 - mean_absolute_error: 0.0160\n",
      "Epoch 28/100\n",
      "873/873 [==============================] - 124s 142ms/step - loss: 6.6932e-04 - mean_absolute_error: 0.0158\n",
      "Epoch 29/100\n",
      "873/873 [==============================] - 123s 141ms/step - loss: 6.8304e-04 - mean_absolute_error: 0.0160\n",
      "\n",
      "Epoch 00029: ReduceLROnPlateau reducing learning rate to 1.6000001778593287e-06.\n",
      "Epoch 30/100\n",
      "873/873 [==============================] - 124s 142ms/step - loss: 8.0647e-04 - mean_absolute_error: 0.0161\n",
      "Epoch 31/100\n",
      "873/873 [==============================] - 124s 142ms/step - loss: 7.1450e-04 - mean_absolute_error: 0.0161\n",
      "Epoch 32/100\n",
      "873/873 [==============================] - 124s 142ms/step - loss: 6.8998e-04 - mean_absolute_error: 0.0159\n",
      "Epoch 33/100\n",
      "873/873 [==============================] - 124s 142ms/step - loss: 7.0553e-04 - mean_absolute_error: 0.0159\n",
      "Epoch 34/100\n",
      "873/873 [==============================] - 124s 142ms/step - loss: 6.8526e-04 - mean_absolute_error: 0.0157\n",
      "\n",
      "Epoch 00034: ReduceLROnPlateau reducing learning rate to 3.200000264769187e-07.\n",
      "Epoch 35/100\n",
      "873/873 [==============================] - 124s 143ms/step - loss: 6.9354e-04 - mean_absolute_error: 0.0159\n",
      "Epoch 36/100\n",
      "873/873 [==============================] - 124s 142ms/step - loss: 6.7539e-04 - mean_absolute_error: 0.0157\n",
      "Epoch 37/100\n",
      "873/873 [==============================] - 125s 143ms/step - loss: 6.8021e-04 - mean_absolute_error: 0.0158\n",
      "Epoch 38/100\n",
      "873/873 [==============================] - 124s 142ms/step - loss: 6.6420e-04 - mean_absolute_error: 0.0158\n",
      "Epoch 39/100\n",
      "873/873 [==============================] - 124s 142ms/step - loss: 7.5400e-04 - mean_absolute_error: 0.0160\n",
      "\n",
      "Epoch 00039: ReduceLROnPlateau reducing learning rate to 6.400000529538374e-08.\n",
      "Epoch 40/100\n",
      "873/873 [==============================] - 124s 142ms/step - loss: 7.6406e-04 - mean_absolute_error: 0.0161\n",
      "Epoch 41/100\n",
      "873/873 [==============================] - 124s 142ms/step - loss: 7.5524e-04 - mean_absolute_error: 0.0161\n",
      "Epoch 42/100\n",
      "873/873 [==============================] - 124s 142ms/step - loss: 6.9026e-04 - mean_absolute_error: 0.0159\n",
      "Epoch 43/100\n",
      "873/873 [==============================] - 124s 142ms/step - loss: 6.7623e-04 - mean_absolute_error: 0.0158\n",
      "Epoch 44/100\n",
      "873/873 [==============================] - 125s 143ms/step - loss: 6.8696e-04 - mean_absolute_error: 0.0157\n",
      "\n",
      "Epoch 00044: ReduceLROnPlateau reducing learning rate to 1.2800001059076749e-08.\n",
      "Epoch 00044: early stopping\n"
     ]
    },
    {
     "data": {
      "text/plain": [
       "<tensorflow.python.keras.callbacks.History at 0x7fe06efcb190>"
      ]
     },
     "execution_count": 21,
     "metadata": {},
     "output_type": "execute_result"
    }
   ],
   "source": [
    "regressor.fit(previsores, pm2_5_real, epochs=100, batch_size=32,\n",
    "             callbacks=[es, rlr, mcp])"
   ]
  },
  {
   "cell_type": "markdown",
   "id": "9d85744d",
   "metadata": {},
   "source": [
    "# Pré processamento da base de teste"
   ]
  },
  {
   "cell_type": "code",
   "execution_count": 22,
   "id": "34966c89",
   "metadata": {},
   "outputs": [],
   "source": [
    "entradas = base[27927:].values"
   ]
  },
  {
   "cell_type": "code",
   "execution_count": 23,
   "id": "3f954d3a",
   "metadata": {},
   "outputs": [
    {
     "data": {
      "text/plain": [
       "13830"
      ]
     },
     "execution_count": 23,
     "metadata": {},
     "output_type": "execute_result"
    }
   ],
   "source": [
    "len(entradas)"
   ]
  },
  {
   "cell_type": "code",
   "execution_count": 24,
   "id": "e0179638",
   "metadata": {},
   "outputs": [],
   "source": [
    "entradas = normalizador.transform(entradas)"
   ]
  },
  {
   "cell_type": "code",
   "execution_count": 26,
   "id": "5559302a",
   "metadata": {},
   "outputs": [],
   "source": [
    "x_teste = []\n",
    "for i in range(50, 13830):\n",
    "    x_teste.append(entradas[i-50:i, 0:8])\n",
    "x_teste = np.array(x_teste)\n"
   ]
  },
  {
   "cell_type": "code",
   "execution_count": null,
   "id": "7e9138df",
   "metadata": {},
   "outputs": [],
   "source": []
  },
  {
   "cell_type": "code",
   "execution_count": 27,
   "id": "7e09f0e7",
   "metadata": {},
   "outputs": [
    {
     "data": {
      "text/plain": [
       "(13780, 50, 7)"
      ]
     },
     "execution_count": 27,
     "metadata": {},
     "output_type": "execute_result"
    }
   ],
   "source": [
    "x_teste.shape"
   ]
  },
  {
   "cell_type": "markdown",
   "id": "004afa4e",
   "metadata": {},
   "source": [
    "# Fazendo as previsões"
   ]
  },
  {
   "cell_type": "code",
   "execution_count": 28,
   "id": "7478085b",
   "metadata": {},
   "outputs": [
    {
     "ename": "ValueError",
     "evalue": "non-broadcastable output operand with shape (13780,1) doesn't match the broadcast shape (13780,7)",
     "output_type": "error",
     "traceback": [
      "\u001b[0;31m---------------------------------------------------------------------------\u001b[0m",
      "\u001b[0;31mValueError\u001b[0m                                Traceback (most recent call last)",
      "\u001b[0;32m<ipython-input-28-69f0a953fd26>\u001b[0m in \u001b[0;36m<module>\u001b[0;34m\u001b[0m\n\u001b[1;32m      1\u001b[0m \u001b[0mprevisoes\u001b[0m \u001b[0;34m=\u001b[0m \u001b[0mregressor\u001b[0m\u001b[0;34m.\u001b[0m\u001b[0mpredict\u001b[0m\u001b[0;34m(\u001b[0m\u001b[0mx_teste\u001b[0m\u001b[0;34m)\u001b[0m\u001b[0;34m\u001b[0m\u001b[0;34m\u001b[0m\u001b[0m\n\u001b[0;32m----> 2\u001b[0;31m \u001b[0mprevisoes\u001b[0m \u001b[0;34m=\u001b[0m \u001b[0mnormalizador\u001b[0m\u001b[0;34m.\u001b[0m\u001b[0minverse_transform\u001b[0m\u001b[0;34m(\u001b[0m\u001b[0mprevisoes\u001b[0m\u001b[0;34m)\u001b[0m\u001b[0;34m\u001b[0m\u001b[0;34m\u001b[0m\u001b[0m\n\u001b[0m",
      "\u001b[0;32m~/Courses/IA/deep_learning_course/venv/lib/python3.8/site-packages/sklearn/preprocessing/_data.py\u001b[0m in \u001b[0;36minverse_transform\u001b[0;34m(self, X)\u001b[0m\n\u001b[1;32m    459\u001b[0m                         force_all_finite=\"allow-nan\")\n\u001b[1;32m    460\u001b[0m \u001b[0;34m\u001b[0m\u001b[0m\n\u001b[0;32m--> 461\u001b[0;31m         \u001b[0mX\u001b[0m \u001b[0;34m-=\u001b[0m \u001b[0mself\u001b[0m\u001b[0;34m.\u001b[0m\u001b[0mmin_\u001b[0m\u001b[0;34m\u001b[0m\u001b[0;34m\u001b[0m\u001b[0m\n\u001b[0m\u001b[1;32m    462\u001b[0m         \u001b[0mX\u001b[0m \u001b[0;34m/=\u001b[0m \u001b[0mself\u001b[0m\u001b[0;34m.\u001b[0m\u001b[0mscale_\u001b[0m\u001b[0;34m\u001b[0m\u001b[0;34m\u001b[0m\u001b[0m\n\u001b[1;32m    463\u001b[0m         \u001b[0;32mreturn\u001b[0m \u001b[0mX\u001b[0m\u001b[0;34m\u001b[0m\u001b[0;34m\u001b[0m\u001b[0m\n",
      "\u001b[0;31mValueError\u001b[0m: non-broadcastable output operand with shape (13780,1) doesn't match the broadcast shape (13780,7)"
     ]
    }
   ],
   "source": [
    "previsoes = regressor.predict(x_teste)\n",
    "previsoes = normalizador.inverse_transform(previsoes)"
   ]
  },
  {
   "cell_type": "code",
   "execution_count": null,
   "id": "1ec41ecb",
   "metadata": {},
   "outputs": [],
   "source": []
  }
 ],
 "metadata": {
  "kernelspec": {
   "display_name": "Python 3",
   "language": "python",
   "name": "python3"
  },
  "language_info": {
   "codemirror_mode": {
    "name": "ipython",
    "version": 3
   },
   "file_extension": ".py",
   "mimetype": "text/x-python",
   "name": "python",
   "nbconvert_exporter": "python",
   "pygments_lexer": "ipython3",
   "version": "3.8.5"
  }
 },
 "nbformat": 4,
 "nbformat_minor": 5
}
