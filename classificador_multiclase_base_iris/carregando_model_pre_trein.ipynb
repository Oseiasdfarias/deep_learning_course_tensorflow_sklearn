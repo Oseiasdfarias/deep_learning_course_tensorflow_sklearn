{
 "cells": [
  {
   "cell_type": "markdown",
   "id": "5654b4ca",
   "metadata": {},
   "source": [
    "# Carregando o modelo íris pré-treinado"
   ]
  },
  {
   "cell_type": "code",
   "execution_count": 1,
   "id": "b431c27c",
   "metadata": {},
   "outputs": [],
   "source": [
    "import numpy as np\n",
    "from keras.models import model_from_json\n"
   ]
  },
  {
   "cell_type": "code",
   "execution_count": 2,
   "id": "762116ef",
   "metadata": {},
   "outputs": [],
   "source": [
    "arquivo = open(\"classificador_iris.json\", \"r\") "
   ]
  },
  {
   "cell_type": "code",
   "execution_count": 3,
   "id": "08a4650c",
   "metadata": {},
   "outputs": [],
   "source": [
    "estrutura_rede = arquivo.read()"
   ]
  },
  {
   "cell_type": "code",
   "execution_count": 4,
   "id": "2b63a040",
   "metadata": {},
   "outputs": [],
   "source": [
    "arquivo.close()"
   ]
  },
  {
   "cell_type": "markdown",
   "id": "0f9081c2",
   "metadata": {},
   "source": [
    "# Definindo o classificador"
   ]
  },
  {
   "cell_type": "code",
   "execution_count": 5,
   "id": "b6ec40b3",
   "metadata": {},
   "outputs": [],
   "source": [
    "classificador = model_from_json(estrutura_rede)"
   ]
  },
  {
   "cell_type": "markdown",
   "id": "b4d576fa",
   "metadata": {},
   "source": [
    "# Carregando os weigths do modelo pré-treinado"
   ]
  },
  {
   "cell_type": "code",
   "execution_count": 6,
   "id": "26757f2d",
   "metadata": {},
   "outputs": [],
   "source": [
    "classificador.load_weights(\"classificador_iris.h5\")"
   ]
  },
  {
   "cell_type": "markdown",
   "id": "5eac85e7",
   "metadata": {},
   "source": [
    "# Teste para classificar apenas um registro"
   ]
  },
  {
   "cell_type": "code",
   "execution_count": 41,
   "id": "b7df4ff9",
   "metadata": {},
   "outputs": [],
   "source": [
    "novo_registro = np.array([[5.1, 3.5, 1.4, 0.2]])\n",
    "novo_registro = np.array([[5.1, 3.5, 1.4, 0.2]])\n",
    "3.2, 4.5, 0.9, 1.1"
   ]
  },
  {
   "cell_type": "code",
   "execution_count": 42,
   "id": "766a462f",
   "metadata": {},
   "outputs": [
    {
     "name": "stdout",
     "output_type": "stream",
     "text": [
      "Iris setosa\n"
     ]
    }
   ],
   "source": [
    "\n",
    "previsao = classificador.predict(novo_registro)\n",
    "previsao = (previsao > 0.5)\n",
    "if previsao[0][0] == True and previsao[0][1] == False and previsao[0][2] == False:\n",
    "    print('Iris setosa')\n",
    "elif previsao[0][0] == False and previsao[0][1] == True and previsao[0][2] == False:\n",
    "    print('Iris virginica')\n",
    "elif previsao[0][0] == False and previsao[0][1] == False and previsao[0][2] == True:\n",
    "    print('Iris versicolor')\n",
    "    \n",
    "\n"
   ]
  },
  {
   "cell_type": "code",
   "execution_count": null,
   "id": "ef4aefb6",
   "metadata": {},
   "outputs": [],
   "source": []
  }
 ],
 "metadata": {
  "kernelspec": {
   "display_name": "Python 3",
   "language": "python",
   "name": "python3"
  },
  "language_info": {
   "codemirror_mode": {
    "name": "ipython",
    "version": 3
   },
   "file_extension": ".py",
   "mimetype": "text/x-python",
   "name": "python",
   "nbconvert_exporter": "python",
   "pygments_lexer": "ipython3",
   "version": "3.8.5"
  }
 },
 "nbformat": 4,
 "nbformat_minor": 5
}
