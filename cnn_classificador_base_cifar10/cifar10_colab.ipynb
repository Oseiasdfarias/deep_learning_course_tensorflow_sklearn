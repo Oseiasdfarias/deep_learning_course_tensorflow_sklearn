{
  "nbformat": 4,
  "nbformat_minor": 5,
  "metadata": {
    "kernelspec": {
      "display_name": "Python 3",
      "language": "python",
      "name": "python3"
    },
    "language_info": {
      "codemirror_mode": {
        "name": "ipython",
        "version": 3
      },
      "file_extension": ".py",
      "mimetype": "text/x-python",
      "name": "python",
      "nbconvert_exporter": "python",
      "pygments_lexer": "ipython3",
      "version": "3.8.5"
    },
    "colab": {
      "name": "cifar10.ipynb",
      "provenance": []
    },
    "accelerator": "GPU"
  },
  "cells": [
    {
      "cell_type": "markdown",
      "metadata": {
        "id": "caa74e52"
      },
      "source": [
        "# Criando uma Rede Neural para o dataset Cifar10"
      ],
      "id": "caa74e52"
    },
    {
      "cell_type": "code",
      "metadata": {
        "id": "16700584"
      },
      "source": [
        "from keras.models import Sequential\n",
        "from keras.layers import Dense, Dropout, Conv2D, Flatten, MaxPool2D\n",
        "from keras.utils import np_utils\n",
        "from keras import datasets\n",
        "from keras.layers.normalization import BatchNormalization\n",
        "import matplotlib.pyplot as plt\n",
        "import numpy as np\n"
      ],
      "id": "16700584",
      "execution_count": 10,
      "outputs": []
    },
    {
      "cell_type": "code",
      "metadata": {
        "id": "f3eb6252"
      },
      "source": [
        "(x_train, y_train), (x_test, y_test) = datasets.cifar10.load_data()"
      ],
      "id": "f3eb6252",
      "execution_count": 11,
      "outputs": []
    },
    {
      "cell_type": "markdown",
      "metadata": {
        "id": "aba30f12"
      },
      "source": [
        " "
      ],
      "id": "aba30f12"
    },
    {
      "cell_type": "code",
      "metadata": {
        "colab": {
          "base_uri": "https://localhost:8080/"
        },
        "id": "cd29bb4b",
        "outputId": "24603151-9312-4b9b-c9a1-6c81e37caf2b"
      },
      "source": [
        "print(x_train.shape)\n",
        "print(x_test.shape)\n",
        "print(y_train.shape)\n",
        "print(y_test.shape)"
      ],
      "id": "cd29bb4b",
      "execution_count": 12,
      "outputs": [
        {
          "output_type": "stream",
          "text": [
            "(50000, 32, 32, 3)\n",
            "(10000, 32, 32, 3)\n",
            "(50000, 1)\n",
            "(10000, 1)\n"
          ],
          "name": "stdout"
        }
      ]
    },
    {
      "cell_type": "markdown",
      "metadata": {
        "id": "aa2a18b8"
      },
      "source": [
        "## Plotando uma exemplo"
      ],
      "id": "aa2a18b8"
    },
    {
      "cell_type": "code",
      "metadata": {
        "colab": {
          "base_uri": "https://localhost:8080/",
          "height": 299
        },
        "id": "5391195a",
        "outputId": "89d25ed8-4751-4f83-d051-4f88942f5b19"
      },
      "source": [
        "plt.imshow(x_train[15], cmap=\"gray\")\n",
        "plt.title(f\"Classe:{y_train[15]}\")"
      ],
      "id": "5391195a",
      "execution_count": 13,
      "outputs": [
        {
          "output_type": "execute_result",
          "data": {
            "text/plain": [
              "Text(0.5, 1.0, 'Classe:[9]')"
            ]
          },
          "metadata": {
            "tags": []
          },
          "execution_count": 13
        },
        {
          "output_type": "display_data",
          "data": {
            "image/png": "[encoded data removed]",
            "text/plain": [
              "<Figure size 432x288 with 1 Axes>"
            ]
          },
          "metadata": {
            "tags": [],
            "needs_background": "light"
          }
        }
      ]
    },
    {
      "cell_type": "markdown",
      "metadata": {
        "id": "62e00620"
      },
      "source": [
        "# Pré-Processamento da base de dados"
      ],
      "id": "62e00620"
    },
    {
      "cell_type": "markdown",
      "metadata": {
        "id": "a0983911"
      },
      "source": [
        "### Normalizando a escala dos valores\n"
      ],
      "id": "a0983911"
    },
    {
      "cell_type": "code",
      "metadata": {
        "colab": {
          "base_uri": "https://localhost:8080/"
        },
        "id": "7991e479",
        "outputId": "ddf82210-9848-42bd-96a6-d1437c242fc3"
      },
      "source": [
        "prev_train = x_train / 255\n",
        "prev_test = x_test / 255\n",
        "\n",
        "print(prev_test)"
      ],
      "id": "7991e479",
      "execution_count": 14,
      "outputs": [
        {
          "output_type": "stream",
          "text": [
            "[[[[0.61960784 0.43921569 0.19215686]\n",
            "   [0.62352941 0.43529412 0.18431373]\n",
            "   [0.64705882 0.45490196 0.2       ]\n",
            "   ...\n",
            "   [0.5372549  0.37254902 0.14117647]\n",
            "   [0.49411765 0.35686275 0.14117647]\n",
            "   [0.45490196 0.33333333 0.12941176]]\n",
            "\n",
            "  [[0.59607843 0.43921569 0.2       ]\n",
            "   [0.59215686 0.43137255 0.15686275]\n",
            "   [0.62352941 0.44705882 0.17647059]\n",
            "   ...\n",
            "   [0.53333333 0.37254902 0.12156863]\n",
            "   [0.49019608 0.35686275 0.1254902 ]\n",
            "   [0.46666667 0.34509804 0.13333333]]\n",
            "\n",
            "  [[0.59215686 0.43137255 0.18431373]\n",
            "   [0.59215686 0.42745098 0.12941176]\n",
            "   [0.61960784 0.43529412 0.14117647]\n",
            "   ...\n",
            "   [0.54509804 0.38431373 0.13333333]\n",
            "   [0.50980392 0.37254902 0.13333333]\n",
            "   [0.47058824 0.34901961 0.12941176]]\n",
            "\n",
            "  ...\n",
            "\n",
            "  [[0.26666667 0.48627451 0.69411765]\n",
            "   [0.16470588 0.39215686 0.58039216]\n",
            "   [0.12156863 0.34509804 0.5372549 ]\n",
            "   ...\n",
            "   [0.14901961 0.38039216 0.57254902]\n",
            "   [0.05098039 0.25098039 0.42352941]\n",
            "   [0.15686275 0.33333333 0.49803922]]\n",
            "\n",
            "  [[0.23921569 0.45490196 0.65882353]\n",
            "   [0.19215686 0.4        0.58039216]\n",
            "   [0.1372549  0.33333333 0.51764706]\n",
            "   ...\n",
            "   [0.10196078 0.32156863 0.50980392]\n",
            "   [0.11372549 0.32156863 0.49411765]\n",
            "   [0.07843137 0.25098039 0.41960784]]\n",
            "\n",
            "  [[0.21176471 0.41960784 0.62745098]\n",
            "   [0.21960784 0.41176471 0.58431373]\n",
            "   [0.17647059 0.34901961 0.51764706]\n",
            "   ...\n",
            "   [0.09411765 0.30196078 0.48627451]\n",
            "   [0.13333333 0.32941176 0.50588235]\n",
            "   [0.08235294 0.2627451  0.43137255]]]\n",
            "\n",
            "\n",
            " [[[0.92156863 0.92156863 0.92156863]\n",
            "   [0.90588235 0.90588235 0.90588235]\n",
            "   [0.90980392 0.90980392 0.90980392]\n",
            "   ...\n",
            "   [0.91372549 0.91372549 0.91372549]\n",
            "   [0.91372549 0.91372549 0.91372549]\n",
            "   [0.90980392 0.90980392 0.90980392]]\n",
            "\n",
            "  [[0.93333333 0.93333333 0.93333333]\n",
            "   [0.92156863 0.92156863 0.92156863]\n",
            "   [0.92156863 0.92156863 0.92156863]\n",
            "   ...\n",
            "   [0.9254902  0.9254902  0.9254902 ]\n",
            "   [0.9254902  0.9254902  0.9254902 ]\n",
            "   [0.92156863 0.92156863 0.92156863]]\n",
            "\n",
            "  [[0.92941176 0.92941176 0.92941176]\n",
            "   [0.91764706 0.91764706 0.91764706]\n",
            "   [0.91764706 0.91764706 0.91764706]\n",
            "   ...\n",
            "   [0.92156863 0.92156863 0.92156863]\n",
            "   [0.92156863 0.92156863 0.92156863]\n",
            "   [0.91764706 0.91764706 0.91764706]]\n",
            "\n",
            "  ...\n",
            "\n",
            "  [[0.34117647 0.38823529 0.34901961]\n",
            "   [0.16862745 0.2        0.14509804]\n",
            "   [0.0745098  0.09019608 0.04313725]\n",
            "   ...\n",
            "   [0.6627451  0.72156863 0.70196078]\n",
            "   [0.71372549 0.77254902 0.75686275]\n",
            "   [0.7372549  0.79215686 0.78823529]]\n",
            "\n",
            "  [[0.32156863 0.37647059 0.32156863]\n",
            "   [0.18039216 0.22352941 0.14117647]\n",
            "   [0.14117647 0.17254902 0.08627451]\n",
            "   ...\n",
            "   [0.68235294 0.74117647 0.71764706]\n",
            "   [0.7254902  0.78431373 0.76862745]\n",
            "   [0.73333333 0.79215686 0.78431373]]\n",
            "\n",
            "  [[0.33333333 0.39607843 0.3254902 ]\n",
            "   [0.24313725 0.29411765 0.18823529]\n",
            "   [0.22745098 0.2627451  0.14901961]\n",
            "   ...\n",
            "   [0.65882353 0.71764706 0.69803922]\n",
            "   [0.70588235 0.76470588 0.74901961]\n",
            "   [0.72941176 0.78431373 0.78039216]]]\n",
            "\n",
            "\n",
            " [[[0.61960784 0.74509804 0.87058824]\n",
            "   [0.61960784 0.73333333 0.85490196]\n",
            "   [0.54509804 0.65098039 0.76078431]\n",
            "   ...\n",
            "   [0.89411765 0.90588235 0.91764706]\n",
            "   [0.92941176 0.9372549  0.95294118]\n",
            "   [0.93333333 0.94509804 0.96470588]]\n",
            "\n",
            "  [[0.66666667 0.78431373 0.89803922]\n",
            "   [0.6745098  0.78039216 0.88627451]\n",
            "   [0.59215686 0.69019608 0.78823529]\n",
            "   ...\n",
            "   [0.90980392 0.90980392 0.9254902 ]\n",
            "   [0.96470588 0.96470588 0.98039216]\n",
            "   [0.96470588 0.96862745 0.98431373]]\n",
            "\n",
            "  [[0.68235294 0.78823529 0.88235294]\n",
            "   [0.69019608 0.78431373 0.87058824]\n",
            "   [0.61568627 0.70196078 0.78039216]\n",
            "   ...\n",
            "   [0.90196078 0.89803922 0.90980392]\n",
            "   [0.98039216 0.97647059 0.98431373]\n",
            "   [0.96078431 0.95686275 0.96862745]]\n",
            "\n",
            "  ...\n",
            "\n",
            "  [[0.12156863 0.15686275 0.17647059]\n",
            "   [0.11764706 0.15294118 0.17254902]\n",
            "   [0.10196078 0.1372549  0.15686275]\n",
            "   ...\n",
            "   [0.14509804 0.15686275 0.18039216]\n",
            "   [0.03529412 0.05098039 0.05490196]\n",
            "   [0.01568627 0.02745098 0.01960784]]\n",
            "\n",
            "  [[0.09019608 0.13333333 0.15294118]\n",
            "   [0.10588235 0.14901961 0.16862745]\n",
            "   [0.09803922 0.14117647 0.16078431]\n",
            "   ...\n",
            "   [0.0745098  0.07843137 0.09411765]\n",
            "   [0.01568627 0.02352941 0.01176471]\n",
            "   [0.01960784 0.02745098 0.01176471]]\n",
            "\n",
            "  [[0.10980392 0.16078431 0.18431373]\n",
            "   [0.11764706 0.16862745 0.19607843]\n",
            "   [0.1254902  0.17647059 0.20392157]\n",
            "   ...\n",
            "   [0.01960784 0.02352941 0.03137255]\n",
            "   [0.01568627 0.01960784 0.01176471]\n",
            "   [0.02745098 0.03137255 0.02745098]]]\n",
            "\n",
            "\n",
            " ...\n",
            "\n",
            "\n",
            " [[[0.07843137 0.05882353 0.04705882]\n",
            "   [0.0745098  0.05490196 0.04313725]\n",
            "   [0.05882353 0.05490196 0.04313725]\n",
            "   ...\n",
            "   [0.03921569 0.03529412 0.02745098]\n",
            "   [0.04705882 0.04313725 0.03529412]\n",
            "   [0.05098039 0.04705882 0.03921569]]\n",
            "\n",
            "  [[0.08235294 0.0627451  0.05098039]\n",
            "   [0.07843137 0.0627451  0.05098039]\n",
            "   [0.07058824 0.06666667 0.04705882]\n",
            "   ...\n",
            "   [0.03921569 0.03529412 0.02745098]\n",
            "   [0.03921569 0.03529412 0.02745098]\n",
            "   [0.04705882 0.04313725 0.03529412]]\n",
            "\n",
            "  [[0.08235294 0.0627451  0.05098039]\n",
            "   [0.08235294 0.06666667 0.04705882]\n",
            "   [0.07843137 0.07058824 0.04313725]\n",
            "   ...\n",
            "   [0.04705882 0.04313725 0.03529412]\n",
            "   [0.04705882 0.04313725 0.03529412]\n",
            "   [0.05098039 0.04705882 0.03921569]]\n",
            "\n",
            "  ...\n",
            "\n",
            "  [[0.12941176 0.09803922 0.05098039]\n",
            "   [0.13333333 0.10196078 0.05882353]\n",
            "   [0.13333333 0.10196078 0.05882353]\n",
            "   ...\n",
            "   [0.10980392 0.09803922 0.20392157]\n",
            "   [0.11372549 0.09803922 0.22745098]\n",
            "   [0.09019608 0.07843137 0.16470588]]\n",
            "\n",
            "  [[0.12941176 0.09803922 0.05490196]\n",
            "   [0.13333333 0.10196078 0.05882353]\n",
            "   [0.13333333 0.10196078 0.05882353]\n",
            "   ...\n",
            "   [0.10588235 0.09411765 0.20392157]\n",
            "   [0.10588235 0.09411765 0.21960784]\n",
            "   [0.09803922 0.08627451 0.18431373]]\n",
            "\n",
            "  [[0.12156863 0.09019608 0.04705882]\n",
            "   [0.1254902  0.09411765 0.05098039]\n",
            "   [0.12941176 0.09803922 0.05490196]\n",
            "   ...\n",
            "   [0.09411765 0.09019608 0.19607843]\n",
            "   [0.10196078 0.09019608 0.20784314]\n",
            "   [0.09803922 0.07843137 0.18431373]]]\n",
            "\n",
            "\n",
            " [[[0.09803922 0.15686275 0.04705882]\n",
            "   [0.05882353 0.14117647 0.01176471]\n",
            "   [0.09019608 0.16078431 0.07058824]\n",
            "   ...\n",
            "   [0.23921569 0.32156863 0.30588235]\n",
            "   [0.36078431 0.44313725 0.43921569]\n",
            "   [0.29411765 0.34901961 0.36078431]]\n",
            "\n",
            "  [[0.04705882 0.09803922 0.02352941]\n",
            "   [0.07843137 0.14509804 0.02745098]\n",
            "   [0.09411765 0.14117647 0.05882353]\n",
            "   ...\n",
            "   [0.45098039 0.5254902  0.54117647]\n",
            "   [0.58431373 0.65882353 0.69411765]\n",
            "   [0.40784314 0.45882353 0.51372549]]\n",
            "\n",
            "  [[0.04705882 0.09803922 0.04313725]\n",
            "   [0.05882353 0.11372549 0.02352941]\n",
            "   [0.13333333 0.15686275 0.09411765]\n",
            "   ...\n",
            "   [0.60392157 0.6745098  0.71372549]\n",
            "   [0.61568627 0.68627451 0.75294118]\n",
            "   [0.45490196 0.50588235 0.59215686]]\n",
            "\n",
            "  ...\n",
            "\n",
            "  [[0.39215686 0.50588235 0.31764706]\n",
            "   [0.40392157 0.51764706 0.32941176]\n",
            "   [0.40784314 0.5254902  0.3372549 ]\n",
            "   ...\n",
            "   [0.38039216 0.50196078 0.32941176]\n",
            "   [0.38431373 0.49411765 0.32941176]\n",
            "   [0.35686275 0.4745098  0.30980392]]\n",
            "\n",
            "  [[0.40392157 0.51764706 0.3254902 ]\n",
            "   [0.40784314 0.51372549 0.3254902 ]\n",
            "   [0.41960784 0.52941176 0.34117647]\n",
            "   ...\n",
            "   [0.39607843 0.51764706 0.34117647]\n",
            "   [0.38823529 0.49803922 0.32941176]\n",
            "   [0.36078431 0.4745098  0.30980392]]\n",
            "\n",
            "  [[0.37254902 0.49411765 0.30588235]\n",
            "   [0.37254902 0.48235294 0.29803922]\n",
            "   [0.39607843 0.50196078 0.31764706]\n",
            "   ...\n",
            "   [0.36470588 0.48627451 0.31372549]\n",
            "   [0.37254902 0.48235294 0.31764706]\n",
            "   [0.36078431 0.47058824 0.31372549]]]\n",
            "\n",
            "\n",
            " [[[0.28627451 0.30588235 0.29411765]\n",
            "   [0.38431373 0.40392157 0.44313725]\n",
            "   [0.38823529 0.41568627 0.44705882]\n",
            "   ...\n",
            "   [0.52941176 0.58823529 0.59607843]\n",
            "   [0.52941176 0.58431373 0.60392157]\n",
            "   [0.79607843 0.84313725 0.8745098 ]]\n",
            "\n",
            "  [[0.27058824 0.28627451 0.2745098 ]\n",
            "   [0.32941176 0.34901961 0.38039216]\n",
            "   [0.26666667 0.29411765 0.31764706]\n",
            "   ...\n",
            "   [0.33333333 0.37254902 0.34901961]\n",
            "   [0.27843137 0.32156863 0.31372549]\n",
            "   [0.47058824 0.52156863 0.52941176]]\n",
            "\n",
            "  [[0.27058824 0.28627451 0.2745098 ]\n",
            "   [0.35294118 0.37254902 0.39215686]\n",
            "   [0.24313725 0.27843137 0.29019608]\n",
            "   ...\n",
            "   [0.29019608 0.31764706 0.2745098 ]\n",
            "   [0.20784314 0.24313725 0.21176471]\n",
            "   [0.24313725 0.29019608 0.27058824]]\n",
            "\n",
            "  ...\n",
            "\n",
            "  [[0.48235294 0.50196078 0.37647059]\n",
            "   [0.51764706 0.51764706 0.4       ]\n",
            "   [0.50588235 0.50196078 0.39215686]\n",
            "   ...\n",
            "   [0.42352941 0.41960784 0.34509804]\n",
            "   [0.24313725 0.23529412 0.21568627]\n",
            "   [0.10588235 0.10588235 0.10980392]]\n",
            "\n",
            "  [[0.45098039 0.4745098  0.35686275]\n",
            "   [0.48235294 0.48627451 0.37254902]\n",
            "   [0.50588235 0.49411765 0.38823529]\n",
            "   ...\n",
            "   [0.45098039 0.45490196 0.36862745]\n",
            "   [0.25882353 0.25490196 0.23137255]\n",
            "   [0.10588235 0.10588235 0.10588235]]\n",
            "\n",
            "  [[0.45490196 0.47058824 0.35294118]\n",
            "   [0.4745098  0.47843137 0.36862745]\n",
            "   [0.50588235 0.50196078 0.39607843]\n",
            "   ...\n",
            "   [0.45490196 0.45098039 0.36862745]\n",
            "   [0.26666667 0.25490196 0.22745098]\n",
            "   [0.10588235 0.10196078 0.10196078]]]]\n"
          ],
          "name": "stdout"
        }
      ]
    },
    {
      "cell_type": "markdown",
      "metadata": {
        "id": "672ec6bc"
      },
      "source": [
        "### Transformando as classes em valores tipo dummy"
      ],
      "id": "672ec6bc"
    },
    {
      "cell_type": "code",
      "metadata": {
        "id": "e125445e"
      },
      "source": [
        "class_train = np_utils.to_categorical(y_train, 10)\n",
        "class_test = np_utils.to_categorical(y_test, 10)"
      ],
      "id": "e125445e",
      "execution_count": 15,
      "outputs": []
    },
    {
      "cell_type": "code",
      "metadata": {
        "colab": {
          "base_uri": "https://localhost:8080/"
        },
        "id": "fd319019",
        "outputId": "b3a42ff4-5695-41ce-d8c4-eb1c1031a16d"
      },
      "source": [
        "print(class_test)"
      ],
      "id": "fd319019",
      "execution_count": 16,
      "outputs": [
        {
          "output_type": "stream",
          "text": [
            "[[0. 0. 0. ... 0. 0. 0.]\n",
            " [0. 0. 0. ... 0. 1. 0.]\n",
            " [0. 0. 0. ... 0. 1. 0.]\n",
            " ...\n",
            " [0. 0. 0. ... 0. 0. 0.]\n",
            " [0. 1. 0. ... 0. 0. 0.]\n",
            " [0. 0. 0. ... 1. 0. 0.]]\n"
          ],
          "name": "stdout"
        }
      ]
    },
    {
      "cell_type": "markdown",
      "metadata": {
        "id": "8267bfda"
      },
      "source": [
        "# Criando a estrutura de Rede Neural"
      ],
      "id": "8267bfda"
    },
    {
      "cell_type": "code",
      "metadata": {
        "colab": {
          "base_uri": "https://localhost:8080/"
        },
        "id": "0b4d2c9d",
        "outputId": "649b63ce-33ad-45f4-99d8-5d45e8dc1ded"
      },
      "source": [
        "# Instanciando a estrutura de rede neural\n",
        "classificador = Sequential()\n",
        "classificador.add(Conv2D(32, (3, 3), input_shape=(32, 32, 3),padding=\"same\", activation=\"relu\"))\n",
        "classificador.add(Dropout(0.2))\n",
        "classificador.add(BatchNormalization())\n",
        "classificador.add(MaxPool2D(pool_size=(2, 2),strides=2, padding=\"valid\"))\n",
        "\n",
        "classificador.add(Conv2D(64, (3, 3),padding=\"same\", activation=\"relu\"))\n",
        "classificador.add(Dropout(0.2))\n",
        "classificador.add(BatchNormalization())\n",
        "classificador.add(MaxPool2D(pool_size=(2, 2),strides=2, padding=\"valid\"))\n",
        "\n",
        "classificador.add(Conv2D(128, (3, 3),padding=\"same\", activation=\"relu\"))\n",
        "classificador.add(Dropout(0.2))\n",
        "classificador.add(BatchNormalization())\n",
        "classificador.add(MaxPool2D(pool_size=(2, 2),strides=2, padding=\"valid\"))\n",
        "\n",
        "# Adicionando a camada de flatten necessária para conectar a rede neural convolucional as camadas densas de uma\n",
        "# rede neural densa\n",
        "classificador.add(Flatten())\n",
        "\n",
        "# Adicionando as camadas densas da rede\n",
        "classificador.add(Dense(units=128, activation=\"relu\"))\n",
        "classificador.add(Dropout(0.2))\n",
        "classificador.add(Dense(units=128, activation=\"relu\"))\n",
        "classificador.add(Dropout(0.2))\n",
        "classificador.add(Dense(units=10, activation=\"softmax\"))\n",
        "\n",
        "# compilando o modelo\n",
        "classificador.compile(loss=\"categorical_crossentropy\",\n",
        "                      optimizer=\"adam\",\n",
        "                      metrics=[\"accuracy\"])\n",
        "\n",
        "\n",
        "classificador.summary()"
      ],
      "id": "0b4d2c9d",
      "execution_count": 22,
      "outputs": [
        {
          "output_type": "stream",
          "text": [
            "Model: \"sequential_3\"\n",
            "_________________________________________________________________\n",
            "Layer (type)                 Output Shape              Param #   \n",
            "=================================================================\n",
            "conv2d_7 (Conv2D)            (None, 32, 32, 32)        896       \n",
            "_________________________________________________________________\n",
            "dropout_13 (Dropout)         (None, 32, 32, 32)        0         \n",
            "_________________________________________________________________\n",
            "batch_normalization_7 (Batch (None, 32, 32, 32)        128       \n",
            "_________________________________________________________________\n",
            "max_pooling2d_7 (MaxPooling2 (None, 16, 16, 32)        0         \n",
            "_________________________________________________________________\n",
            "conv2d_8 (Conv2D)            (None, 16, 16, 64)        18496     \n",
            "_________________________________________________________________\n",
            "dropout_14 (Dropout)         (None, 16, 16, 64)        0         \n",
            "_________________________________________________________________\n",
            "batch_normalization_8 (Batch (None, 16, 16, 64)        256       \n",
            "_________________________________________________________________\n",
            "max_pooling2d_8 (MaxPooling2 (None, 8, 8, 64)          0         \n",
            "_________________________________________________________________\n",
            "conv2d_9 (Conv2D)            (None, 8, 8, 128)         73856     \n",
            "_________________________________________________________________\n",
            "dropout_15 (Dropout)         (None, 8, 8, 128)         0         \n",
            "_________________________________________________________________\n",
            "batch_normalization_9 (Batch (None, 8, 8, 128)         512       \n",
            "_________________________________________________________________\n",
            "max_pooling2d_9 (MaxPooling2 (None, 4, 4, 128)         0         \n",
            "_________________________________________________________________\n",
            "flatten_3 (Flatten)          (None, 2048)              0         \n",
            "_________________________________________________________________\n",
            "dense_9 (Dense)              (None, 128)               262272    \n",
            "_________________________________________________________________\n",
            "dropout_16 (Dropout)         (None, 128)               0         \n",
            "_________________________________________________________________\n",
            "dense_10 (Dense)             (None, 128)               16512     \n",
            "_________________________________________________________________\n",
            "dropout_17 (Dropout)         (None, 128)               0         \n",
            "_________________________________________________________________\n",
            "dense_11 (Dense)             (None, 10)                1290      \n",
            "=================================================================\n",
            "Total params: 374,218\n",
            "Trainable params: 373,770\n",
            "Non-trainable params: 448\n",
            "_________________________________________________________________\n"
          ],
          "name": "stdout"
        }
      ]
    },
    {
      "cell_type": "code",
      "metadata": {
        "colab": {
          "base_uri": "https://localhost:8080/"
        },
        "id": "3a9a522f",
        "outputId": "454ab01a-929a-4a4d-a940-d3e488fffd51"
      },
      "source": [
        "# Treinando o modelo\n",
        "classificador.fit(prev_train,\n",
        "                  class_train,\n",
        "                  batch_size=128,\n",
        "                  epochs=15,\n",
        "                  validation_data=(prev_test, class_test))"
      ],
      "id": "3a9a522f",
      "execution_count": 23,
      "outputs": [
        {
          "output_type": "stream",
          "text": [
            "Epoch 1/15\n",
            "391/391 [==============================] - 9s 21ms/step - loss: 1.8343 - accuracy: 0.3469 - val_loss: 2.1496 - val_accuracy: 0.2932\n",
            "Epoch 2/15\n",
            "391/391 [==============================] - 8s 20ms/step - loss: 1.1973 - accuracy: 0.5742 - val_loss: 1.0962 - val_accuracy: 0.6131\n",
            "Epoch 3/15\n",
            "391/391 [==============================] - 8s 20ms/step - loss: 0.9814 - accuracy: 0.6579 - val_loss: 1.5264 - val_accuracy: 0.5176\n",
            "Epoch 4/15\n",
            "391/391 [==============================] - 8s 20ms/step - loss: 0.8656 - accuracy: 0.6988 - val_loss: 1.0098 - val_accuracy: 0.6533\n",
            "Epoch 5/15\n",
            "391/391 [==============================] - 8s 20ms/step - loss: 0.7781 - accuracy: 0.7329 - val_loss: 1.5175 - val_accuracy: 0.5231\n",
            "Epoch 6/15\n",
            "391/391 [==============================] - 8s 20ms/step - loss: 0.7113 - accuracy: 0.7528 - val_loss: 0.7825 - val_accuracy: 0.7291\n",
            "Epoch 7/15\n",
            "391/391 [==============================] - 8s 20ms/step - loss: 0.6520 - accuracy: 0.7743 - val_loss: 0.8102 - val_accuracy: 0.7221\n",
            "Epoch 8/15\n",
            "391/391 [==============================] - 8s 20ms/step - loss: 0.6094 - accuracy: 0.7890 - val_loss: 1.0738 - val_accuracy: 0.6403\n",
            "Epoch 9/15\n",
            "391/391 [==============================] - 8s 20ms/step - loss: 0.5720 - accuracy: 0.8012 - val_loss: 0.8328 - val_accuracy: 0.7116\n",
            "Epoch 10/15\n",
            "391/391 [==============================] - 8s 20ms/step - loss: 0.5220 - accuracy: 0.8182 - val_loss: 0.8311 - val_accuracy: 0.7141\n",
            "Epoch 11/15\n",
            "391/391 [==============================] - 8s 20ms/step - loss: 0.4957 - accuracy: 0.8275 - val_loss: 0.7675 - val_accuracy: 0.7459\n",
            "Epoch 12/15\n",
            "391/391 [==============================] - 8s 20ms/step - loss: 0.4629 - accuracy: 0.8386 - val_loss: 0.7350 - val_accuracy: 0.7528\n",
            "Epoch 13/15\n",
            "391/391 [==============================] - 8s 20ms/step - loss: 0.4402 - accuracy: 0.8457 - val_loss: 0.7454 - val_accuracy: 0.7507\n",
            "Epoch 14/15\n",
            "391/391 [==============================] - 8s 20ms/step - loss: 0.4277 - accuracy: 0.8511 - val_loss: 0.8408 - val_accuracy: 0.7332\n",
            "Epoch 15/15\n",
            "391/391 [==============================] - 8s 20ms/step - loss: 0.4001 - accuracy: 0.8576 - val_loss: 0.7609 - val_accuracy: 0.7478\n"
          ],
          "name": "stdout"
        },
        {
          "output_type": "execute_result",
          "data": {
            "text/plain": [
              "<tensorflow.python.keras.callbacks.History at 0x7f6789eb3a50>"
            ]
          },
          "metadata": {
            "tags": []
          },
          "execution_count": 23
        }
      ]
    },
    {
      "cell_type": "code",
      "metadata": {
        "id": "XOj3k05ZUqes"
      },
      "source": [
        ""
      ],
      "id": "XOj3k05ZUqes",
      "execution_count": null,
      "outputs": []
    }
  ]
}