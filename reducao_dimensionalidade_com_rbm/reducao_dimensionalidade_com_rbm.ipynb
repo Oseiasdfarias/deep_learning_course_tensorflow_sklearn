{
 "cells": [
  {
   "cell_type": "markdown",
   "id": "87d8050e",
   "metadata": {},
   "source": [
    "# Redução de Dimensionalidade usando RBM"
   ]
  },
  {
   "cell_type": "code",
   "execution_count": 19,
   "id": "8ce61071",
   "metadata": {},
   "outputs": [],
   "source": [
    "import numpy as np\n",
    "import matplotlib.pyplot as plt\n",
    "from sklearn import datasets, metrics\n",
    "from sklearn.model_selection import train_test_split\n",
    "from sklearn.preprocessing import MinMaxScaler\n",
    "from sklearn.neural_network import BernoulliRBM\n",
    "from sklearn.naive_bayes import GaussianNB\n",
    "from sklearn.pipeline import Pipeline"
   ]
  },
  {
   "cell_type": "markdown",
   "id": "8d0960d8",
   "metadata": {},
   "source": [
    "## Carregando a base de dados mnist para aplicar a RBM"
   ]
  },
  {
   "cell_type": "code",
   "execution_count": 20,
   "id": "c01ed491",
   "metadata": {},
   "outputs": [],
   "source": [
    "base = datasets.load_digits()"
   ]
  },
  {
   "cell_type": "markdown",
   "id": "9858269e",
   "metadata": {},
   "source": [
    "### Atributos previsores"
   ]
  },
  {
   "cell_type": "code",
   "execution_count": 21,
   "id": "15a31a3b",
   "metadata": {},
   "outputs": [],
   "source": [
    "previsores = np.asanyarray(base.data, \"float32\")"
   ]
  },
  {
   "cell_type": "markdown",
   "id": "72091cb9",
   "metadata": {},
   "source": [
    "### Target das Classes"
   ]
  },
  {
   "cell_type": "code",
   "execution_count": 22,
   "id": "01db69ed",
   "metadata": {},
   "outputs": [],
   "source": [
    "classe = base.target"
   ]
  },
  {
   "cell_type": "markdown",
   "id": "ce599b69",
   "metadata": {},
   "source": [
    "## Normalizando os valores dos atributos previsores"
   ]
  },
  {
   "cell_type": "code",
   "execution_count": 23,
   "id": "90522af0",
   "metadata": {},
   "outputs": [],
   "source": [
    "normalizador = MinMaxScaler(feature_range=(0, 1))"
   ]
  },
  {
   "cell_type": "code",
   "execution_count": 24,
   "id": "8fe82498",
   "metadata": {},
   "outputs": [],
   "source": [
    "previsores = normalizador.fit_transform(previsores)"
   ]
  },
  {
   "cell_type": "markdown",
   "id": "ffa43e17",
   "metadata": {},
   "source": [
    "## Dividindo a base de dados entre base de treinamento e base de teste"
   ]
  },
  {
   "cell_type": "code",
   "execution_count": 25,
   "id": "b49c0338",
   "metadata": {},
   "outputs": [],
   "source": [
    "prev_train, prev_test, class_train, class_test = train_test_split(previsores, classe,\n",
    "                                                                  test_size = 0.2,\n",
    "                                                                  random_state = 0)"
   ]
  },
  {
   "cell_type": "markdown",
   "id": "57d9e528",
   "metadata": {},
   "source": [
    "# Implementação de uma RBM\n",
    "### Usada para dedução de dimensionalidade da base de dados mnist "
   ]
  },
  {
   "cell_type": "code",
   "execution_count": 26,
   "id": "3c89e109",
   "metadata": {},
   "outputs": [],
   "source": [
    "# Instanciando um objeto para criar a RBM\n",
    "rbm = BernoulliRBM(random_state = 0)"
   ]
  },
  {
   "cell_type": "code",
   "execution_count": 27,
   "id": "ab77cb97",
   "metadata": {},
   "outputs": [],
   "source": [
    "# Setando a quantidade de épocas para o modelo treinar\n",
    "rbm.n_iter = 25"
   ]
  },
  {
   "cell_type": "code",
   "execution_count": 28,
   "id": "56fb4246",
   "metadata": {},
   "outputs": [],
   "source": [
    "# Número de neurônios da camada escondida \n",
    "rbm.n_components = 50"
   ]
  },
  {
   "cell_type": "code",
   "execution_count": 29,
   "id": "50447d62",
   "metadata": {},
   "outputs": [],
   "source": [
    "naive_rbm = GaussianNB()"
   ]
  },
  {
   "cell_type": "markdown",
   "id": "7404225a",
   "metadata": {},
   "source": [
    "### Criando o classificador"
   ]
  },
  {
   "cell_type": "code",
   "execution_count": 31,
   "id": "3dca7dc2",
   "metadata": {},
   "outputs": [
    {
     "data": {
      "text/plain": [
       "Pipeline(steps=[('rbm',\n",
       "                 BernoulliRBM(n_components=50, n_iter=25, random_state=0)),\n",
       "                ('naive', GaussianNB())])"
      ]
     },
     "execution_count": 31,
     "metadata": {},
     "output_type": "execute_result"
    }
   ],
   "source": [
    "classificador_rbm = Pipeline(steps = [(\"rbm\", rbm), (\"naive\", naive_rbm)])\n",
    "classificador_rbm.fit(prev_train, class_train)"
   ]
  },
  {
   "cell_type": "code",
   "execution_count": 32,
   "id": "85cd8f9d",
   "metadata": {},
   "outputs": [
    {
     "data": {
      "image/png": "[encoded data removed]",
      "text/plain": [
       "<Figure size 1440x1440 with 50 Axes>"
      ]
     },
     "metadata": {},
     "output_type": "display_data"
    }
   ],
   "source": [
    "plt.figure(figsize = (20, 20))\n",
    "for i, comp in  enumerate(rbm.components_):\n",
    "    plt.subplot(10, 10, i + 1)\n",
    "    plt.imshow(comp.reshape((8, 8)), cmap = plt.cm.gray_r)\n",
    "    plt.xticks(())\n",
    "    plt.yticks(())\n",
    "\n",
    "plt.show()\n",
    "    "
   ]
  },
  {
   "cell_type": "markdown",
   "id": "45eb5627",
   "metadata": {},
   "source": [
    "## Comparativo dos resultados da precisão usando RBM e sem uso de RBM"
   ]
  },
  {
   "cell_type": "code",
   "execution_count": 33,
   "id": "58ca4542",
   "metadata": {},
   "outputs": [],
   "source": [
    "previsores_rbm = classificador_rbm.predict(prev_test)"
   ]
  },
  {
   "cell_type": "code",
   "execution_count": 37,
   "id": "60b8e7a7",
   "metadata": {},
   "outputs": [
    {
     "data": {
      "text/plain": [
       "0.8833333333333333"
      ]
     },
     "execution_count": 37,
     "metadata": {},
     "output_type": "execute_result"
    }
   ],
   "source": [
    "precisao_rbm = metrics.accuracy_score(previsores_rbm, class_test)\n",
    "precisao_rbm"
   ]
  },
  {
   "cell_type": "markdown",
   "id": "4b9bcecc",
   "metadata": {},
   "source": [
    "### Usando o algorítimo Naive Bayes sem redução de dimensionalidade"
   ]
  },
  {
   "cell_type": "code",
   "execution_count": 40,
   "id": "5e6a1dcd",
   "metadata": {},
   "outputs": [],
   "source": [
    "naive_simples = GaussianNB()\n",
    "naive_simples.fit(prev_train, class_train)\n",
    "previsoes_naive = naive_simples.predict(prev_test)"
   ]
  },
  {
   "cell_type": "code",
   "execution_count": 42,
   "id": "e0f66ba0",
   "metadata": {},
   "outputs": [
    {
     "data": {
      "text/plain": [
       "0.8111111111111111"
      ]
     },
     "execution_count": 42,
     "metadata": {},
     "output_type": "execute_result"
    }
   ],
   "source": [
    "presisao_naive = metrics.accuracy_score(previsoes_naive, class_test)\n",
    "presisao_naive"
   ]
  },
  {
   "cell_type": "code",
   "execution_count": null,
   "id": "c09b7de3",
   "metadata": {},
   "outputs": [],
   "source": []
  }
 ],
 "metadata": {
  "kernelspec": {
   "display_name": "Python 3",
   "language": "python",
   "name": "python3"
  },
  "language_info": {
   "codemirror_mode": {
    "name": "ipython",
    "version": 3
   },
   "file_extension": ".py",
   "mimetype": "text/x-python",
   "name": "python",
   "nbconvert_exporter": "python",
   "pygments_lexer": "ipython3",
   "version": "3.8.5"
  }
 },
 "nbformat": 4,
 "nbformat_minor": 5
}
